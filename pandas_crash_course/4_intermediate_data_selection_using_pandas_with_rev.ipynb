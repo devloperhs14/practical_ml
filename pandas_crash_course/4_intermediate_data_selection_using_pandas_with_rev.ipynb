{
 "cells": [
  {
   "cell_type": "markdown",
   "metadata": {
    "id": "enpvIQiaVSXa",
    "jp-MarkdownHeadingCollapsed": true
   },
   "source": [
    "# Intermediate Data Selection With Pandas"
   ]
  },
  {
   "cell_type": "markdown",
   "metadata": {
    "id": "s2ohDILGVYQi"
   },
   "source": [
    "Today we create a new dataframe with dummy values, as earlier one was not fit for current analysis.\n",
    "\n",
    "Thats why a new notebook"
   ]
  },
  {
   "cell_type": "markdown",
   "metadata": {
    "id": "HAxuy1POVt2Y",
    "jp-MarkdownHeadingCollapsed": true
   },
   "source": [
    "# Load Libs & Modules"
   ]
  },
  {
   "cell_type": "code",
   "execution_count": null,
   "metadata": {
    "id": "tVkH-qWjVFzv"
   },
   "outputs": [],
   "source": [
    "import pandas as pd\n",
    "import seaborn as sns\n",
    "import matplotlib.pyplot as plt\n",
    "import numpy as np"
   ]
  },
  {
   "cell_type": "markdown",
   "metadata": {
    "id": "KhrL6MKRV6f2",
    "jp-MarkdownHeadingCollapsed": true
   },
   "source": [
    "# Creating A New DataFrame"
   ]
  },
  {
   "cell_type": "code",
   "execution_count": null,
   "metadata": {
    "id": "3Uy9fQlFV5tG"
   },
   "outputs": [],
   "source": [
    "# create a dummy dataframe with some random values\n",
    "df = pd.DataFrame(\n",
    "    np.random.rand(10,5),\n",
    "    index = list(\"abcdefghif\"),\n",
    "    columns = list(\"ABCDE\"))"
   ]
  },
  {
   "cell_type": "markdown",
   "metadata": {
    "id": "GWa3daU4XFxZ"
   },
   "source": [
    "Understand the code:\n",
    "- `np.random.rand(10,5)` - creates 10 rows with 5 columns filled with random values.\n",
    "\n",
    "- `index` - These are the row index and must be equal to no of rows specified.\n",
    "\n",
    "- `columns` - Though seem like column names, creates columns index and must be equal to no of cols specified.\n",
    "\n",
    "- `list` - creates a list of element\n",
    "\n",
    "- `pd.Dataframe()` - function to create a new dataframe"
   ]
  },
  {
   "cell_type": "code",
   "execution_count": null,
   "metadata": {
    "id": "sFMYJ8hgZgvY",
    "scrolled": true
   },
   "outputs": [],
   "source": [
    "# cumbersome - so a better approach\n",
    "# specify range for row index - only numbers allowed\n",
    "another_df = pd.DataFrame(\n",
    "    np.random.rand(100,5),\n",
    "    index = range(100), # must be value <= no of rows\n",
    "    columns = list(\"ABCDE\"))\n",
    "\n",
    "another_df.head()"
   ]
  },
  {
   "cell_type": "code",
   "execution_count": null,
   "metadata": {
    "id": "Dkd1liFnaKTk"
   },
   "outputs": [],
   "source": [
    "# benifit - you can specify the start and end index for the range\n",
    "# cumbersome - so a better approach\n",
    "# specify range for row index - only numbers allowed\n",
    "\n",
    "another_df = pd.DataFrame(\n",
    "    np.random.rand(100,5),\n",
    "    index = range(10, 110), # diff of start & end index must match no of rows.\n",
    "    columns = list(\"ABCDE\"))\n",
    "\n",
    "another_df"
   ]
  },
  {
   "cell_type": "markdown",
   "metadata": {
    "id": "2Jrc50g2cjr1"
   },
   "source": [
    "How to Fix It\n",
    "\n",
    "1. Match the Number of Rows and Index Length: Either change the number of row in your data to match the row index\n",
    "\n",
    "OR\n",
    "\n",
    "2. Extend the Index to Match the Data: Alternatively, you can change the difference between start and end index values to match the number of rows in your data:"
   ]
  },
  {
   "cell_type": "markdown",
   "metadata": {
    "id": "itxpV6VEYBNx",
    "jp-MarkdownHeadingCollapsed": true
   },
   "source": [
    "# Revision on Exploration of DataFrame Using Pandas"
   ]
  },
  {
   "cell_type": "code",
   "execution_count": null,
   "metadata": {
    "id": "jdTDNjOAW5fi"
   },
   "outputs": [],
   "source": [
    "# check shape\n",
    "df.shape"
   ]
  },
  {
   "cell_type": "code",
   "execution_count": null,
   "metadata": {
    "id": "cdEDtPqcW7tQ"
   },
   "outputs": [],
   "source": [
    "# get cols name\n",
    "df.columns"
   ]
  },
  {
   "cell_type": "code",
   "execution_count": null,
   "metadata": {
    "id": "kbS6_ErIYKSZ"
   },
   "outputs": [],
   "source": [
    "# get information on dataframe cols\n",
    "df.info()"
   ]
  },
  {
   "cell_type": "markdown",
   "metadata": {
    "id": "kDbBfSWsYWDm"
   },
   "source": [
    "OBSERVATION:\n",
    "- 5 columns, each with 10 values (rows).\n",
    "- All are type float64\n",
    "- No null values are present"
   ]
  },
  {
   "cell_type": "code",
   "execution_count": null,
   "metadata": {
    "id": "07ACziAhYTN6"
   },
   "outputs": [],
   "source": [
    "# examine few values\n",
    "df.head()"
   ]
  },
  {
   "cell_type": "markdown",
   "metadata": {
    "id": "9J2n67CpY-_N"
   },
   "source": [
    "- row index - small letters\n",
    "- col index - large letters"
   ]
  },
  {
   "cell_type": "markdown",
   "metadata": {
    "id": "TYBBn5eadbQX",
    "jp-MarkdownHeadingCollapsed": true
   },
   "source": [
    "# Revision on Data Selection Using Pandas"
   ]
  },
  {
   "cell_type": "code",
   "execution_count": null,
   "metadata": {
    "id": "12JHjhyGYuAJ"
   },
   "outputs": [],
   "source": [
    "# get the row index\n",
    "df.index"
   ]
  },
  {
   "cell_type": "code",
   "execution_count": null,
   "metadata": {
    "id": "ni3VlZ_wdn6x"
   },
   "outputs": [],
   "source": [
    "# access values across all the columns in dth indexed row\n",
    "df.loc['d'] # pass in index"
   ]
  },
  {
   "cell_type": "markdown",
   "metadata": {
    "id": "VnVM98bFeHQD"
   },
   "source": [
    "In `df.loc[row_index]` make sure the value in `row_index` is part of index"
   ]
  },
  {
   "cell_type": "code",
   "execution_count": null,
   "metadata": {
    "id": "dFSlutxCd88U"
   },
   "outputs": [],
   "source": [
    "# access values using iloc\n",
    "df.iloc[3] # row index starts from 0"
   ]
  },
  {
   "cell_type": "code",
   "execution_count": null,
   "metadata": {
    "id": "g45jD7Seehxw"
   },
   "outputs": [],
   "source": [
    "# return value of 2rd to 5th indexed column of the 3rd index row\n",
    "# use loc\n",
    "df.loc['c', 'C':'E']"
   ]
  },
  {
   "cell_type": "markdown",
   "metadata": {
    "id": "XILt2JstgfKw"
   },
   "source": [
    "---"
   ]
  },
  {
   "cell_type": "code",
   "execution_count": null,
   "metadata": {
    "id": "GelEJCQyflwc"
   },
   "outputs": [],
   "source": [
    "# return value of 2rd to 5th indexed column of the 3rd index row\n",
    "# use iloc\n",
    "df.iloc[2, 2:6]"
   ]
  },
  {
   "cell_type": "markdown",
   "metadata": {
    "id": "TrlxW8KPfyWU"
   },
   "source": [
    "---"
   ]
  },
  {
   "cell_type": "code",
   "execution_count": null,
   "metadata": {
    "id": "eXaSQrFCfMX1"
   },
   "outputs": [],
   "source": [
    "# return value of the 3rd to rest row for all columns\n",
    "# use loc\n",
    "df.loc['c':, :]"
   ]
  },
  {
   "cell_type": "code",
   "execution_count": null,
   "metadata": {
    "id": "qmYRp7x1eQ10"
   },
   "outputs": [],
   "source": [
    "# return value of the 3rd to rest row for all columns\n",
    "# use iloc\n",
    "df.iloc[2:, :] # row indexing starts at 0"
   ]
  },
  {
   "cell_type": "markdown",
   "metadata": {
    "id": "hv9Is6IvimxX"
   },
   "source": [
    "---"
   ]
  },
  {
   "cell_type": "code",
   "execution_count": null,
   "metadata": {
    "id": "e7i-t1rJgtBq"
   },
   "outputs": [],
   "source": [
    "# return 3rd element of 4th column\n",
    "# use loc\n",
    "df.loc[\"c\", \"D\"]"
   ]
  },
  {
   "cell_type": "code",
   "execution_count": null,
   "metadata": {
    "id": "Gz8pTl78ieTE"
   },
   "outputs": [],
   "source": [
    "# return 3rd element of 4th column\n",
    "# use iloc\n",
    "df.iloc[2, 3]"
   ]
  },
  {
   "cell_type": "markdown",
   "metadata": {
    "id": "T3Yl2MPLjA92"
   },
   "source": [
    "* rows index - [a:0, b:1, c:2]\n",
    "* cols index - [A:0. B:1, C:2, D:3]\n",
    "\n",
    "In iloc both index start with 0"
   ]
  },
  {
   "cell_type": "markdown",
   "metadata": {
    "id": "Vq8NCEjPlgNJ"
   },
   "source": [
    "# Intermediate Analysis - Complex Conditions"
   ]
  },
  {
   "cell_type": "markdown",
   "metadata": {
    "id": "spwlZVW5uWYU",
    "jp-MarkdownHeadingCollapsed": true
   },
   "source": [
    "## Use Lamda Fn"
   ]
  },
  {
   "cell_type": "markdown",
   "metadata": {
    "id": "KHXoiw6bm3wg"
   },
   "source": [
    "- passing fn to loc selector\n",
    "- fn will be anynomus - lambda\n",
    "- helps in writing clean code at cost of understandibility"
   ]
  },
  {
   "cell_type": "markdown",
   "metadata": {
    "id": "TcnLLNcTpU51"
   },
   "source": [
    "Lambda Fn syntax:\n",
    "\n",
    "`lambda iteraor / variable: expression`\n",
    "\n",
    "Example in this case:\n",
    "- `lambda` : Keyword\n",
    "- `df` : variable\n",
    "- `df['c'] > 0.3` : conditional expression.\n",
    "\n",
    "The expression can be of any type\n",
    "- conditional\n",
    "- arthimetatic\n",
    "- boolean\n",
    "- simple"
   ]
  },
  {
   "cell_type": "code",
   "execution_count": 36,
   "metadata": {
    "id": "YHKu6upAiuOZ"
   },
   "outputs": [
    {
     "data": {
      "text/plain": [
       "<function __main__.<lambda>(df)>"
      ]
     },
     "execution_count": 36,
     "metadata": {},
     "output_type": "execute_result"
    }
   ],
   "source": [
    "# create a fn for filtering dataframe, if C column greater than 0.3\n",
    "# act as a selector later on\n",
    "selector1 = lambda df: df['C']>0.3\n",
    "selector1"
   ]
  },
  {
   "cell_type": "code",
   "execution_count": 37,
   "metadata": {
    "id": "Wvr6Oc0xpMev"
   },
   "outputs": [
    {
     "data": {
      "text/html": [
       "<div>\n",
       "<style scoped>\n",
       "    .dataframe tbody tr th:only-of-type {\n",
       "        vertical-align: middle;\n",
       "    }\n",
       "\n",
       "    .dataframe tbody tr th {\n",
       "        vertical-align: top;\n",
       "    }\n",
       "\n",
       "    .dataframe thead th {\n",
       "        text-align: right;\n",
       "    }\n",
       "</style>\n",
       "<table border=\"1\" class=\"dataframe\">\n",
       "  <thead>\n",
       "    <tr style=\"text-align: right;\">\n",
       "      <th></th>\n",
       "      <th>A</th>\n",
       "      <th>B</th>\n",
       "      <th>C</th>\n",
       "      <th>D</th>\n",
       "      <th>E</th>\n",
       "    </tr>\n",
       "  </thead>\n",
       "  <tbody>\n",
       "    <tr>\n",
       "      <th>a</th>\n",
       "      <td>0.310262</td>\n",
       "      <td>0.230804</td>\n",
       "      <td>0.722192</td>\n",
       "      <td>0.793374</td>\n",
       "      <td>0.631912</td>\n",
       "    </tr>\n",
       "    <tr>\n",
       "      <th>b</th>\n",
       "      <td>0.463573</td>\n",
       "      <td>0.038228</td>\n",
       "      <td>0.312213</td>\n",
       "      <td>0.157013</td>\n",
       "      <td>0.334907</td>\n",
       "    </tr>\n",
       "    <tr>\n",
       "      <th>d</th>\n",
       "      <td>0.870100</td>\n",
       "      <td>0.700852</td>\n",
       "      <td>0.757054</td>\n",
       "      <td>0.868370</td>\n",
       "      <td>0.035922</td>\n",
       "    </tr>\n",
       "    <tr>\n",
       "      <th>e</th>\n",
       "      <td>0.897963</td>\n",
       "      <td>0.786304</td>\n",
       "      <td>0.955026</td>\n",
       "      <td>0.364010</td>\n",
       "      <td>0.171953</td>\n",
       "    </tr>\n",
       "    <tr>\n",
       "      <th>f</th>\n",
       "      <td>0.874728</td>\n",
       "      <td>0.112129</td>\n",
       "      <td>0.892224</td>\n",
       "      <td>0.325969</td>\n",
       "      <td>0.393496</td>\n",
       "    </tr>\n",
       "    <tr>\n",
       "      <th>g</th>\n",
       "      <td>0.030989</td>\n",
       "      <td>0.572395</td>\n",
       "      <td>0.621266</td>\n",
       "      <td>0.546421</td>\n",
       "      <td>0.844981</td>\n",
       "    </tr>\n",
       "    <tr>\n",
       "      <th>h</th>\n",
       "      <td>0.511749</td>\n",
       "      <td>0.472104</td>\n",
       "      <td>0.618091</td>\n",
       "      <td>0.691562</td>\n",
       "      <td>0.424876</td>\n",
       "    </tr>\n",
       "  </tbody>\n",
       "</table>\n",
       "</div>"
      ],
      "text/plain": [
       "          A         B         C         D         E\n",
       "a  0.310262  0.230804  0.722192  0.793374  0.631912\n",
       "b  0.463573  0.038228  0.312213  0.157013  0.334907\n",
       "d  0.870100  0.700852  0.757054  0.868370  0.035922\n",
       "e  0.897963  0.786304  0.955026  0.364010  0.171953\n",
       "f  0.874728  0.112129  0.892224  0.325969  0.393496\n",
       "g  0.030989  0.572395  0.621266  0.546421  0.844981\n",
       "h  0.511749  0.472104  0.618091  0.691562  0.424876"
      ]
     },
     "execution_count": 37,
     "metadata": {},
     "output_type": "execute_result"
    }
   ],
   "source": [
    "# use the selector for finding row index based on filter condition (C>0.3)\n",
    "# use loc\n",
    "df.loc[selector1]"
   ]
  },
  {
   "cell_type": "code",
   "execution_count": 38,
   "metadata": {
    "id": "YKVQEs8-qJCZ"
   },
   "outputs": [
    {
     "data": {
      "text/plain": [
       "<function __main__.<lambda>(df)>"
      ]
     },
     "execution_count": 38,
     "metadata": {},
     "output_type": "execute_result"
    }
   ],
   "source": [
    "# chaining multiple colums and conditions\n",
    "selector2 = lambda df: (df['B'] > 0.3) & (df['C'] > 0.3) & (df['E'] < 0.6)\n",
    "selector2"
   ]
  },
  {
   "cell_type": "code",
   "execution_count": 39,
   "metadata": {
    "id": "HK118QidqOZn"
   },
   "outputs": [
    {
     "data": {
      "text/html": [
       "<div>\n",
       "<style scoped>\n",
       "    .dataframe tbody tr th:only-of-type {\n",
       "        vertical-align: middle;\n",
       "    }\n",
       "\n",
       "    .dataframe tbody tr th {\n",
       "        vertical-align: top;\n",
       "    }\n",
       "\n",
       "    .dataframe thead th {\n",
       "        text-align: right;\n",
       "    }\n",
       "</style>\n",
       "<table border=\"1\" class=\"dataframe\">\n",
       "  <thead>\n",
       "    <tr style=\"text-align: right;\">\n",
       "      <th></th>\n",
       "      <th>A</th>\n",
       "      <th>B</th>\n",
       "      <th>C</th>\n",
       "      <th>D</th>\n",
       "      <th>E</th>\n",
       "    </tr>\n",
       "  </thead>\n",
       "  <tbody>\n",
       "    <tr>\n",
       "      <th>d</th>\n",
       "      <td>0.870100</td>\n",
       "      <td>0.700852</td>\n",
       "      <td>0.757054</td>\n",
       "      <td>0.868370</td>\n",
       "      <td>0.035922</td>\n",
       "    </tr>\n",
       "    <tr>\n",
       "      <th>e</th>\n",
       "      <td>0.897963</td>\n",
       "      <td>0.786304</td>\n",
       "      <td>0.955026</td>\n",
       "      <td>0.364010</td>\n",
       "      <td>0.171953</td>\n",
       "    </tr>\n",
       "    <tr>\n",
       "      <th>h</th>\n",
       "      <td>0.511749</td>\n",
       "      <td>0.472104</td>\n",
       "      <td>0.618091</td>\n",
       "      <td>0.691562</td>\n",
       "      <td>0.424876</td>\n",
       "    </tr>\n",
       "  </tbody>\n",
       "</table>\n",
       "</div>"
      ],
      "text/plain": [
       "          A         B         C         D         E\n",
       "d  0.870100  0.700852  0.757054  0.868370  0.035922\n",
       "e  0.897963  0.786304  0.955026  0.364010  0.171953\n",
       "h  0.511749  0.472104  0.618091  0.691562  0.424876"
      ]
     },
     "execution_count": 39,
     "metadata": {},
     "output_type": "execute_result"
    }
   ],
   "source": [
    "# use selector to filter the new df\n",
    "# only return rows which have col B and # > 0.3 and col E < 0.6\n",
    "# use loc\n",
    "df.loc[selector2]"
   ]
  },
  {
   "cell_type": "code",
   "execution_count": 40,
   "metadata": {
    "id": "_uEZiKNKsf8W"
   },
   "outputs": [
    {
     "data": {
      "text/html": [
       "<div>\n",
       "<style scoped>\n",
       "    .dataframe tbody tr th:only-of-type {\n",
       "        vertical-align: middle;\n",
       "    }\n",
       "\n",
       "    .dataframe tbody tr th {\n",
       "        vertical-align: top;\n",
       "    }\n",
       "\n",
       "    .dataframe thead th {\n",
       "        text-align: right;\n",
       "    }\n",
       "</style>\n",
       "<table border=\"1\" class=\"dataframe\">\n",
       "  <thead>\n",
       "    <tr style=\"text-align: right;\">\n",
       "      <th></th>\n",
       "      <th>A</th>\n",
       "      <th>B</th>\n",
       "      <th>C</th>\n",
       "      <th>D</th>\n",
       "      <th>E</th>\n",
       "    </tr>\n",
       "  </thead>\n",
       "  <tbody>\n",
       "    <tr>\n",
       "      <th>d</th>\n",
       "      <td>0.870100</td>\n",
       "      <td>0.700852</td>\n",
       "      <td>0.757054</td>\n",
       "      <td>0.868370</td>\n",
       "      <td>0.035922</td>\n",
       "    </tr>\n",
       "    <tr>\n",
       "      <th>e</th>\n",
       "      <td>0.897963</td>\n",
       "      <td>0.786304</td>\n",
       "      <td>0.955026</td>\n",
       "      <td>0.364010</td>\n",
       "      <td>0.171953</td>\n",
       "    </tr>\n",
       "    <tr>\n",
       "      <th>h</th>\n",
       "      <td>0.511749</td>\n",
       "      <td>0.472104</td>\n",
       "      <td>0.618091</td>\n",
       "      <td>0.691562</td>\n",
       "      <td>0.424876</td>\n",
       "    </tr>\n",
       "  </tbody>\n",
       "</table>\n",
       "</div>"
      ],
      "text/plain": [
       "          A         B         C         D         E\n",
       "d  0.870100  0.700852  0.757054  0.868370  0.035922\n",
       "e  0.897963  0.786304  0.955026  0.364010  0.171953\n",
       "h  0.511749  0.472104  0.618091  0.691562  0.424876"
      ]
     },
     "execution_count": 40,
     "metadata": {},
     "output_type": "execute_result"
    }
   ],
   "source": [
    "# can do it in simple way using all method\n",
    "# only return rows which have col B and # > 0.3 and col E < 0.6\n",
    "selector2 = lambda df: (df[['B', 'C']] > 0.3).all(axis=1) & (df['E'] < 0.6)\n",
    "\n",
    "df.loc[selector2]"
   ]
  },
  {
   "cell_type": "markdown",
   "metadata": {
    "id": "gZY8SGBruaou",
    "jp-MarkdownHeadingCollapsed": true
   },
   "source": [
    "## Use Selector Masks"
   ]
  },
  {
   "cell_type": "markdown",
   "metadata": {
    "id": "GLc-x7VZuc2_"
   },
   "source": [
    "- Selectors are simple expression that returns True or False values\n",
    "\n",
    "- Often conditional operators are used in them# only return rows which have col B and # > 0.3 and col E < 0.6"
   ]
  },
  {
   "cell_type": "code",
   "execution_count": 41,
   "metadata": {
    "id": "wwDL1IDyucPE"
   },
   "outputs": [
    {
     "data": {
      "text/plain": [
       "a    False\n",
       "b    False\n",
       "c    False\n",
       "d     True\n",
       "e     True\n",
       "f    False\n",
       "g    False\n",
       "h     True\n",
       "i    False\n",
       "f    False\n",
       "dtype: bool"
      ]
     },
     "execution_count": 41,
     "metadata": {},
     "output_type": "execute_result"
    }
   ],
   "source": [
    "# only return rows which have col B and C > 0.3 and col E < 0.6\n",
    "selection_condition = (df['B']>0.3) & (df['C']>0.3) & (df['E']<0.6)\n",
    "selection_condition"
   ]
  },
  {
   "cell_type": "markdown",
   "metadata": {
    "id": "bnTtO815v_Mq"
   },
   "source": [
    "this is called mask by the way!"
   ]
  },
  {
   "cell_type": "code",
   "execution_count": 42,
   "metadata": {
    "id": "7uksru9du5bX"
   },
   "outputs": [
    {
     "data": {
      "text/html": [
       "<div>\n",
       "<style scoped>\n",
       "    .dataframe tbody tr th:only-of-type {\n",
       "        vertical-align: middle;\n",
       "    }\n",
       "\n",
       "    .dataframe tbody tr th {\n",
       "        vertical-align: top;\n",
       "    }\n",
       "\n",
       "    .dataframe thead th {\n",
       "        text-align: right;\n",
       "    }\n",
       "</style>\n",
       "<table border=\"1\" class=\"dataframe\">\n",
       "  <thead>\n",
       "    <tr style=\"text-align: right;\">\n",
       "      <th></th>\n",
       "      <th>A</th>\n",
       "      <th>B</th>\n",
       "      <th>C</th>\n",
       "      <th>D</th>\n",
       "      <th>E</th>\n",
       "    </tr>\n",
       "  </thead>\n",
       "  <tbody>\n",
       "    <tr>\n",
       "      <th>d</th>\n",
       "      <td>0.870100</td>\n",
       "      <td>0.700852</td>\n",
       "      <td>0.757054</td>\n",
       "      <td>0.868370</td>\n",
       "      <td>0.035922</td>\n",
       "    </tr>\n",
       "    <tr>\n",
       "      <th>e</th>\n",
       "      <td>0.897963</td>\n",
       "      <td>0.786304</td>\n",
       "      <td>0.955026</td>\n",
       "      <td>0.364010</td>\n",
       "      <td>0.171953</td>\n",
       "    </tr>\n",
       "    <tr>\n",
       "      <th>h</th>\n",
       "      <td>0.511749</td>\n",
       "      <td>0.472104</td>\n",
       "      <td>0.618091</td>\n",
       "      <td>0.691562</td>\n",
       "      <td>0.424876</td>\n",
       "    </tr>\n",
       "  </tbody>\n",
       "</table>\n",
       "</div>"
      ],
      "text/plain": [
       "          A         B         C         D         E\n",
       "d  0.870100  0.700852  0.757054  0.868370  0.035922\n",
       "e  0.897963  0.786304  0.955026  0.364010  0.171953\n",
       "h  0.511749  0.472104  0.618091  0.691562  0.424876"
      ]
     },
     "execution_count": 42,
     "metadata": {},
     "output_type": "execute_result"
    }
   ],
   "source": [
    "df.loc[selection_condition]"
   ]
  },
  {
   "cell_type": "markdown",
   "metadata": {
    "id": "eMyW1HNjvT9M",
    "jp-MarkdownHeadingCollapsed": true
   },
   "source": [
    "## Using Operators"
   ]
  },
  {
   "cell_type": "markdown",
   "metadata": {
    "id": "DyHLXxjivVwG"
   },
   "source": [
    "- | -  OR operator\n",
    "- ~ -  NOT operator"
   ]
  },
  {
   "cell_type": "code",
   "execution_count": 43,
   "metadata": {
    "id": "Mqr62jsSu9pR"
   },
   "outputs": [],
   "source": [
    "# if df[A]> 0.5 or df['B]>0.2, return those rows\n",
    "condition_for_selection = (df['A'] > 0.5) | ~(df['B'] < 0.2)"
   ]
  },
  {
   "cell_type": "code",
   "execution_count": 44,
   "metadata": {
    "id": "CXg4nLH3vkGf"
   },
   "outputs": [
    {
     "data": {
      "text/html": [
       "<div>\n",
       "<style scoped>\n",
       "    .dataframe tbody tr th:only-of-type {\n",
       "        vertical-align: middle;\n",
       "    }\n",
       "\n",
       "    .dataframe tbody tr th {\n",
       "        vertical-align: top;\n",
       "    }\n",
       "\n",
       "    .dataframe thead th {\n",
       "        text-align: right;\n",
       "    }\n",
       "</style>\n",
       "<table border=\"1\" class=\"dataframe\">\n",
       "  <thead>\n",
       "    <tr style=\"text-align: right;\">\n",
       "      <th></th>\n",
       "      <th>A</th>\n",
       "      <th>B</th>\n",
       "      <th>C</th>\n",
       "      <th>D</th>\n",
       "      <th>E</th>\n",
       "    </tr>\n",
       "  </thead>\n",
       "  <tbody>\n",
       "    <tr>\n",
       "      <th>a</th>\n",
       "      <td>0.310262</td>\n",
       "      <td>0.230804</td>\n",
       "      <td>0.722192</td>\n",
       "      <td>0.793374</td>\n",
       "      <td>0.631912</td>\n",
       "    </tr>\n",
       "    <tr>\n",
       "      <th>d</th>\n",
       "      <td>0.870100</td>\n",
       "      <td>0.700852</td>\n",
       "      <td>0.757054</td>\n",
       "      <td>0.868370</td>\n",
       "      <td>0.035922</td>\n",
       "    </tr>\n",
       "    <tr>\n",
       "      <th>e</th>\n",
       "      <td>0.897963</td>\n",
       "      <td>0.786304</td>\n",
       "      <td>0.955026</td>\n",
       "      <td>0.364010</td>\n",
       "      <td>0.171953</td>\n",
       "    </tr>\n",
       "    <tr>\n",
       "      <th>f</th>\n",
       "      <td>0.874728</td>\n",
       "      <td>0.112129</td>\n",
       "      <td>0.892224</td>\n",
       "      <td>0.325969</td>\n",
       "      <td>0.393496</td>\n",
       "    </tr>\n",
       "    <tr>\n",
       "      <th>g</th>\n",
       "      <td>0.030989</td>\n",
       "      <td>0.572395</td>\n",
       "      <td>0.621266</td>\n",
       "      <td>0.546421</td>\n",
       "      <td>0.844981</td>\n",
       "    </tr>\n",
       "    <tr>\n",
       "      <th>h</th>\n",
       "      <td>0.511749</td>\n",
       "      <td>0.472104</td>\n",
       "      <td>0.618091</td>\n",
       "      <td>0.691562</td>\n",
       "      <td>0.424876</td>\n",
       "    </tr>\n",
       "    <tr>\n",
       "      <th>i</th>\n",
       "      <td>0.562309</td>\n",
       "      <td>0.667947</td>\n",
       "      <td>0.118795</td>\n",
       "      <td>0.249100</td>\n",
       "      <td>0.170761</td>\n",
       "    </tr>\n",
       "    <tr>\n",
       "      <th>f</th>\n",
       "      <td>0.209425</td>\n",
       "      <td>0.671576</td>\n",
       "      <td>0.099938</td>\n",
       "      <td>0.130003</td>\n",
       "      <td>0.455119</td>\n",
       "    </tr>\n",
       "  </tbody>\n",
       "</table>\n",
       "</div>"
      ],
      "text/plain": [
       "          A         B         C         D         E\n",
       "a  0.310262  0.230804  0.722192  0.793374  0.631912\n",
       "d  0.870100  0.700852  0.757054  0.868370  0.035922\n",
       "e  0.897963  0.786304  0.955026  0.364010  0.171953\n",
       "f  0.874728  0.112129  0.892224  0.325969  0.393496\n",
       "g  0.030989  0.572395  0.621266  0.546421  0.844981\n",
       "h  0.511749  0.472104  0.618091  0.691562  0.424876\n",
       "i  0.562309  0.667947  0.118795  0.249100  0.170761\n",
       "f  0.209425  0.671576  0.099938  0.130003  0.455119"
      ]
     },
     "execution_count": 44,
     "metadata": {},
     "output_type": "execute_result"
    }
   ],
   "source": [
    "df[condition_for_selection]"
   ]
  },
  {
   "cell_type": "markdown",
   "metadata": {
    "id": "rgzvYZdUJcAH",
    "jp-MarkdownHeadingCollapsed": true
   },
   "source": [
    "# Homework"
   ]
  },
  {
   "cell_type": "markdown",
   "metadata": {
    "id": "KwyrlV4jJfvg"
   },
   "source": [
    "- No homework, just practice whatever present in notebook (including revision section), if anything changes later, will add in github repo"
   ]
  },
  {
   "cell_type": "markdown",
   "metadata": {
    "id": "Hdk-fpsaJ2Z-",
    "jp-MarkdownHeadingCollapsed": true
   },
   "source": [
    "# Resources"
   ]
  },
  {
   "cell_type": "markdown",
   "metadata": {
    "id": "7aKT8y6YJ4nc"
   },
   "source": [
    "* Reference Notebook: [Github](https://github.com/devloperhs14/practical_ml) - notebook name\n",
    "\n",
    "* Pandas Indexing & Selecting Documentation : [Explore methods](https://pandas.pydata.org/pandas-docs/stable/user_guide/indexing.html#different-choices-for-indexing)\n",
    "\n",
    "* Series Playlist: [Youtube](https://youtube.com/playlist?list=PLDfna1ApN44oZsHW1AAxoMkREFWOse7sV&feature=shared)\n",
    "\n",
    "Thanks"
   ]
  },
  {
   "cell_type": "code",
   "execution_count": null,
   "metadata": {
    "id": "TMEW0ZX5vzIO"
   },
   "outputs": [],
   "source": []
  }
 ],
 "metadata": {
  "colab": {
   "provenance": []
  },
  "kernelspec": {
   "display_name": "Python 3 (ipykernel)",
   "language": "python",
   "name": "python3"
  },
  "language_info": {
   "codemirror_mode": {
    "name": "ipython",
    "version": 3
   },
   "file_extension": ".py",
   "mimetype": "text/x-python",
   "name": "python",
   "nbconvert_exporter": "python",
   "pygments_lexer": "ipython3",
   "version": "3.10.15"
  }
 },
 "nbformat": 4,
 "nbformat_minor": 4
}
