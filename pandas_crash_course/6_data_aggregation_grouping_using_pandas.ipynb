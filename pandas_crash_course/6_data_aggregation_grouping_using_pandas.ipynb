{
 "cells": [
  {
   "cell_type": "markdown",
   "metadata": {
    "id": "BFyJSVXMo0T7",
    "jp-MarkdownHeadingCollapsed": true
   },
   "source": [
    "# Data Aggregation"
   ]
  },
  {
   "cell_type": "markdown",
   "metadata": {
    "id": "zhQ0bF_Ko4L0"
   },
   "source": [
    "* Data aggregation refers to summarizing or combining data, such as calculating statistics for different groups.\n",
    "\n",
    "* Aggregating the data (if necessary) by grouping it and computing summary statistics for deeper insights.\n",
    "\n",
    "* Comes under the broader umbrella of Data Manipulation (one of the step in process)\n",
    "\n",
    "* Includes:\n",
    "    - Aggregation\n",
    "    - Grouping"
   ]
  },
  {
   "cell_type": "markdown",
   "metadata": {
    "id": "uNZrjLCAr0kk",
    "jp-MarkdownHeadingCollapsed": true
   },
   "source": [
    "# Creating a Random Data"
   ]
  },
  {
   "cell_type": "code",
   "execution_count": 2,
   "metadata": {
    "id": "ngxav8vZtg3i"
   },
   "outputs": [],
   "source": [
    "import pandas as pd\n",
    "import numpy as np"
   ]
  },
  {
   "cell_type": "code",
   "execution_count": 3,
   "metadata": {
    "id": "b-GCKpQYnwk9"
   },
   "outputs": [
    {
     "data": {
      "text/html": [
       "<div>\n",
       "<style scoped>\n",
       "    .dataframe tbody tr th:only-of-type {\n",
       "        vertical-align: middle;\n",
       "    }\n",
       "\n",
       "    .dataframe tbody tr th {\n",
       "        vertical-align: top;\n",
       "    }\n",
       "\n",
       "    .dataframe thead th {\n",
       "        text-align: right;\n",
       "    }\n",
       "</style>\n",
       "<table border=\"1\" class=\"dataframe\">\n",
       "  <thead>\n",
       "    <tr style=\"text-align: right;\">\n",
       "      <th></th>\n",
       "      <th>CustomerID</th>\n",
       "      <th>Gender</th>\n",
       "      <th>Age</th>\n",
       "      <th>ProductCategory</th>\n",
       "      <th>AmountSpent</th>\n",
       "      <th>PaymentMethod</th>\n",
       "      <th>NumberOfItems</th>\n",
       "    </tr>\n",
       "  </thead>\n",
       "  <tbody>\n",
       "    <tr>\n",
       "      <th>0</th>\n",
       "      <td>1</td>\n",
       "      <td>Male</td>\n",
       "      <td>68</td>\n",
       "      <td>Electronics</td>\n",
       "      <td>8926.52</td>\n",
       "      <td>Credit Card</td>\n",
       "      <td>127</td>\n",
       "    </tr>\n",
       "    <tr>\n",
       "      <th>1</th>\n",
       "      <td>2</td>\n",
       "      <td>Female</td>\n",
       "      <td>57</td>\n",
       "      <td>Toys</td>\n",
       "      <td>16353.82</td>\n",
       "      <td>Credit Card</td>\n",
       "      <td>95</td>\n",
       "    </tr>\n",
       "    <tr>\n",
       "      <th>2</th>\n",
       "      <td>3</td>\n",
       "      <td>Male</td>\n",
       "      <td>24</td>\n",
       "      <td>Electronics</td>\n",
       "      <td>27130.70</td>\n",
       "      <td>Credit Card</td>\n",
       "      <td>122</td>\n",
       "    </tr>\n",
       "    <tr>\n",
       "      <th>3</th>\n",
       "      <td>4</td>\n",
       "      <td>Male</td>\n",
       "      <td>49</td>\n",
       "      <td>Clothing</td>\n",
       "      <td>8577.11</td>\n",
       "      <td>E-wallet</td>\n",
       "      <td>186</td>\n",
       "    </tr>\n",
       "    <tr>\n",
       "      <th>4</th>\n",
       "      <td>5</td>\n",
       "      <td>Male</td>\n",
       "      <td>65</td>\n",
       "      <td>Electronics</td>\n",
       "      <td>1189.25</td>\n",
       "      <td>E-wallet</td>\n",
       "      <td>127</td>\n",
       "    </tr>\n",
       "  </tbody>\n",
       "</table>\n",
       "</div>"
      ],
      "text/plain": [
       "   CustomerID  Gender  Age ProductCategory  AmountSpent PaymentMethod  \\\n",
       "0           1    Male   68     Electronics      8926.52   Credit Card   \n",
       "1           2  Female   57            Toys     16353.82   Credit Card   \n",
       "2           3    Male   24     Electronics     27130.70   Credit Card   \n",
       "3           4    Male   49        Clothing      8577.11      E-wallet   \n",
       "4           5    Male   65     Electronics      1189.25      E-wallet   \n",
       "\n",
       "   NumberOfItems  \n",
       "0            127  \n",
       "1             95  \n",
       "2            122  \n",
       "3            186  \n",
       "4            127  "
      ]
     },
     "execution_count": 3,
     "metadata": {},
     "output_type": "execute_result"
    }
   ],
   "source": [
    "# Set random seed for reproducibility\n",
    "np.random.seed(42)\n",
    "\n",
    "# Define the number of rows\n",
    "n = 10000\n",
    "\n",
    "# Create a synthetic dataset\n",
    "data = {\n",
    "    'CustomerID': np.arange(1, n + 1),\n",
    "    'Gender': np.random.choice(['Male', 'Female'], size=n),\n",
    "    'Age': np.random.randint(18, 70, size=n),\n",
    "    'ProductCategory': np.random.choice(['Electronics', 'Clothing', 'Groceries', 'Sports', 'Toys'], size=n),\n",
    "    'AmountSpent': np.round(np.random.uniform(80, 50000, size=n), 2),\n",
    "    'PaymentMethod': np.random.choice(['Credit Card', 'Debit Card', 'Cash', 'E-wallet'], size=n),\n",
    "    'NumberOfItems': np.random.randint(1, 200, size=n)\n",
    "}\n",
    "\n",
    "# Create the DataFrame\n",
    "sales_df = pd.DataFrame(data)\n",
    "sales_df.head()\n"
   ]
  },
  {
   "cell_type": "code",
   "execution_count": 4,
   "metadata": {
    "id": "2o2NTNk8yLYj"
   },
   "outputs": [
    {
     "data": {
      "text/plain": [
       "(10000, 7)"
      ]
     },
     "execution_count": 4,
     "metadata": {},
     "output_type": "execute_result"
    }
   ],
   "source": [
    "sales_df.shape"
   ]
  },
  {
   "cell_type": "markdown",
   "metadata": {
    "id": "xJ81SGzyuM_l"
   },
   "source": [
    "This is a shop sales data, with 10000 rows (observation) and 7 cols (features)."
   ]
  },
  {
   "cell_type": "markdown",
   "metadata": {
    "id": "5gqiCDhovyEp",
    "jp-MarkdownHeadingCollapsed": true
   },
   "source": [
    "# Aggregation"
   ]
  },
  {
   "cell_type": "markdown",
   "metadata": {
    "id": "W4YABx9C13GS",
    "jp-MarkdownHeadingCollapsed": true
   },
   "source": [
    "## Column Wise"
   ]
  },
  {
   "cell_type": "markdown",
   "metadata": {
    "id": "hSujqh-ov1mZ"
   },
   "source": [
    "Aggregation function can be used to find insights into data. Though we can use `describe` too.\n",
    "\n",
    "* Function includes:  \n",
    "    - mean\n",
    "    - std\n",
    "    - sum\n",
    "    - mode\n",
    "    - variance\n",
    "\n"
   ]
  },
  {
   "cell_type": "markdown",
   "metadata": {
    "id": "RkpFN2ErvnF5"
   },
   "source": [
    "NOTE: All the above function works on numerical data , categorical data don't satisfy"
   ]
  },
  {
   "cell_type": "code",
   "execution_count": 8,
   "metadata": {
    "id": "N0Am-4ALtOBf"
   },
   "outputs": [
    {
     "data": {
      "text/plain": [
       "Age                 43.0\n",
       "AmountSpent      25133.0\n",
       "NumberOfItems      100.0\n",
       "dtype: float64"
      ]
     },
     "execution_count": 8,
     "metadata": {},
     "output_type": "execute_result"
    }
   ],
   "source": [
    "# average age and amount spent\n",
    "sales_df[['Age','AmountSpent', 'NumberOfItems']].mean().round(0)"
   ]
  },
  {
   "cell_type": "markdown",
   "metadata": {
    "id": "QvU1PsYOwbuD"
   },
   "source": [
    "OBSERVATIONs\n",
    "* Average age of buyer is 43 yrs\n",
    "* On an average a customer spend Rs.25.133 per visit.\n",
    "* On an average 100 items were bought.\n",
    "\n",
    "Average seems to be low, lets see the median to find center"
   ]
  },
  {
   "cell_type": "code",
   "execution_count": 9,
   "metadata": {
    "id": "7cjS6vSZv7R6"
   },
   "outputs": [
    {
     "data": {
      "text/plain": [
       "Age                 43.0\n",
       "AmountSpent      25219.0\n",
       "NumberOfItems      100.0\n",
       "dtype: float64"
      ]
     },
     "execution_count": 9,
     "metadata": {},
     "output_type": "execute_result"
    }
   ],
   "source": [
    "# median\n",
    "sales_df[['Age','AmountSpent', 'NumberOfItems']].median().round(0)"
   ]
  },
  {
   "cell_type": "markdown",
   "metadata": {
    "id": "tGSvc6pezaFU"
   },
   "source": [
    "* Some people are spending large amount, so median and mean is getting low"
   ]
  },
  {
   "cell_type": "code",
   "execution_count": 10,
   "metadata": {
    "id": "nyYFKi_wv2yK"
   },
   "outputs": [
    {
     "data": {
      "text/plain": [
       "Age                 15.0\n",
       "AmountSpent      14327.0\n",
       "NumberOfItems       58.0\n",
       "dtype: float64"
      ]
     },
     "execution_count": 10,
     "metadata": {},
     "output_type": "execute_result"
    }
   ],
   "source": [
    "# check standard deviation\n",
    "sales_df[['Age','AmountSpent', 'NumberOfItems']].std().round(0)"
   ]
  },
  {
   "cell_type": "markdown",
   "metadata": {
    "id": "zaQ2jT8Fz4-b"
   },
   "source": [
    "INTERPRETATIONS: (comparing: mean, median, & mode)\n",
    "\n",
    "* Age: The relatively small standard deviation compared to the mean and median indicates that the ages of customers are clustered around the average age.\n",
    "\n",
    "* Amount Spent: The large standard deviation indicates a significant spread in spending behavior, with the mean being considerably lower than the median due to a few high spenders.\n",
    "\n",
    "* Number of Items: The high standard deviation suggests variability in purchasing behavior, which can have implications for inventory management and promotions."
   ]
  },
  {
   "cell_type": "code",
   "execution_count": 13,
   "metadata": {
    "id": "1oc5O8SKzmu-"
   },
   "outputs": [
    {
     "data": {
      "text/plain": [
       "AmountSpent      251331141.0\n",
       "NumberOfItems       995163.0\n",
       "dtype: float64"
      ]
     },
     "execution_count": 13,
     "metadata": {},
     "output_type": "execute_result"
    }
   ],
   "source": [
    "# get sum of all values in specificed column\n",
    "sales_df[['AmountSpent', 'NumberOfItems']].sum().round(0)"
   ]
  },
  {
   "cell_type": "code",
   "execution_count": 16,
   "metadata": {
    "id": "6WbbkeY20tln"
   },
   "outputs": [
    {
     "data": {
      "text/plain": [
       "Age                30.0\n",
       "AmountSpent      6315.2\n",
       "NumberOfItems      81.0\n",
       "Name: 0, dtype: float64"
      ]
     },
     "execution_count": 16,
     "metadata": {},
     "output_type": "execute_result"
    }
   ],
   "source": [
    "# get mode\n",
    "sales_df[['Age','AmountSpent', 'NumberOfItems']].mode().iloc[0]#first mode for each column"
   ]
  },
  {
   "cell_type": "markdown",
   "metadata": {
    "id": "c7u720WG16w8",
    "jp-MarkdownHeadingCollapsed": true
   },
   "source": [
    "## Row Wise"
   ]
  },
  {
   "cell_type": "code",
   "execution_count": 19,
   "metadata": {
    "id": "4pVjs2842IrS"
   },
   "outputs": [
    {
     "data": {
      "text/html": [
       "<div>\n",
       "<style scoped>\n",
       "    .dataframe tbody tr th:only-of-type {\n",
       "        vertical-align: middle;\n",
       "    }\n",
       "\n",
       "    .dataframe tbody tr th {\n",
       "        vertical-align: top;\n",
       "    }\n",
       "\n",
       "    .dataframe thead th {\n",
       "        text-align: right;\n",
       "    }\n",
       "</style>\n",
       "<table border=\"1\" class=\"dataframe\">\n",
       "  <thead>\n",
       "    <tr style=\"text-align: right;\">\n",
       "      <th></th>\n",
       "      <th>Subject1</th>\n",
       "      <th>Subject2</th>\n",
       "      <th>Subject3</th>\n",
       "      <th>Subject4</th>\n",
       "    </tr>\n",
       "  </thead>\n",
       "  <tbody>\n",
       "    <tr>\n",
       "      <th>0</th>\n",
       "      <td>51</td>\n",
       "      <td>92</td>\n",
       "      <td>14</td>\n",
       "      <td>71</td>\n",
       "    </tr>\n",
       "    <tr>\n",
       "      <th>1</th>\n",
       "      <td>60</td>\n",
       "      <td>20</td>\n",
       "      <td>82</td>\n",
       "      <td>86</td>\n",
       "    </tr>\n",
       "    <tr>\n",
       "      <th>2</th>\n",
       "      <td>74</td>\n",
       "      <td>74</td>\n",
       "      <td>87</td>\n",
       "      <td>99</td>\n",
       "    </tr>\n",
       "    <tr>\n",
       "      <th>3</th>\n",
       "      <td>23</td>\n",
       "      <td>2</td>\n",
       "      <td>21</td>\n",
       "      <td>52</td>\n",
       "    </tr>\n",
       "    <tr>\n",
       "      <th>4</th>\n",
       "      <td>1</td>\n",
       "      <td>87</td>\n",
       "      <td>29</td>\n",
       "      <td>37</td>\n",
       "    </tr>\n",
       "  </tbody>\n",
       "</table>\n",
       "</div>"
      ],
      "text/plain": [
       "   Subject1  Subject2  Subject3  Subject4\n",
       "0        51        92        14        71\n",
       "1        60        20        82        86\n",
       "2        74        74        87        99\n",
       "3        23         2        21        52\n",
       "4         1        87        29        37"
      ]
     },
     "execution_count": 19,
     "metadata": {},
     "output_type": "execute_result"
    }
   ],
   "source": [
    "# Set random seed for reproducibility\n",
    "np.random.seed(42)\n",
    "\n",
    "# Define the number of students and subjects\n",
    "num_students = 5\n",
    "num_subjects = 4\n",
    "\n",
    "# Create a DataFrame with random marks (e.g., out of 100)\n",
    "data = np.random.randint(0, 101, size=(num_students, num_subjects))\n",
    "\n",
    "# Random integers between 0 and 100\n",
    "student_marks_df = pd.DataFrame(data, columns=[f'Subject{i+1}' for i in range(num_subjects)])\n",
    "\n",
    "student_marks_df\n"
   ]
  },
  {
   "cell_type": "markdown",
   "metadata": {
    "id": "vaZFxlco3btc"
   },
   "source": [
    "* Calculate mean marks across all subjects (row-wise).\n",
    "\n",
    "* Calculate sum of all the marks across subjects"
   ]
  },
  {
   "cell_type": "code",
   "execution_count": 21,
   "metadata": {
    "id": "o0KkV-fm3bTV"
   },
   "outputs": [
    {
     "data": {
      "text/plain": [
       "0    57.0\n",
       "1    62.0\n",
       "2    83.5\n",
       "3    24.5\n",
       "4    38.5\n",
       "dtype: float64"
      ]
     },
     "execution_count": 21,
     "metadata": {},
     "output_type": "execute_result"
    }
   ],
   "source": [
    "# finding mean row wise\n",
    "student_marks_df.mean(axis = 1)"
   ]
  },
  {
   "cell_type": "code",
   "execution_count": 22,
   "metadata": {
    "id": "tzuvUS7A2ZRt"
   },
   "outputs": [
    {
     "data": {
      "text/plain": [
       "57.0"
      ]
     },
     "execution_count": 22,
     "metadata": {},
     "output_type": "execute_result"
    }
   ],
   "source": [
    "# verification\n",
    "(51+92+14+71)/4 # 1st value"
   ]
  },
  {
   "cell_type": "code",
   "execution_count": 23,
   "metadata": {
    "id": "PfRe1PMK2bU6"
   },
   "outputs": [
    {
     "data": {
      "text/plain": [
       "0    228\n",
       "1    248\n",
       "2    334\n",
       "3     98\n",
       "4    154\n",
       "dtype: int64"
      ]
     },
     "execution_count": 23,
     "metadata": {},
     "output_type": "execute_result"
    }
   ],
   "source": [
    "# get sum\n",
    "student_marks_df.sum(axis = 1)"
   ]
  },
  {
   "cell_type": "code",
   "execution_count": 24,
   "metadata": {
    "id": "f7VKQ1gD4SNY"
   },
   "outputs": [
    {
     "data": {
      "text/plain": [
       "228"
      ]
     },
     "execution_count": 24,
     "metadata": {},
     "output_type": "execute_result"
    }
   ],
   "source": [
    "# verify\n",
    "51+92+14+71"
   ]
  },
  {
   "cell_type": "code",
   "execution_count": 25,
   "metadata": {
    "id": "fJL0f6lQ4aLZ"
   },
   "outputs": [
    {
     "data": {
      "text/plain": [
       "0    1102.000000\n",
       "1     914.666667\n",
       "2     144.333333\n",
       "3     425.666667\n",
       "4    1283.666667\n",
       "dtype: float64"
      ]
     },
     "execution_count": 25,
     "metadata": {},
     "output_type": "execute_result"
    }
   ],
   "source": [
    "# check for variance across rows\n",
    "student_marks_df.var(axis = 1)"
   ]
  },
  {
   "cell_type": "markdown",
   "metadata": {
    "id": "1xw9Wfpz5ALN",
    "jp-MarkdownHeadingCollapsed": true
   },
   "source": [
    "# Grouping"
   ]
  },
  {
   "cell_type": "markdown",
   "metadata": {
    "id": "zOjI6GGB5Cvs"
   },
   "source": [
    "3 Operation\n",
    "* Split: Split dataframe into multiple smaller dataframe based on the key values\n",
    "\n",
    "* Apply: Apply desired functions (aggregation / transformation / manipulation) on each dataframe\n",
    "\n",
    "* Combine: Combine results from apply state into a dataframe\n",
    "\n",
    "The three process combined is called map reduce and applied on very large datasets\n",
    "\n",
    "<br>\n",
    "\n",
    "<u>USAGE</u>\n",
    "\n",
    "Group data based on one or more columns and then apply an aggregation function to summarize the data."
   ]
  },
  {
   "attachments": {
    "fa749324-76fb-470f-8041-7dd940d64dd3.png": {
     "image/png": "[encoded data removed]"
    }
   },
   "cell_type": "markdown",
   "metadata": {
    "id": "V9gOgHKH6pOI"
   },
   "source": [
    "Reference Image: credits : cmdlinetips\n",
    "\n",
    "![image.png](attachment:fa749324-76fb-470f-8041-7dd940d64dd3.png)\n"
   ]
  },
  {
   "cell_type": "markdown",
   "metadata": {
    "id": "EC2ZeLW762HT"
   },
   "source": [
    "STEPS:\n",
    "* Use the unique column value as key\n",
    "* Apply `groupby` method\n",
    "* Apply any aggregation function"
   ]
  },
  {
   "cell_type": "code",
   "execution_count": 26,
   "metadata": {
    "id": "d0Qoh4Wv5mp_"
   },
   "outputs": [
    {
     "data": {
      "text/html": [
       "<div>\n",
       "<style scoped>\n",
       "    .dataframe tbody tr th:only-of-type {\n",
       "        vertical-align: middle;\n",
       "    }\n",
       "\n",
       "    .dataframe tbody tr th {\n",
       "        vertical-align: top;\n",
       "    }\n",
       "\n",
       "    .dataframe thead th {\n",
       "        text-align: right;\n",
       "    }\n",
       "</style>\n",
       "<table border=\"1\" class=\"dataframe\">\n",
       "  <thead>\n",
       "    <tr style=\"text-align: right;\">\n",
       "      <th></th>\n",
       "      <th>CustomerID</th>\n",
       "      <th>Gender</th>\n",
       "      <th>Age</th>\n",
       "      <th>ProductCategory</th>\n",
       "      <th>AmountSpent</th>\n",
       "      <th>PaymentMethod</th>\n",
       "      <th>NumberOfItems</th>\n",
       "    </tr>\n",
       "  </thead>\n",
       "  <tbody>\n",
       "    <tr>\n",
       "      <th>0</th>\n",
       "      <td>1</td>\n",
       "      <td>Male</td>\n",
       "      <td>68</td>\n",
       "      <td>Electronics</td>\n",
       "      <td>8926.52</td>\n",
       "      <td>Credit Card</td>\n",
       "      <td>127</td>\n",
       "    </tr>\n",
       "    <tr>\n",
       "      <th>1</th>\n",
       "      <td>2</td>\n",
       "      <td>Female</td>\n",
       "      <td>57</td>\n",
       "      <td>Toys</td>\n",
       "      <td>16353.82</td>\n",
       "      <td>Credit Card</td>\n",
       "      <td>95</td>\n",
       "    </tr>\n",
       "    <tr>\n",
       "      <th>2</th>\n",
       "      <td>3</td>\n",
       "      <td>Male</td>\n",
       "      <td>24</td>\n",
       "      <td>Electronics</td>\n",
       "      <td>27130.70</td>\n",
       "      <td>Credit Card</td>\n",
       "      <td>122</td>\n",
       "    </tr>\n",
       "    <tr>\n",
       "      <th>3</th>\n",
       "      <td>4</td>\n",
       "      <td>Male</td>\n",
       "      <td>49</td>\n",
       "      <td>Clothing</td>\n",
       "      <td>8577.11</td>\n",
       "      <td>E-wallet</td>\n",
       "      <td>186</td>\n",
       "    </tr>\n",
       "    <tr>\n",
       "      <th>4</th>\n",
       "      <td>5</td>\n",
       "      <td>Male</td>\n",
       "      <td>65</td>\n",
       "      <td>Electronics</td>\n",
       "      <td>1189.25</td>\n",
       "      <td>E-wallet</td>\n",
       "      <td>127</td>\n",
       "    </tr>\n",
       "  </tbody>\n",
       "</table>\n",
       "</div>"
      ],
      "text/plain": [
       "   CustomerID  Gender  Age ProductCategory  AmountSpent PaymentMethod  \\\n",
       "0           1    Male   68     Electronics      8926.52   Credit Card   \n",
       "1           2  Female   57            Toys     16353.82   Credit Card   \n",
       "2           3    Male   24     Electronics     27130.70   Credit Card   \n",
       "3           4    Male   49        Clothing      8577.11      E-wallet   \n",
       "4           5    Male   65     Electronics      1189.25      E-wallet   \n",
       "\n",
       "   NumberOfItems  \n",
       "0            127  \n",
       "1             95  \n",
       "2            122  \n",
       "3            186  \n",
       "4            127  "
      ]
     },
     "execution_count": 26,
     "metadata": {},
     "output_type": "execute_result"
    }
   ],
   "source": [
    "new_sales_df = sales_df.copy()\n",
    "new_sales_df.head()"
   ]
  },
  {
   "cell_type": "code",
   "execution_count": 29,
   "metadata": {
    "id": "ttYvnX3_5B7o"
   },
   "outputs": [
    {
     "data": {
      "text/plain": [
       "24989"
      ]
     },
     "execution_count": 29,
     "metadata": {},
     "output_type": "execute_result"
    }
   ],
   "source": [
    "# find mean amount spend by Males in purchasing\n",
    "total_spent_by_gender = new_sales_df.groupby(\"Gender\")['AmountSpent'].mean()\n",
    "\n",
    "# Get the total amount spent by Males\n",
    "total_spent_males = total_spent_by_gender.get('Female', 0)\n",
    "\n",
    "# Display the result\n",
    "int(total_spent_males)"
   ]
  },
  {
   "cell_type": "markdown",
   "metadata": {
    "id": "B_omc0ex_EQW"
   },
   "source": [
    "UNDERSTANDING CODE\n",
    "* `new_sales_df.groupby(\"Gender\")['AmountSpent'].mean()`\n",
    "\n",
    "    1. We groupby gender on the **AmountSpent** column and calulate **mean**\n",
    "\n",
    "    2. Store it in total_spent_by_gender - this will return a groupby object\n",
    "\n",
    "* `total_spent_by_gender.get('Male', 0)`:\n",
    "    \n",
    "    1. we retrive the total spent by males.\n",
    "    \n",
    "    2. The second argument (0) ensures that if \"Male\" is not found, it returns 0 instead of raising an error.\n",
    "\n",
    "    3. Stores it in **total_spent_males** variable\n",
    "\n",
    "* `int(total_spent_males)` : We display the results\n",
    "    \n",
    "    "
   ]
  },
  {
   "cell_type": "markdown",
   "metadata": {
    "id": "479jh3F--Ov8"
   },
   "source": [
    "SYNTAX:\n",
    "```\n",
    "#1\n",
    "var = df.groupby('col_name_for_grouping')\n",
    "\n",
    "#2\n",
    "var.aggregating operation\n",
    "```\n",
    "\n",
    "\n",
    "```\n",
    "df.groupby('col_name_for_grouping')['col_name'].aggregate_operation\n",
    "\n",
    "```"
   ]
  },
  {
   "cell_type": "markdown",
   "metadata": {
    "jp-MarkdownHeadingCollapsed": true
   },
   "source": [
    "# Homework"
   ]
  },
  {
   "cell_type": "markdown",
   "metadata": {
    "id": "X_NSOgK6Axy1"
   },
   "source": [
    "Aggregation & Grouping + Past Lecture Content Usage\n",
    "\n",
    "Navigate to the [homework link](https://gist.github.com/devloperhs14/d298bd4a84008613aa04d0634eabda7c) and use the code to generate a new dataset (use only once)\n",
    "\n",
    "Then follow the instruction. Once done kindly answer the following questions in **comments**.\n",
    "\n",
    "1. How many unique customers are there in the dataset? (refer documentation)\n",
    "\n",
    "2. How many customers spent more than Rs. 300?\n",
    "\n",
    "3. How much money did each gender spend in total?\n",
    "\n",
    "4. What is the average age of customers for each product category?\n",
    "\n",
    "5. How many customers visited each mall branch?\n",
    "\n",
    "Answering format\n",
    "```\n",
    "1 - ans\n",
    "2 - ans\n",
    "...\n",
    "```\n",
    "\n",
    "\n"
   ]
  },
  {
   "cell_type": "markdown",
   "metadata": {
    "id": "TKSwk6G8D25d",
    "jp-MarkdownHeadingCollapsed": true
   },
   "source": [
    "# Resources"
   ]
  },
  {
   "cell_type": "markdown",
   "metadata": {
    "id": "pWfT2dWmDyg4"
   },
   "source": [
    "if I get enough coments, will make a seperate video on groupby!"
   ]
  },
  {
   "cell_type": "markdown",
   "metadata": {
    "id": "6JK8kYaDD5_-"
   },
   "source": [
    "* Reference Notebook: [Github](https://github.com/devloperhs14/practical_ml) - notebook name\n",
    "\n",
    "* Pandas Groupby Documentation : [Explore methods](https://pandas.pydata.org/pandas-docs/stable/reference/api/pandas.DataFrame.groupby.html)\n",
    "\n",
    "* Series Playlist: [Youtube](https://youtube.com/playlist?list=PLDfna1ApN44oZsHW1AAxoMkREFWOse7sV&feature=shared)\n",
    "\n",
    "Thanks"
   ]
  },
  {
   "cell_type": "code",
   "execution_count": null,
   "metadata": {
    "id": "tTD87Jdl-ONc"
   },
   "outputs": [],
   "source": []
  },
  {
   "cell_type": "code",
   "execution_count": null,
   "metadata": {
    "id": "7SQC5uOo9zO0"
   },
   "outputs": [],
   "source": []
  }
 ],
 "metadata": {
  "colab": {
   "provenance": []
  },
  "kernelspec": {
   "display_name": "Python 3 (ipykernel)",
   "language": "python",
   "name": "python3"
  },
  "language_info": {
   "codemirror_mode": {
    "name": "ipython",
    "version": 3
   },
   "file_extension": ".py",
   "mimetype": "text/x-python",
   "name": "python",
   "nbconvert_exporter": "python",
   "pygments_lexer": "ipython3",
   "version": "3.10.15"
  }
 },
 "nbformat": 4,
 "nbformat_minor": 4
}
