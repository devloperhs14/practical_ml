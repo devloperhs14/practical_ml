{
 "cells": [
  {
   "cell_type": "markdown",
   "metadata": {
    "id": "rzEtt5Pf_Ea5",
    "jp-MarkdownHeadingCollapsed": true
   },
   "source": [
    "#  What Is Data Selection"
   ]
  },
  {
   "cell_type": "markdown",
   "metadata": {
    "id": "yf3ADq4x_JPe"
   },
   "source": [
    "* Data selection refers to the process selecting /accessing desired column, rows or observations.\n",
    "\n",
    "* There are multiple methods to select data , some being simple indexing based and some method based."
   ]
  },
  {
   "cell_type": "markdown",
   "metadata": {
    "id": "TrZvi9dD_5Em",
    "jp-MarkdownHeadingCollapsed": true
   },
   "source": [
    "# Load Data"
   ]
  },
  {
   "cell_type": "code",
   "execution_count": 2,
   "metadata": {
    "id": "e1gBDCFE_trO"
   },
   "outputs": [],
   "source": [
    "# load data\n",
    "from sklearn.datasets import load_diabetes\n",
    "diabetes = load_diabetes(as_frame = True)\n",
    "\n",
    "df = diabetes.data\n",
    "\n",
    "# df.head()"
   ]
  },
  {
   "cell_type": "markdown",
   "metadata": {
    "id": "FsDEKUOIgYq-",
    "jp-MarkdownHeadingCollapsed": true
   },
   "source": [
    "# General Selection - List / Matrix Based"
   ]
  },
  {
   "cell_type": "markdown",
   "metadata": {
    "id": "LfLr4MgK_nIR",
    "jp-MarkdownHeadingCollapsed": true
   },
   "source": [
    "## Print columns of dataframe"
   ]
  },
  {
   "cell_type": "code",
   "execution_count": null,
   "metadata": {
    "id": "LwWtA9m---qe"
   },
   "outputs": [],
   "source": [
    "# print columns\n",
    "df.columns"
   ]
  },
  {
   "cell_type": "markdown",
   "metadata": {
    "id": "KXFGa3ozAQZx",
    "jp-MarkdownHeadingCollapsed": true
   },
   "source": [
    "## Selecting single columns and observation of a dataframe"
   ]
  },
  {
   "cell_type": "code",
   "execution_count": null,
   "metadata": {
    "id": "P_XI0JaaANpe"
   },
   "outputs": [],
   "source": [
    "# select datafram column using indexing\n",
    "df['age']"
   ]
  },
  {
   "cell_type": "markdown",
   "metadata": {
    "id": "gV8oiF-WAhPf"
   },
   "source": [
    "all 442 values in `age` column with a associated index"
   ]
  },
  {
   "cell_type": "code",
   "execution_count": null,
   "metadata": {
    "id": "Eqs1DOgcAZJU"
   },
   "outputs": [],
   "source": [
    "# select datafram column specific value using indexing\n",
    "# value of column1 (age) at index / row 1\n",
    "\n",
    "df['age'][0]"
   ]
  },
  {
   "cell_type": "markdown",
   "metadata": {
    "id": "qkg1geWVA62e"
   },
   "source": [
    "syntax: `df[col_name][row index]`\n",
    "\n",
    "NOTE: Index starts with 0"
   ]
  },
  {
   "cell_type": "code",
   "execution_count": null,
   "metadata": {
    "id": "dEWvwXCwA1ni"
   },
   "outputs": [],
   "source": [
    "# getting subsequent values for a particular column\n",
    "# all 5 values for column bmi (first 10)\n",
    "df['bmi'][:10]\n",
    "\n",
    "# indexing start at 0"
   ]
  },
  {
   "cell_type": "code",
   "execution_count": null,
   "metadata": {
    "id": "4lKtqM15Bbgn"
   },
   "outputs": [],
   "source": [
    "# getting subsequent values for a particular column\n",
    "# all 5 values for column bmi (last 10)\n",
    "df['bmi'][-10:]"
   ]
  },
  {
   "cell_type": "code",
   "execution_count": null,
   "metadata": {
    "id": "RwB7hSbbBt9I"
   },
   "outputs": [],
   "source": [
    "# selecting specific range of values\n",
    "# 150-250 values for column 's1\n",
    "df['s1'][150:250]"
   ]
  },
  {
   "cell_type": "markdown",
   "metadata": {
    "id": "bSxgl9lZCZpG"
   },
   "source": [
    "SYNTAX: `df[col_name][start_index, end_index]`\n",
    "\n",
    "`end_ index` is excluded"
   ]
  },
  {
   "cell_type": "markdown",
   "metadata": {
    "id": "0MtHkQGzDmbm",
    "jp-MarkdownHeadingCollapsed": true
   },
   "source": [
    "## Selecting multiple columns & observation of dataframe"
   ]
  },
  {
   "cell_type": "code",
   "execution_count": null,
   "metadata": {
    "id": "1VnpmCCrCWsK"
   },
   "outputs": [],
   "source": [
    "# select multiple columns\n",
    "# select age, sex and s1\n",
    "\n",
    "df[['age', 'sex', 's1']]"
   ]
  },
  {
   "cell_type": "markdown",
   "metadata": {
    "id": "sxNtqGkPEg0s"
   },
   "source": [
    "SYNTAX: `df[[column_names]]`\n",
    "\n",
    "* 442 rows and 3 columns (features)\n"
   ]
  },
  {
   "cell_type": "code",
   "execution_count": null,
   "metadata": {
    "id": "f3OmKzUrD7oc"
   },
   "outputs": [],
   "source": [
    "# accessing specific values / observation (all will have same)\n",
    "df[['age', 'sex', 's1']][:10]\n",
    "\n",
    "#df[['age', 'sex', 's1']].head(10) - alternative"
   ]
  },
  {
   "cell_type": "markdown",
   "metadata": {
    "id": "4nRMswAMExE2"
   },
   "source": [
    "first 10 values of 3 columns"
   ]
  },
  {
   "cell_type": "code",
   "execution_count": null,
   "metadata": {
    "id": "JEpv4ETrEFXc"
   },
   "outputs": [],
   "source": [
    "# get specific observation for mumltiple columns\n",
    "# get value at index 338 for age and s3 column\n",
    "\n",
    "df[['age', 's3']][338]"
   ]
  },
  {
   "cell_type": "markdown",
   "metadata": {
    "id": "JzNuGjwyF_UE"
   },
   "source": [
    "suprisingly its not possible to index into single value directly. So we need a method to perform so."
   ]
  },
  {
   "cell_type": "markdown",
   "metadata": {
    "id": "rM0sEhEnYrhR",
    "jp-MarkdownHeadingCollapsed": true
   },
   "source": [
    "# Loc & Iloc Based Selection (imp)"
   ]
  },
  {
   "cell_type": "markdown",
   "metadata": {
    "id": "dN1rIc1AGdZO"
   },
   "source": [
    "Methods\n",
    "\n",
    "* `loc` (dictionary style indexing)\n",
    "    - row value / row index\n",
    "    - Stands for label-based selection.\n",
    "    - use it to select rows and columns by their labels (index names and column names).\n",
    "    - Includes both the start and end labels in a range.\n",
    "    - row index is used.\n",
    "\n",
    "* `iloc`(array style indexing)\n",
    "    - position of the row in a dataset\n",
    "    - Stands for integer-based selection.\n",
    "    - use it to select rows and columns by their integer positions (like index-based slicing).\n",
    "    - Includes the start position but excludes the end in a range.\n",
    "\n",
    "* DIFFERENCE\n",
    "    - `loc` is label-based, so use column names and row indices.\n",
    "    - `iloc` is position-based, so use integer indices for rows and columns.\n",
    "\n",
    "* Example\n",
    "\n",
    "    - loc:\n",
    "    ```\n",
    "    # Select the row where the index label is 2\n",
    "    row = df.loc[2]\n",
    "\n",
    "    # Select the 'Name' and 'City' columns for index labels 1 and 3\n",
    "    subset = df.loc[[1, 3], ['Name', 'City']]\n",
    "\n",
    "    ```\n",
    "\n",
    "    - iloc:\n",
    "    ```\n",
    "    # Select the first 2 rows (0 and 1) and all columns\n",
    "    rows = df.iloc[0:2, :]\n",
    "\n",
    "    # Select the first 3 rows and the first 2 columns (integer position based)\n",
    "    subset = df.iloc[0:3, 0:2]\n",
    "    ```\n",
    "\n",
    "\n",
    "In simple terms, if assume index start at 1. then:\n",
    "\n",
    "* iloc: 0th position.\n",
    "* loc: 1st value / actual postion"
   ]
  },
  {
   "cell_type": "markdown",
   "metadata": {
    "id": "nr0h_peLGHwA",
    "jp-MarkdownHeadingCollapsed": true
   },
   "source": [
    "## Selecting single observation based on row & index (loc, iloc)"
   ]
  },
  {
   "cell_type": "code",
   "execution_count": null,
   "metadata": {
    "id": "BbSJG0-YKJ0Z"
   },
   "outputs": [],
   "source": [
    "df.head(11)"
   ]
  },
  {
   "cell_type": "code",
   "execution_count": null,
   "metadata": {
    "id": "sjywOJYRPmx_"
   },
   "outputs": [],
   "source": [
    "# use loc to access 10th observation across all columns\n",
    "df.loc[10]"
   ]
  },
  {
   "cell_type": "markdown",
   "metadata": {
    "id": "1ZKNFReNQo-1"
   },
   "source": [
    "SYNTAX: `df.loc[row_index / position]`"
   ]
  },
  {
   "cell_type": "code",
   "execution_count": null,
   "metadata": {
    "id": "2pX3jswdKusL"
   },
   "outputs": [],
   "source": [
    "# iloc - acess entire column value for a particular row index\n",
    "df.iloc[2] #column index\n",
    "\n",
    "# df.iloc['age'] - can't use"
   ]
  },
  {
   "cell_type": "markdown",
   "metadata": {
    "id": "MByE_OUhVmD5",
    "jp-MarkdownHeadingCollapsed": true
   },
   "source": [
    "## Selecting multiple observation using loc and iloc"
   ]
  },
  {
   "cell_type": "code",
   "execution_count": null,
   "metadata": {
    "id": "aBaZfZzEGaqr"
   },
   "outputs": [],
   "source": [
    "# access a specific value\n",
    "# get 2nd element of age column\n",
    "df.loc[2, 'age'] #row index -excat"
   ]
  },
  {
   "cell_type": "code",
   "execution_count": null,
   "metadata": {
    "id": "w2AEzur9RtEn"
   },
   "outputs": [],
   "source": [
    "# same with iloc - 2nd value in 1st columnn\n",
    "df.iloc[2, 0]"
   ]
  },
  {
   "cell_type": "markdown",
   "metadata": {
    "id": "T_opu3WZLeSK"
   },
   "source": [
    "syntax : `df.loc[row_index (actual), colum_name]`"
   ]
  },
  {
   "cell_type": "code",
   "execution_count": null,
   "metadata": {
    "id": "6pT2_MJvLlNY"
   },
   "outputs": [],
   "source": [
    "df['age'].head(10)"
   ]
  },
  {
   "cell_type": "code",
   "execution_count": null,
   "metadata": {
    "id": "s_DaFgHeULKY"
   },
   "outputs": [],
   "source": [
    "# access same row values across multiple cols using loc\n",
    "df.loc[2, ['age', 'sex', 'bmi', 'bp'] ] # its hard"
   ]
  },
  {
   "cell_type": "markdown",
   "metadata": {
    "id": "iNh9tAaqUumF"
   },
   "source": [
    "SYNTAX: `df[row_index_start, row_index_end, [col_names_list]]`"
   ]
  },
  {
   "cell_type": "code",
   "execution_count": null,
   "metadata": {
    "id": "iLiya3ZhTjYM"
   },
   "outputs": [],
   "source": [
    "# same using iloc\n",
    "df.iloc[2, 0:4]"
   ]
  },
  {
   "cell_type": "code",
   "execution_count": null,
   "metadata": {
    "id": "aGQuMfgNU-I-"
   },
   "outputs": [],
   "source": [
    "# access multiple row values acroos multiple columns\n",
    "\n",
    "# with loc - - 2nd to 5th values across 0 to 4 columns\n",
    "df.loc[2:5, ['age', 'sex', 'bmi', 'bp']]"
   ]
  },
  {
   "cell_type": "code",
   "execution_count": null,
   "metadata": {
    "id": "GNBcwPZHVFlz"
   },
   "outputs": [],
   "source": [
    "# with iloc - 2nd to 5th values across 0 to 4 columns\n",
    "df.iloc[2:5, 0:4]"
   ]
  },
  {
   "cell_type": "code",
   "execution_count": null,
   "metadata": {
    "id": "9TI8naXYW-WL"
   },
   "outputs": [],
   "source": [
    "# acess only specific value for a specific set of columns - iloc and loc\n",
    "# 2, 5, 7 row of 1,3,5th column\n",
    "\n",
    "# using iloc\n",
    "print(df.iloc[2:5, [1,3,5]]) # end index is excluded (array based)\n",
    "\n",
    "print(\"\\n\")\n",
    "\n",
    "# using loc\n",
    "print(df.loc[2:4, ['sex', 'bp', 's2']]) # end index is included (normal)"
   ]
  },
  {
   "cell_type": "code",
   "execution_count": null,
   "metadata": {
    "id": "lV-iQPZfUAw4"
   },
   "outputs": [],
   "source": [
    "df.head(4) # sanity check!"
   ]
  },
  {
   "cell_type": "markdown",
   "metadata": {
    "id": "CbbYE2VEWYP6"
   },
   "source": [
    "* iloc - specify only **integer** values and end index is excluded\n",
    "* loc - specify **integer and string values** (col names) and end index is included."
   ]
  },
  {
   "cell_type": "markdown",
   "metadata": {
    "id": "8ojjMXqIWur9",
    "jp-MarkdownHeadingCollapsed": true
   },
   "source": [
    "## Conditional Selection"
   ]
  },
  {
   "cell_type": "markdown",
   "metadata": {
    "id": "5xEZsTUQbQNt"
   },
   "source": [
    "* Select / Access based on conditions\n",
    "* loc and iloc + normal methods + conditional and arithematic operators can be used\n",
    "* mazor usage of loc and iloc can be seen here"
   ]
  },
  {
   "cell_type": "markdown",
   "metadata": {
    "id": "uPmtDPBsgh1Y",
    "jp-MarkdownHeadingCollapsed": true
   },
   "source": [
    "## optional"
   ]
  },
  {
   "cell_type": "code",
   "execution_count": null,
   "metadata": {
    "id": "JjoJ1aaMbvJB"
   },
   "outputs": [],
   "source": [
    "df.describe()"
   ]
  },
  {
   "cell_type": "markdown",
   "metadata": {
    "id": "MrlYQ2W0gnJg",
    "jp-MarkdownHeadingCollapsed": true
   },
   "source": [
    "## Single conditional selection"
   ]
  },
  {
   "cell_type": "code",
   "execution_count": null,
   "metadata": {
    "id": "vAI5cyw5bMnn"
   },
   "outputs": [],
   "source": [
    "# select all rows where person bp > -5.670422e-03\n",
    "df[df['bp'] > -5.670422e-03]"
   ]
  },
  {
   "cell_type": "code",
   "execution_count": null,
   "metadata": {
    "id": "_2zfOJsFcI5c"
   },
   "outputs": [],
   "source": [
    "# using loc\n",
    "df.loc[df['bp']> -5.670422e-03] # passed condition instead of row index"
   ]
  },
  {
   "cell_type": "markdown",
   "metadata": {
    "id": "cugaygr_cha5"
   },
   "source": [
    "for now its not stored, so lets create a new temp df to store it."
   ]
  },
  {
   "cell_type": "code",
   "execution_count": null,
   "metadata": {
    "id": "mI6qRE3icgcb"
   },
   "outputs": [],
   "source": [
    "bp_df_filtered = df.loc[df['bp']> -5.670422e-03]\n",
    "bp_df_filtered"
   ]
  },
  {
   "cell_type": "markdown",
   "metadata": {
    "id": "chPjsGGgdhrq"
   },
   "source": [
    "NOTE: Index of orignal dataframe is returned, not the shifted ones\n",
    "\n",
    "based on this multiple operations can be performed"
   ]
  },
  {
   "cell_type": "markdown",
   "metadata": {
    "id": "vdrJbRzJgvh4",
    "jp-MarkdownHeadingCollapsed": true
   },
   "source": [
    "# Acessing new dataframe values using loc and iloc"
   ]
  },
  {
   "cell_type": "code",
   "execution_count": null,
   "metadata": {
    "id": "YsZJDaT_gBPw"
   },
   "outputs": [],
   "source": [
    "# check entires present on 8th position - loc\n",
    "bp_df_filtered.loc[8] # no 8 index is present in new df"
   ]
  },
  {
   "cell_type": "code",
   "execution_count": null,
   "metadata": {
    "id": "KFE-gIY5eRJ0"
   },
   "outputs": [],
   "source": [
    "# check entries present on 0th position\n",
    "bp_df_filtered.iloc[8]\n",
    "\n",
    "# row indexing is based on the new dataframe"
   ]
  },
  {
   "cell_type": "markdown",
   "metadata": {
    "id": "ixeIHlPDEedE"
   },
   "source": [
    "---"
   ]
  },
  {
   "cell_type": "markdown",
   "metadata": {
    "jp-MarkdownHeadingCollapsed": true
   },
   "source": [
    "# Homework\n"
   ]
  },
  {
   "cell_type": "markdown",
   "metadata": {
    "id": "SLBdFrtuEYHV"
   },
   "source": [
    "* How many columns are present in the diabetes dataset?\n",
    "\n",
    "* What is the value of of **20th element of s1 and age** column?\n",
    "\n",
    "* What is the value of **23 to 26 element** (rows) of 1 to 5th column. Answer based on loc and iloc both.\n",
    "\n",
    "* Find all the rows / row_index where **s1 > -3.424784e-02** and return the **3rd** observation **s1** value . Hint (use iloc filter and loc indexing)\n",
    "\n",
    "* Find all rows where **s3 < 2.931150e-02**, store it in `s3_filtered` and find the 3rd row value (use loc and iloc) -> are they same?\n",
    "\n",
    "* OPTIONAL\n",
    "    - Combine : `s1 > -3.424784e-02` , `s3 < 2.931150e-02` and find all rows\n",
    "\n",
    "\n"
   ]
  },
  {
   "cell_type": "code",
   "execution_count": null,
   "metadata": {
    "id": "2EEDL38gEds-"
   },
   "outputs": [],
   "source": []
  }
 ],
 "metadata": {
  "colab": {
   "provenance": []
  },
  "kernelspec": {
   "display_name": "Python 3 (ipykernel)",
   "language": "python",
   "name": "python3"
  },
  "language_info": {
   "codemirror_mode": {
    "name": "ipython",
    "version": 3
   },
   "file_extension": ".py",
   "mimetype": "text/x-python",
   "name": "python",
   "nbconvert_exporter": "python",
   "pygments_lexer": "ipython3",
   "version": "3.10.0"
  }
 },
 "nbformat": 4,
 "nbformat_minor": 4
}
