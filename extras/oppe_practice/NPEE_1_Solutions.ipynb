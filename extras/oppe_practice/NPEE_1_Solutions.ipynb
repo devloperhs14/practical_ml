{
  "nbformat": 4,
  "nbformat_minor": 0,
  "metadata": {
    "colab": {
      "provenance": []
    },
    "kernelspec": {
      "name": "python3",
      "display_name": "Python 3"
    },
    "language_info": {
      "name": "python"
    }
  },
  "cells": [
    {
      "cell_type": "markdown",
      "source": [
        "# Instructions"
      ],
      "metadata": {
        "id": "6GyIHnJIEHbW"
      }
    },
    {
      "cell_type": "markdown",
      "source": [
        "Dataset Description\n",
        "Following is a description of different columns in the dataset.\n",
        "\n",
        "* CRIM: per capita crime rate in the vicinity\n",
        "* ZN: amount of residential land reserved in the vicinity.\n",
        "* INDUS: proportion of industrial land reserved nearby (in square kilometers)\n",
        "* RIVERSIDE: If the boundary faces river side (= 1 if tract bounds river; 0 otherwise)\n",
        "* POLINDEX: polution index\n",
        "* RM: number of rooms in the house.\n",
        "* AGE: Age of the property in years.\n",
        "* DIS: weighted distances to the major economic centres (in kilometers)\n",
        "* HIGHWAYCOUNT: Number of highways within 5 KM of distance.\n",
        "* TAX: full-value property-tax rate per 1 lac.\n",
        "* PTRATIO: student-teacher ratio in the vicinity.\n",
        "* IMM: Immigration index in the vicinity.\n",
        "* BPL: % of below poverty line population in the vicinity.\n",
        "* PRICE: Price of the home in lacs, this is the target column.\n",
        "\n",
        "Note: For numerical type questions, always enter the answer correct upto 3 decimal places without rounding off, unless otherwise stated.\n",
        "\n",
        "\n",
        "Dataset Link : [Dataset](https://drive.google.com/file/d/1DRtaP8QnU7SFrhMsdR67TBNuq5aOusUe/view)"
      ],
      "metadata": {
        "id": "_nZldaL6EQiB"
      }
    },
    {
      "cell_type": "markdown",
      "source": [
        "# 1 - Import Libs & Data"
      ],
      "metadata": {
        "id": "2bOC8i77ErWn"
      }
    },
    {
      "cell_type": "code",
      "execution_count": null,
      "metadata": {
        "id": "Ne-pmddyEBxT"
      },
      "outputs": [],
      "source": [
        "import pandas as pd\n",
        "import numpy as np"
      ]
    },
    {
      "cell_type": "markdown",
      "source": [
        "# 2 - Load Data"
      ],
      "metadata": {
        "id": "HW0v9_oYEzKm"
      }
    },
    {
      "cell_type": "code",
      "source": [
        "df = pd.read_csv(\"NPPE1_Preprocessing1.csv\")\n",
        "df.head()"
      ],
      "metadata": {
        "colab": {
          "base_uri": "https://localhost:8080/",
          "height": 206
        },
        "id": "L1549n2GFHXY",
        "outputId": "61dce066-fd9f-4df5-f0c7-f539e150ad1e"
      },
      "execution_count": null,
      "outputs": [
        {
          "output_type": "execute_result",
          "data": {
            "text/plain": [
              "        CRIM         ZN      INDUS  POLINDEX   RM   AGE        DIS  \\\n",
              "0   1.026769   1.429034   7.851300  1.134216  6.0  42.0   5.251911   \n",
              "1   0.848089   0.255543   6.263434  1.245993  7.0  63.0   4.305546   \n",
              "2  10.925905   0.441022  18.322960  2.824833  8.0  -2.0   2.409495   \n",
              "3   0.559027   1.041175  11.114920  0.794952  6.0   9.0   6.898669   \n",
              "4   0.905063  81.167963   3.673369  1.029030  8.0  20.0  10.246463   \n",
              "\n",
              "   HIGHWAYCOUNT         TAX    PTRATIO         IMM        BPL      PRICE  \\\n",
              "0             5  279.201277  20.689586  398.811960  10.461456  22.991633   \n",
              "1             8  307.444529  17.465398  377.153649  11.619690  24.551055   \n",
              "2            25  666.492973  20.351601  387.061355  19.366070  15.875346   \n",
              "3             4  305.514181  19.787314  391.778647   6.206820  23.007756   \n",
              "4             1  315.913960  17.360439  395.833166  10.827105  21.503177   \n",
              "\n",
              "  RIVERSIDE  \n",
              "0        NO  \n",
              "1        NO  \n",
              "2        NO  \n",
              "3        NO  \n",
              "4        NO  "
            ],
            "text/html": [
              "\n",
              "  <div id=\"df-a7a18d30-1b1a-41ff-993a-2cc6d55fb83c\" class=\"colab-df-container\">\n",
              "    <div>\n",
              "<style scoped>\n",
              "    .dataframe tbody tr th:only-of-type {\n",
              "        vertical-align: middle;\n",
              "    }\n",
              "\n",
              "    .dataframe tbody tr th {\n",
              "        vertical-align: top;\n",
              "    }\n",
              "\n",
              "    .dataframe thead th {\n",
              "        text-align: right;\n",
              "    }\n",
              "</style>\n",
              "<table border=\"1\" class=\"dataframe\">\n",
              "  <thead>\n",
              "    <tr style=\"text-align: right;\">\n",
              "      <th></th>\n",
              "      <th>CRIM</th>\n",
              "      <th>ZN</th>\n",
              "      <th>INDUS</th>\n",
              "      <th>POLINDEX</th>\n",
              "      <th>RM</th>\n",
              "      <th>AGE</th>\n",
              "      <th>DIS</th>\n",
              "      <th>HIGHWAYCOUNT</th>\n",
              "      <th>TAX</th>\n",
              "      <th>PTRATIO</th>\n",
              "      <th>IMM</th>\n",
              "      <th>BPL</th>\n",
              "      <th>PRICE</th>\n",
              "      <th>RIVERSIDE</th>\n",
              "    </tr>\n",
              "  </thead>\n",
              "  <tbody>\n",
              "    <tr>\n",
              "      <th>0</th>\n",
              "      <td>1.026769</td>\n",
              "      <td>1.429034</td>\n",
              "      <td>7.851300</td>\n",
              "      <td>1.134216</td>\n",
              "      <td>6.0</td>\n",
              "      <td>42.0</td>\n",
              "      <td>5.251911</td>\n",
              "      <td>5</td>\n",
              "      <td>279.201277</td>\n",
              "      <td>20.689586</td>\n",
              "      <td>398.811960</td>\n",
              "      <td>10.461456</td>\n",
              "      <td>22.991633</td>\n",
              "      <td>NO</td>\n",
              "    </tr>\n",
              "    <tr>\n",
              "      <th>1</th>\n",
              "      <td>0.848089</td>\n",
              "      <td>0.255543</td>\n",
              "      <td>6.263434</td>\n",
              "      <td>1.245993</td>\n",
              "      <td>7.0</td>\n",
              "      <td>63.0</td>\n",
              "      <td>4.305546</td>\n",
              "      <td>8</td>\n",
              "      <td>307.444529</td>\n",
              "      <td>17.465398</td>\n",
              "      <td>377.153649</td>\n",
              "      <td>11.619690</td>\n",
              "      <td>24.551055</td>\n",
              "      <td>NO</td>\n",
              "    </tr>\n",
              "    <tr>\n",
              "      <th>2</th>\n",
              "      <td>10.925905</td>\n",
              "      <td>0.441022</td>\n",
              "      <td>18.322960</td>\n",
              "      <td>2.824833</td>\n",
              "      <td>8.0</td>\n",
              "      <td>-2.0</td>\n",
              "      <td>2.409495</td>\n",
              "      <td>25</td>\n",
              "      <td>666.492973</td>\n",
              "      <td>20.351601</td>\n",
              "      <td>387.061355</td>\n",
              "      <td>19.366070</td>\n",
              "      <td>15.875346</td>\n",
              "      <td>NO</td>\n",
              "    </tr>\n",
              "    <tr>\n",
              "      <th>3</th>\n",
              "      <td>0.559027</td>\n",
              "      <td>1.041175</td>\n",
              "      <td>11.114920</td>\n",
              "      <td>0.794952</td>\n",
              "      <td>6.0</td>\n",
              "      <td>9.0</td>\n",
              "      <td>6.898669</td>\n",
              "      <td>4</td>\n",
              "      <td>305.514181</td>\n",
              "      <td>19.787314</td>\n",
              "      <td>391.778647</td>\n",
              "      <td>6.206820</td>\n",
              "      <td>23.007756</td>\n",
              "      <td>NO</td>\n",
              "    </tr>\n",
              "    <tr>\n",
              "      <th>4</th>\n",
              "      <td>0.905063</td>\n",
              "      <td>81.167963</td>\n",
              "      <td>3.673369</td>\n",
              "      <td>1.029030</td>\n",
              "      <td>8.0</td>\n",
              "      <td>20.0</td>\n",
              "      <td>10.246463</td>\n",
              "      <td>1</td>\n",
              "      <td>315.913960</td>\n",
              "      <td>17.360439</td>\n",
              "      <td>395.833166</td>\n",
              "      <td>10.827105</td>\n",
              "      <td>21.503177</td>\n",
              "      <td>NO</td>\n",
              "    </tr>\n",
              "  </tbody>\n",
              "</table>\n",
              "</div>\n",
              "    <div class=\"colab-df-buttons\">\n",
              "\n",
              "  <div class=\"colab-df-container\">\n",
              "    <button class=\"colab-df-convert\" onclick=\"convertToInteractive('df-a7a18d30-1b1a-41ff-993a-2cc6d55fb83c')\"\n",
              "            title=\"Convert this dataframe to an interactive table.\"\n",
              "            style=\"display:none;\">\n",
              "\n",
              "  <svg xmlns=\"http://www.w3.org/2000/svg\" height=\"24px\" viewBox=\"0 -960 960 960\">\n",
              "    <path d=\"M120-120v-720h720v720H120Zm60-500h600v-160H180v160Zm220 220h160v-160H400v160Zm0 220h160v-160H400v160ZM180-400h160v-160H180v160Zm440 0h160v-160H620v160ZM180-180h160v-160H180v160Zm440 0h160v-160H620v160Z\"/>\n",
              "  </svg>\n",
              "    </button>\n",
              "\n",
              "  <style>\n",
              "    .colab-df-container {\n",
              "      display:flex;\n",
              "      gap: 12px;\n",
              "    }\n",
              "\n",
              "    .colab-df-convert {\n",
              "      background-color: #E8F0FE;\n",
              "      border: none;\n",
              "      border-radius: 50%;\n",
              "      cursor: pointer;\n",
              "      display: none;\n",
              "      fill: #1967D2;\n",
              "      height: 32px;\n",
              "      padding: 0 0 0 0;\n",
              "      width: 32px;\n",
              "    }\n",
              "\n",
              "    .colab-df-convert:hover {\n",
              "      background-color: #E2EBFA;\n",
              "      box-shadow: 0px 1px 2px rgba(60, 64, 67, 0.3), 0px 1px 3px 1px rgba(60, 64, 67, 0.15);\n",
              "      fill: #174EA6;\n",
              "    }\n",
              "\n",
              "    .colab-df-buttons div {\n",
              "      margin-bottom: 4px;\n",
              "    }\n",
              "\n",
              "    [theme=dark] .colab-df-convert {\n",
              "      background-color: #3B4455;\n",
              "      fill: #D2E3FC;\n",
              "    }\n",
              "\n",
              "    [theme=dark] .colab-df-convert:hover {\n",
              "      background-color: #434B5C;\n",
              "      box-shadow: 0px 1px 3px 1px rgba(0, 0, 0, 0.15);\n",
              "      filter: drop-shadow(0px 1px 2px rgba(0, 0, 0, 0.3));\n",
              "      fill: #FFFFFF;\n",
              "    }\n",
              "  </style>\n",
              "\n",
              "    <script>\n",
              "      const buttonEl =\n",
              "        document.querySelector('#df-a7a18d30-1b1a-41ff-993a-2cc6d55fb83c button.colab-df-convert');\n",
              "      buttonEl.style.display =\n",
              "        google.colab.kernel.accessAllowed ? 'block' : 'none';\n",
              "\n",
              "      async function convertToInteractive(key) {\n",
              "        const element = document.querySelector('#df-a7a18d30-1b1a-41ff-993a-2cc6d55fb83c');\n",
              "        const dataTable =\n",
              "          await google.colab.kernel.invokeFunction('convertToInteractive',\n",
              "                                                    [key], {});\n",
              "        if (!dataTable) return;\n",
              "\n",
              "        const docLinkHtml = 'Like what you see? Visit the ' +\n",
              "          '<a target=\"_blank\" href=https://colab.research.google.com/notebooks/data_table.ipynb>data table notebook</a>'\n",
              "          + ' to learn more about interactive tables.';\n",
              "        element.innerHTML = '';\n",
              "        dataTable['output_type'] = 'display_data';\n",
              "        await google.colab.output.renderOutput(dataTable, element);\n",
              "        const docLink = document.createElement('div');\n",
              "        docLink.innerHTML = docLinkHtml;\n",
              "        element.appendChild(docLink);\n",
              "      }\n",
              "    </script>\n",
              "  </div>\n",
              "\n",
              "\n",
              "<div id=\"df-67354881-f299-4c4b-9f56-84415e8e8296\">\n",
              "  <button class=\"colab-df-quickchart\" onclick=\"quickchart('df-67354881-f299-4c4b-9f56-84415e8e8296')\"\n",
              "            title=\"Suggest charts\"\n",
              "            style=\"display:none;\">\n",
              "\n",
              "<svg xmlns=\"http://www.w3.org/2000/svg\" height=\"24px\"viewBox=\"0 0 24 24\"\n",
              "     width=\"24px\">\n",
              "    <g>\n",
              "        <path d=\"M19 3H5c-1.1 0-2 .9-2 2v14c0 1.1.9 2 2 2h14c1.1 0 2-.9 2-2V5c0-1.1-.9-2-2-2zM9 17H7v-7h2v7zm4 0h-2V7h2v10zm4 0h-2v-4h2v4z\"/>\n",
              "    </g>\n",
              "</svg>\n",
              "  </button>\n",
              "\n",
              "<style>\n",
              "  .colab-df-quickchart {\n",
              "      --bg-color: #E8F0FE;\n",
              "      --fill-color: #1967D2;\n",
              "      --hover-bg-color: #E2EBFA;\n",
              "      --hover-fill-color: #174EA6;\n",
              "      --disabled-fill-color: #AAA;\n",
              "      --disabled-bg-color: #DDD;\n",
              "  }\n",
              "\n",
              "  [theme=dark] .colab-df-quickchart {\n",
              "      --bg-color: #3B4455;\n",
              "      --fill-color: #D2E3FC;\n",
              "      --hover-bg-color: #434B5C;\n",
              "      --hover-fill-color: #FFFFFF;\n",
              "      --disabled-bg-color: #3B4455;\n",
              "      --disabled-fill-color: #666;\n",
              "  }\n",
              "\n",
              "  .colab-df-quickchart {\n",
              "    background-color: var(--bg-color);\n",
              "    border: none;\n",
              "    border-radius: 50%;\n",
              "    cursor: pointer;\n",
              "    display: none;\n",
              "    fill: var(--fill-color);\n",
              "    height: 32px;\n",
              "    padding: 0;\n",
              "    width: 32px;\n",
              "  }\n",
              "\n",
              "  .colab-df-quickchart:hover {\n",
              "    background-color: var(--hover-bg-color);\n",
              "    box-shadow: 0 1px 2px rgba(60, 64, 67, 0.3), 0 1px 3px 1px rgba(60, 64, 67, 0.15);\n",
              "    fill: var(--button-hover-fill-color);\n",
              "  }\n",
              "\n",
              "  .colab-df-quickchart-complete:disabled,\n",
              "  .colab-df-quickchart-complete:disabled:hover {\n",
              "    background-color: var(--disabled-bg-color);\n",
              "    fill: var(--disabled-fill-color);\n",
              "    box-shadow: none;\n",
              "  }\n",
              "\n",
              "  .colab-df-spinner {\n",
              "    border: 2px solid var(--fill-color);\n",
              "    border-color: transparent;\n",
              "    border-bottom-color: var(--fill-color);\n",
              "    animation:\n",
              "      spin 1s steps(1) infinite;\n",
              "  }\n",
              "\n",
              "  @keyframes spin {\n",
              "    0% {\n",
              "      border-color: transparent;\n",
              "      border-bottom-color: var(--fill-color);\n",
              "      border-left-color: var(--fill-color);\n",
              "    }\n",
              "    20% {\n",
              "      border-color: transparent;\n",
              "      border-left-color: var(--fill-color);\n",
              "      border-top-color: var(--fill-color);\n",
              "    }\n",
              "    30% {\n",
              "      border-color: transparent;\n",
              "      border-left-color: var(--fill-color);\n",
              "      border-top-color: var(--fill-color);\n",
              "      border-right-color: var(--fill-color);\n",
              "    }\n",
              "    40% {\n",
              "      border-color: transparent;\n",
              "      border-right-color: var(--fill-color);\n",
              "      border-top-color: var(--fill-color);\n",
              "    }\n",
              "    60% {\n",
              "      border-color: transparent;\n",
              "      border-right-color: var(--fill-color);\n",
              "    }\n",
              "    80% {\n",
              "      border-color: transparent;\n",
              "      border-right-color: var(--fill-color);\n",
              "      border-bottom-color: var(--fill-color);\n",
              "    }\n",
              "    90% {\n",
              "      border-color: transparent;\n",
              "      border-bottom-color: var(--fill-color);\n",
              "    }\n",
              "  }\n",
              "</style>\n",
              "\n",
              "  <script>\n",
              "    async function quickchart(key) {\n",
              "      const quickchartButtonEl =\n",
              "        document.querySelector('#' + key + ' button');\n",
              "      quickchartButtonEl.disabled = true;  // To prevent multiple clicks.\n",
              "      quickchartButtonEl.classList.add('colab-df-spinner');\n",
              "      try {\n",
              "        const charts = await google.colab.kernel.invokeFunction(\n",
              "            'suggestCharts', [key], {});\n",
              "      } catch (error) {\n",
              "        console.error('Error during call to suggestCharts:', error);\n",
              "      }\n",
              "      quickchartButtonEl.classList.remove('colab-df-spinner');\n",
              "      quickchartButtonEl.classList.add('colab-df-quickchart-complete');\n",
              "    }\n",
              "    (() => {\n",
              "      let quickchartButtonEl =\n",
              "        document.querySelector('#df-67354881-f299-4c4b-9f56-84415e8e8296 button');\n",
              "      quickchartButtonEl.style.display =\n",
              "        google.colab.kernel.accessAllowed ? 'block' : 'none';\n",
              "    })();\n",
              "  </script>\n",
              "</div>\n",
              "\n",
              "    </div>\n",
              "  </div>\n"
            ],
            "application/vnd.google.colaboratory.intrinsic+json": {
              "type": "dataframe",
              "variable_name": "df",
              "summary": "{\n  \"name\": \"df\",\n  \"rows\": 4000,\n  \"fields\": [\n    {\n      \"column\": \"CRIM\",\n      \"properties\": {\n        \"dtype\": \"number\",\n        \"std\": 2.4756462622728774,\n        \"min\": 0.0310930438582509,\n        \"max\": 12.619405277902771,\n        \"num_unique_values\": 4000,\n        \"samples\": [\n          10.831224921095714,\n          0.953207752853487,\n          5.781132959514714\n        ],\n        \"semantic_type\": \"\",\n        \"description\": \"\"\n      }\n    },\n    {\n      \"column\": \"ZN\",\n      \"properties\": {\n        \"dtype\": \"number\",\n        \"std\": 23.312648793994484,\n        \"min\": 0.0002814402235964,\n        \"max\": 101.67073973465143,\n        \"num_unique_values\": 4000,\n        \"samples\": [\n          0.4565955423160071,\n          22.58564221235115,\n          0.5626399885644546\n        ],\n        \"semantic_type\": \"\",\n        \"description\": \"\"\n      }\n    },\n    {\n      \"column\": \"INDUS\",\n      \"properties\": {\n        \"dtype\": \"number\",\n        \"std\": 6.827508528281335,\n        \"min\": 0.6333879398140939,\n        \"max\": 30.36720906351064,\n        \"num_unique_values\": 4000,\n        \"samples\": [\n          18.3465226507992,\n          6.370536592918024,\n          19.6492039971422\n        ],\n        \"semantic_type\": \"\",\n        \"description\": \"\"\n      }\n    },\n    {\n      \"column\": \"POLINDEX\",\n      \"properties\": {\n        \"dtype\": \"number\",\n        \"std\": 0.6010235583614255,\n        \"min\": 0.4050847999570661,\n        \"max\": 4.156570046265983,\n        \"num_unique_values\": 4000,\n        \"samples\": [\n          0.8787669990613265,\n          1.3178252880593984,\n          2.383613383451163\n        ],\n        \"semantic_type\": \"\",\n        \"description\": \"\"\n      }\n    },\n    {\n      \"column\": \"RM\",\n      \"properties\": {\n        \"dtype\": \"number\",\n        \"std\": 1.240525886920178,\n        \"min\": -1.0,\n        \"max\": 11.0,\n        \"num_unique_values\": 9,\n        \"samples\": [\n          4.0,\n          7.0,\n          -1.0\n        ],\n        \"semantic_type\": \"\",\n        \"description\": \"\"\n      }\n    },\n    {\n      \"column\": \"AGE\",\n      \"properties\": {\n        \"dtype\": \"number\",\n        \"std\": 29.10092250982311,\n        \"min\": -2.0,\n        \"max\": 103.0,\n        \"num_unique_values\": 102,\n        \"samples\": [\n          93.0,\n          79.0,\n          45.0\n        ],\n        \"semantic_type\": \"\",\n        \"description\": \"\"\n      }\n    },\n    {\n      \"column\": \"DIS\",\n      \"properties\": {\n        \"dtype\": \"number\",\n        \"std\": 2.174427190759426,\n        \"min\": 1.163081974016663,\n        \"max\": 14.045317837400347,\n        \"num_unique_values\": 4000,\n        \"samples\": [\n          2.121423729026626,\n          8.360003011817742,\n          3.276015197630771\n        ],\n        \"semantic_type\": \"\",\n        \"description\": \"\"\n      }\n    },\n    {\n      \"column\": \"HIGHWAYCOUNT\",\n      \"properties\": {\n        \"dtype\": \"number\",\n        \"std\": 7,\n        \"min\": 1,\n        \"max\": 27,\n        \"num_unique_values\": 15,\n        \"samples\": [\n          3,\n          10,\n          5\n        ],\n        \"semantic_type\": \"\",\n        \"description\": \"\"\n      }\n    },\n    {\n      \"column\": \"TAX\",\n      \"properties\": {\n        \"dtype\": \"number\",\n        \"std\": 150.270818062805,\n        \"min\": 187.0250989029544,\n        \"max\": 713.0281332130706,\n        \"num_unique_values\": 4000,\n        \"samples\": [\n          666.7737254901376,\n          330.2367374981048,\n          666.8191889914782\n        ],\n        \"semantic_type\": \"\",\n        \"description\": \"\"\n      }\n    },\n    {\n      \"column\": \"PTRATIO\",\n      \"properties\": {\n        \"dtype\": \"number\",\n        \"std\": 2.2672931299145693,\n        \"min\": 12.641899141366697,\n        \"max\": 24.322091262098887,\n        \"num_unique_values\": 4000,\n        \"samples\": [\n          20.3751522578949,\n          20.27653854707035,\n          21.379232569949977\n        ],\n        \"semantic_type\": \"\",\n        \"description\": \"\"\n      }\n    },\n    {\n      \"column\": \"IMM\",\n      \"properties\": {\n        \"dtype\": \"number\",\n        \"std\": 67.68758632464606,\n        \"min\": 0.5329802728126296,\n        \"max\": 400.7805827462825,\n        \"num_unique_values\": 4000,\n        \"samples\": [\n          387.7735652778036,\n          390.541475574156,\n          10.537791860822836\n        ],\n        \"semantic_type\": \"\",\n        \"description\": \"\"\n      }\n    },\n    {\n      \"column\": \"BPL\",\n      \"properties\": {\n        \"dtype\": \"number\",\n        \"std\": 6.143059504735248,\n        \"min\": 1.9862953413087248,\n        \"max\": 35.99728129531004,\n        \"num_unique_values\": 4000,\n        \"samples\": [\n          19.50195563710608,\n          9.967248102302412,\n          19.71927265986072\n        ],\n        \"semantic_type\": \"\",\n        \"description\": \"\"\n      }\n    },\n    {\n      \"column\": \"PRICE\",\n      \"properties\": {\n        \"dtype\": \"number\",\n        \"std\": 8.633523119748661,\n        \"min\": 6.3482657858979215,\n        \"max\": 53.09025591497754,\n        \"num_unique_values\": 4000,\n        \"samples\": [\n          16.913047426817688,\n          25.04725435512905,\n          14.44370427335717\n        ],\n        \"semantic_type\": \"\",\n        \"description\": \"\"\n      }\n    },\n    {\n      \"column\": \"RIVERSIDE\",\n      \"properties\": {\n        \"dtype\": \"category\",\n        \"num_unique_values\": 3,\n        \"samples\": [\n          \"NO\",\n          \"UNKNOWN\",\n          \"YES\"\n        ],\n        \"semantic_type\": \"\",\n        \"description\": \"\"\n      }\n    }\n  ]\n}"
            }
          },
          "metadata": {},
          "execution_count": 38
        }
      ]
    },
    {
      "cell_type": "markdown",
      "source": [
        "Metadata:\n",
        "* CRIM: per capita crime rate in the vicinity\n",
        "* ZN: amount of residential land reserved in the vicinity.\n",
        "* INDUS: proportion of industrial land reserved nearby (in square kilometers)\n",
        "* RIVERSIDE: If the boundary faces river side (= 1 if tract bounds river; 0 otherwise)\n",
        "* POLINDEX: polution index\n",
        "* RM: number of rooms in the house.\n",
        "* AGE: Age of the property in years.\n",
        "* DIS: weighted distances to the major economic centres (in kilometers)\n",
        "* HIGHWAYCOUNT: Number of highways within 5 KM of distance.\n",
        "* TAX: full-value property-tax rate per 1 lac.\n",
        "* PTRATIO: student-teacher ratio in the vicinity.\n",
        "* IMM: Immigration index in the vicinity.\n",
        "* BPL: % of below poverty line population in the vicinity.\n",
        "* PRICE: Price of the home in lacs, this is the target column."
      ],
      "metadata": {
        "id": "iNTgSMmgFYX3"
      }
    },
    {
      "cell_type": "code",
      "source": [
        "df.shape"
      ],
      "metadata": {
        "colab": {
          "base_uri": "https://localhost:8080/"
        },
        "id": "CArLtEgsgl29",
        "outputId": "c0ebcbf1-bab5-4888-c9b0-b5d0b9c18b0d"
      },
      "execution_count": null,
      "outputs": [
        {
          "output_type": "execute_result",
          "data": {
            "text/plain": [
              "(4000, 14)"
            ]
          },
          "metadata": {},
          "execution_count": 39
        }
      ]
    },
    {
      "cell_type": "markdown",
      "source": [
        "---"
      ],
      "metadata": {
        "id": "yIo4RW6cFF83"
      }
    },
    {
      "cell_type": "markdown",
      "source": [
        "# Questions"
      ],
      "metadata": {
        "id": "YVTEFUBSFAeV"
      }
    },
    {
      "cell_type": "markdown",
      "source": [
        "## Q1"
      ],
      "metadata": {
        "id": "gKYBrhmrFi10"
      }
    },
    {
      "cell_type": "markdown",
      "source": [
        "Which dataset are you using for this exam?\n",
        "\n",
        "NPPE1_Preprocessing1.csv\n",
        "\n",
        "NPPE1_Preprocessing2.csv\n",
        "\n",
        "NPPE1_Preprocessing3.csv\n",
        "\n",
        "NPPE1_Preprocessing4.csv"
      ],
      "metadata": {
        "id": "nFoRV0LUE7oH"
      }
    },
    {
      "cell_type": "code",
      "source": [
        "\"NPPE1_Preprocessing1.csv\""
      ],
      "metadata": {
        "colab": {
          "base_uri": "https://localhost:8080/",
          "height": 35
        },
        "id": "v-VtbGXrEyCz",
        "outputId": "23ee6cd3-3138-4120-dc2b-f16a30062fc1"
      },
      "execution_count": null,
      "outputs": [
        {
          "output_type": "execute_result",
          "data": {
            "text/plain": [
              "'NPPE1_Preprocessing1.csv'"
            ],
            "application/vnd.google.colaboratory.intrinsic+json": {
              "type": "string"
            }
          },
          "metadata": {},
          "execution_count": 40
        }
      ]
    },
    {
      "cell_type": "markdown",
      "source": [
        "## Q2"
      ],
      "metadata": {
        "id": "fvcxBvxrE-ws"
      }
    },
    {
      "cell_type": "markdown",
      "source": [
        "How many samples are there in the dataset?"
      ],
      "metadata": {
        "id": "lwNXD1pHFn93"
      }
    },
    {
      "cell_type": "code",
      "source": [
        "df.shape[0]"
      ],
      "metadata": {
        "colab": {
          "base_uri": "https://localhost:8080/"
        },
        "id": "GHDfLSYEE-JK",
        "outputId": "2283d821-6204-423d-f13e-7b52dd9fe0d6"
      },
      "execution_count": null,
      "outputs": [
        {
          "output_type": "execute_result",
          "data": {
            "text/plain": [
              "4000"
            ]
          },
          "metadata": {},
          "execution_count": 41
        }
      ]
    },
    {
      "cell_type": "markdown",
      "source": [
        "## Q3"
      ],
      "metadata": {
        "id": "KeeIt6SLGBCL"
      }
    },
    {
      "cell_type": "markdown",
      "source": [
        "What is the average house price (in lacs)?"
      ],
      "metadata": {
        "id": "CbKuman7GDKA"
      }
    },
    {
      "cell_type": "code",
      "source": [
        "df['PRICE'].mean()"
      ],
      "metadata": {
        "colab": {
          "base_uri": "https://localhost:8080/"
        },
        "id": "WzaL7ilAFqwH",
        "outputId": "01bef627-fb87-485c-c88a-3e1126ca7d3a"
      },
      "execution_count": null,
      "outputs": [
        {
          "output_type": "execute_result",
          "data": {
            "text/plain": [
              "24.355923220694248"
            ]
          },
          "metadata": {},
          "execution_count": 42
        }
      ]
    },
    {
      "cell_type": "markdown",
      "source": [
        "## Q4"
      ],
      "metadata": {
        "id": "0vxP07vmGgOd"
      }
    },
    {
      "cell_type": "markdown",
      "source": [
        "How many houses have 5 or more rooms?\n",
        "\n",
        "While filtering use syntax : `df[df[condition]]`"
      ],
      "metadata": {
        "id": "wjO-3C6VGhov"
      }
    },
    {
      "cell_type": "code",
      "source": [
        "df[df['RM'] >=5].shape[0]"
      ],
      "metadata": {
        "colab": {
          "base_uri": "https://localhost:8080/"
        },
        "id": "n5cwhNuxGJiN",
        "outputId": "d72ba443-7182-4e68-b34a-6e3dc8f3cd1f"
      },
      "execution_count": null,
      "outputs": [
        {
          "output_type": "execute_result",
          "data": {
            "text/plain": [
              "3953"
            ]
          },
          "metadata": {},
          "execution_count": 43
        }
      ]
    },
    {
      "cell_type": "markdown",
      "source": [
        "## Q5"
      ],
      "metadata": {
        "id": "PXbIQ3CaHfUI"
      }
    },
    {
      "cell_type": "markdown",
      "source": [
        "What is the average price of the top 10 most expensive houses (in lacs)?"
      ],
      "metadata": {
        "id": "1859pX8qHgdJ"
      }
    },
    {
      "cell_type": "code",
      "source": [
        "top_10 = df.sort_values(by = \"PRICE\", ascending = False).head(10)\n",
        "top_10['PRICE'].mean()"
      ],
      "metadata": {
        "id": "vUMuy6YpGpxE",
        "colab": {
          "base_uri": "https://localhost:8080/"
        },
        "outputId": "6743713b-4f5c-457b-90bf-aa1cda2ebb65"
      },
      "execution_count": null,
      "outputs": [
        {
          "output_type": "execute_result",
          "data": {
            "text/plain": [
              "52.36590175716407"
            ]
          },
          "metadata": {},
          "execution_count": 44
        }
      ]
    },
    {
      "cell_type": "markdown",
      "source": [
        "## Q6"
      ],
      "metadata": {
        "id": "reJCY2-5I0rR"
      }
    },
    {
      "cell_type": "markdown",
      "source": [
        "What is the total number of missing or unknown values in the number of rooms feature?\n",
        "\n",
        "(Hint: carefully look at the values the feature takes and find out implausible value.)\n",
        "\n",
        "40\n",
        "\n",
        "71\n",
        "\n",
        "99\n",
        "\n",
        "61\n",
        "\n",
        "68\n",
        "\n",
        "None of these"
      ],
      "metadata": {
        "id": "twBQk_PHI2QB"
      }
    },
    {
      "cell_type": "code",
      "source": [
        "df['RM'].isna().sum() # not the case\n",
        "\n",
        "# check unique values\n",
        "df['RM'].unique() # have -1 as values - can't be no of rooms\n",
        "\n",
        "# filter only no of rooms and take shape[0] -> no of observation\n",
        "df[df['RM']==-1].shape[0]"
      ],
      "metadata": {
        "colab": {
          "base_uri": "https://localhost:8080/"
        },
        "id": "yMJe24GDIYrA",
        "outputId": "86016f38-62f1-421f-a1ff-85879671c2c2"
      },
      "execution_count": null,
      "outputs": [
        {
          "output_type": "execute_result",
          "data": {
            "text/plain": [
              "40"
            ]
          },
          "metadata": {},
          "execution_count": 45
        }
      ]
    },
    {
      "cell_type": "markdown",
      "source": [
        "## Q7"
      ],
      "metadata": {
        "id": "jxWsHoI_JuMe"
      }
    },
    {
      "cell_type": "markdown",
      "source": [
        "What is the total number of missing or unknown values in the age feature?\n",
        "\n",
        "(Hint: carefully look at the values the feature takes and find out implausible value.)\n",
        "\n",
        "50\n",
        "\n",
        "83\n",
        "\n",
        "74\n",
        "\n",
        "64\n",
        "\n",
        "59\n",
        "\n",
        "None of these"
      ],
      "metadata": {
        "id": "4KT_PP8TJv47"
      }
    },
    {
      "cell_type": "code",
      "source": [
        "df['AGE'].isna().sum() # wrong\n",
        "\n",
        "# check unioque values\n",
        "df['AGE'].unique() # -2 can't be\n",
        "\n",
        "# filter for -2 samples and take shape [0]\n",
        "df[df['AGE'] == -2].shape[0]"
      ],
      "metadata": {
        "colab": {
          "base_uri": "https://localhost:8080/"
        },
        "id": "zteBe2fJJCEc",
        "outputId": "1563d9db-b7bf-4674-8ebc-45021b768952"
      },
      "execution_count": null,
      "outputs": [
        {
          "output_type": "execute_result",
          "data": {
            "text/plain": [
              "50"
            ]
          },
          "metadata": {},
          "execution_count": 46
        }
      ]
    },
    {
      "cell_type": "markdown",
      "source": [
        "## Q8"
      ],
      "metadata": {
        "id": "XAPilrSEKfo6"
      }
    },
    {
      "cell_type": "markdown",
      "source": [
        "What is the total number of missing or unknown values in the RIVERSIDE feature?\n",
        "\n",
        "(Hint: carefully look at the values the feature takes and find out implausible value.)\n",
        "\n",
        "88\n",
        "\n",
        "101\n",
        "\n",
        "56\n",
        "\n",
        "62\n",
        "\n",
        "80\n",
        "\n",
        "None of these"
      ],
      "metadata": {
        "id": "Zyuxhy5LKg8K"
      }
    },
    {
      "cell_type": "code",
      "source": [
        "# check nan\n",
        "df['RIVERSIDE'].isna().sum() # wrong\n",
        "\n",
        "# check unique values\n",
        "df['RIVERSIDE'].unique() # unknown not feasible\n",
        "\n",
        "# filter based on uknown\n",
        "df[df['RIVERSIDE']==\"UNKNOWN\"].shape[0]"
      ],
      "metadata": {
        "colab": {
          "base_uri": "https://localhost:8080/"
        },
        "id": "1Qn_mo0tJrRo",
        "outputId": "e1343c1a-3a1e-4663-a4a2-23405bc55dcf"
      },
      "execution_count": null,
      "outputs": [
        {
          "output_type": "execute_result",
          "data": {
            "text/plain": [
              "88"
            ]
          },
          "metadata": {},
          "execution_count": 47
        }
      ]
    },
    {
      "cell_type": "code",
      "source": [
        "df['RIVERSIDE'].unique()"
      ],
      "metadata": {
        "colab": {
          "base_uri": "https://localhost:8080/"
        },
        "id": "5t2oVy-zKu29",
        "outputId": "d272cbd8-06b5-41ca-d130-c701849d0ce2"
      },
      "execution_count": null,
      "outputs": [
        {
          "output_type": "execute_result",
          "data": {
            "text/plain": [
              "array(['NO', 'UNKNOWN', 'YES'], dtype=object)"
            ]
          },
          "metadata": {},
          "execution_count": 48
        }
      ]
    },
    {
      "cell_type": "markdown",
      "source": [
        "## Q9"
      ],
      "metadata": {
        "id": "MBPO3UtZLW-D"
      }
    },
    {
      "cell_type": "markdown",
      "source": [
        "How many houses are on riverside and were built within the last 50 years (i.e. a house 50 years old or younger)?\n",
        "\n",
        "For this question, ignore the rows that have missing values in either riverside feature or age feature."
      ],
      "metadata": {
        "id": "V88oMEFjLYod"
      }
    },
    {
      "cell_type": "code",
      "source": [
        "# How many houses are on riverside and were built within the last 50 years (i.e. a house 50 years old or younger)?\n",
        "filter_condition = (df['RIVERSIDE']==\"YES\") & (df['AGE'] <= 50) & (df['AGE']>=0)\n",
        "df[filter_condition].shape[0]"
      ],
      "metadata": {
        "colab": {
          "base_uri": "https://localhost:8080/"
        },
        "id": "UV-KR9VjLI3H",
        "outputId": "a71a94d8-b551-46ec-ad63-24671adde7e6"
      },
      "execution_count": null,
      "outputs": [
        {
          "output_type": "execute_result",
          "data": {
            "text/plain": [
              "44"
            ]
          },
          "metadata": {},
          "execution_count": 49
        }
      ]
    },
    {
      "cell_type": "markdown",
      "source": [
        "## Q10"
      ],
      "metadata": {
        "id": "6tPr2TZmMbny"
      }
    },
    {
      "cell_type": "markdown",
      "source": [
        "How many houses are near to exactly 6, 7 or 8 highways (all three inclusive)?\n",
        "\n",
        "1211\n",
        "\n",
        "1174\n",
        "\n",
        "1234\n",
        "\n",
        "938\n",
        "\n",
        "1209\n",
        "\n",
        "None of these"
      ],
      "metadata": {
        "id": "6vUuz591Mg-L"
      }
    },
    {
      "cell_type": "code",
      "source": [
        "filter_condition = (df['HIGHWAYCOUNT']>=6) & (df['HIGHWAYCOUNT']<=8)\n",
        "df[filter_condition].shape[0]\n"
      ],
      "metadata": {
        "colab": {
          "base_uri": "https://localhost:8080/"
        },
        "id": "JbjmlZCKMZRl",
        "outputId": "a91ac5cc-921e-47be-89c9-8121b9133edd"
      },
      "execution_count": null,
      "outputs": [
        {
          "output_type": "execute_result",
          "data": {
            "text/plain": [
              "1211"
            ]
          },
          "metadata": {},
          "execution_count": 50
        }
      ]
    },
    {
      "cell_type": "markdown",
      "source": [
        "## 11"
      ],
      "metadata": {
        "id": "1JoMdUjCNNy3"
      }
    },
    {
      "cell_type": "markdown",
      "source": [
        "Create a column 'CATEGORY' and divide the houses in categories as following:\n",
        "\n",
        "* Category 1: house price <10 lacs\n",
        "* Category 2: 10 lacs <= house price <20 lacs\n",
        "* Category 3: 20 lacs <= house price <30 lacs\n",
        "* Category 4: 30 lacs <= house price <40 lacs\n",
        "* Category 5: house price >=40 lacs\n",
        "\n",
        "Which category has the highest number of records?\n",
        "\n",
        "1\n",
        "\n",
        "2\n",
        "\n",
        "3\n",
        "\n",
        "4\n",
        "\n",
        "5\n",
        "\n",
        "There is a tie between multiple categories"
      ],
      "metadata": {
        "id": "OzKA9YNLNP3X"
      }
    },
    {
      "cell_type": "code",
      "source": [
        "# create fn\n",
        "def category(x):\n",
        "  if x<10:\n",
        "    return 1\n",
        "  elif 10 <=x <20:\n",
        "    return 2\n",
        "  elif 20 <= x <30:\n",
        "    return 3\n",
        "  elif 30 <= x <40:\n",
        "    return 4\n",
        "  else:\n",
        "    return 5"
      ],
      "metadata": {
        "id": "EMT3T3DqM-VO"
      },
      "execution_count": null,
      "outputs": []
    },
    {
      "cell_type": "code",
      "source": [
        "# create new colum and apply the fn\n",
        "df['CATEGORY'] = df['PRICE'].apply(category)"
      ],
      "metadata": {
        "id": "FYw7B2MbOGA2"
      },
      "execution_count": null,
      "outputs": []
    },
    {
      "cell_type": "code",
      "source": [
        "# get which category have max value\n",
        "df['CATEGORY'].value_counts()"
      ],
      "metadata": {
        "colab": {
          "base_uri": "https://localhost:8080/",
          "height": 272
        },
        "id": "NS4nn-vdOOTd",
        "outputId": "804ac11f-5767-4652-da17-39396a1f1c11"
      },
      "execution_count": null,
      "outputs": [
        {
          "output_type": "execute_result",
          "data": {
            "text/plain": [
              "CATEGORY\n",
              "3    2028\n",
              "2    1158\n",
              "4     503\n",
              "5     268\n",
              "1      43\n",
              "Name: count, dtype: int64"
            ],
            "text/html": [
              "<div>\n",
              "<style scoped>\n",
              "    .dataframe tbody tr th:only-of-type {\n",
              "        vertical-align: middle;\n",
              "    }\n",
              "\n",
              "    .dataframe tbody tr th {\n",
              "        vertical-align: top;\n",
              "    }\n",
              "\n",
              "    .dataframe thead th {\n",
              "        text-align: right;\n",
              "    }\n",
              "</style>\n",
              "<table border=\"1\" class=\"dataframe\">\n",
              "  <thead>\n",
              "    <tr style=\"text-align: right;\">\n",
              "      <th></th>\n",
              "      <th>count</th>\n",
              "    </tr>\n",
              "    <tr>\n",
              "      <th>CATEGORY</th>\n",
              "      <th></th>\n",
              "    </tr>\n",
              "  </thead>\n",
              "  <tbody>\n",
              "    <tr>\n",
              "      <th>3</th>\n",
              "      <td>2028</td>\n",
              "    </tr>\n",
              "    <tr>\n",
              "      <th>2</th>\n",
              "      <td>1158</td>\n",
              "    </tr>\n",
              "    <tr>\n",
              "      <th>4</th>\n",
              "      <td>503</td>\n",
              "    </tr>\n",
              "    <tr>\n",
              "      <th>5</th>\n",
              "      <td>268</td>\n",
              "    </tr>\n",
              "    <tr>\n",
              "      <th>1</th>\n",
              "      <td>43</td>\n",
              "    </tr>\n",
              "  </tbody>\n",
              "</table>\n",
              "</div><br><label><b>dtype:</b> int64</label>"
            ]
          },
          "metadata": {},
          "execution_count": 53
        }
      ]
    },
    {
      "cell_type": "code",
      "source": [
        "df.shape"
      ],
      "metadata": {
        "colab": {
          "base_uri": "https://localhost:8080/"
        },
        "id": "eEnTvcIChM7y",
        "outputId": "cd78bd7e-9302-4e2a-cc94-7b692ce50dc6"
      },
      "execution_count": null,
      "outputs": [
        {
          "output_type": "execute_result",
          "data": {
            "text/plain": [
              "(4000, 15)"
            ]
          },
          "metadata": {},
          "execution_count": 55
        }
      ]
    },
    {
      "cell_type": "markdown",
      "source": [
        "## Q12"
      ],
      "metadata": {
        "id": "uZwU_ydwQA9K"
      }
    },
    {
      "cell_type": "markdown",
      "source": [
        "**PREPROCESSING**\n",
        "\n",
        "Divide the data into training and test sets\n",
        "\n",
        "1. Replace the respective missing or unknown values in features room count, riverside and age with np.nan.\n",
        "2. Keep 30% of the data as test set.\n",
        "3. Use random_state as 0\n",
        "4. PRICE is the target, rest of the columns are the features.\n",
        "5. Apply train test split.\n",
        "Hint: look for the documentation of the usual function that divides the data into training and test datasets.\n",
        "\n",
        "What is the number of samples in the training set?"
      ],
      "metadata": {
        "id": "YrK1JAoBP_gZ"
      }
    },
    {
      "cell_type": "code",
      "source": [
        "# Replace the respective missing or unknown values in features room count, riverside and age with np.nan.\n",
        "df['RM'] = df['RM'].replace(-1, np.nan)\n",
        "df['RIVERSIDE'] = df['RIVERSIDE'].replace(\"UNKNOWN\", np.nan)\n",
        "df['AGE'] = df['AGE'].replace(-2, np.nan)"
      ],
      "metadata": {
        "id": "p8aOoWk8OWJJ"
      },
      "execution_count": null,
      "outputs": []
    },
    {
      "cell_type": "code",
      "source": [
        "df.shape"
      ],
      "metadata": {
        "colab": {
          "base_uri": "https://localhost:8080/"
        },
        "id": "Iuzb7SrthIT_",
        "outputId": "431ba36e-be21-4251-f9e3-db608cf69fc2"
      },
      "execution_count": null,
      "outputs": [
        {
          "output_type": "execute_result",
          "data": {
            "text/plain": [
              "(4000, 15)"
            ]
          },
          "metadata": {},
          "execution_count": 57
        }
      ]
    },
    {
      "cell_type": "code",
      "source": [
        "# Define X and y\n",
        "X = df.drop(columns = \"PRICE\")\n",
        "y = df[\"PRICE\"]"
      ],
      "metadata": {
        "id": "BdVw7nocQOcs"
      },
      "execution_count": null,
      "outputs": []
    },
    {
      "cell_type": "code",
      "source": [
        "# test set and random state\n",
        "test_size = 0.3\n",
        "random_state = 0"
      ],
      "metadata": {
        "id": "8azNnhSXQiPx"
      },
      "execution_count": null,
      "outputs": []
    },
    {
      "cell_type": "code",
      "source": [
        "# import and split\n",
        "from sklearn.model_selection import train_test_split\n",
        "\n",
        "X_train, X_test , y_train, y_test = train_test_split(X, y, test_size = test_size, random_state = random_state)\n",
        "\n",
        "X_train.shape"
      ],
      "metadata": {
        "colab": {
          "base_uri": "https://localhost:8080/"
        },
        "id": "4rjdP8P0Qxy0",
        "outputId": "046a68b3-7009-4512-d094-19fa2e9a0bd7"
      },
      "execution_count": null,
      "outputs": [
        {
          "output_type": "execute_result",
          "data": {
            "text/plain": [
              "(2800, 14)"
            ]
          },
          "metadata": {},
          "execution_count": 60
        }
      ]
    },
    {
      "cell_type": "code",
      "source": [
        "X_train"
      ],
      "metadata": {
        "colab": {
          "base_uri": "https://localhost:8080/",
          "height": 444
        },
        "id": "uLqMghU9h4cb",
        "outputId": "ca7031e2-4f82-45e3-d0f7-450db8ec3a5a"
      },
      "execution_count": null,
      "outputs": [
        {
          "output_type": "execute_result",
          "data": {
            "text/plain": [
              "          CRIM         ZN      INDUS  POLINDEX   RM    AGE       DIS  \\\n",
              "3336  2.419091   0.463975   9.464205  0.532043  7.0   89.0  2.728780   \n",
              "2540  0.488829  20.571280   7.478404  1.016154  8.0    NaN  4.586203   \n",
              "332   6.724792   1.078185  19.284110  2.851655  5.0  100.0  2.233994   \n",
              "852   4.538359   1.001537  19.932920  1.537855  6.0   99.0  2.007103   \n",
              "1036  1.417745   1.787572  10.842595  1.000364  9.0   59.0  5.261521   \n",
              "...        ...        ...        ...       ...  ...    ...       ...   \n",
              "835   1.394147   0.627457  20.233859  1.424083  6.0   89.0  2.897095   \n",
              "3264  0.521555   0.577790   7.854897  1.077468  7.0   41.0  7.337250   \n",
              "1653  2.947014   0.304167  18.735790  2.185721  6.0   42.0  4.705873   \n",
              "2607  0.281730   1.062591  10.384701  1.336136  8.0   43.0  2.914896   \n",
              "2732  0.215863   0.867199  10.136610  0.790720  8.0   91.0  2.902494   \n",
              "\n",
              "      HIGHWAYCOUNT         TAX    PTRATIO         IMM        BPL RIVERSIDE  \\\n",
              "3336             6  384.198987  21.935086  396.354281  16.238600        NO   \n",
              "2540             4  223.493157  20.379584  391.076562   6.773790       YES   \n",
              "332             24  666.746344  21.520119  375.538011   3.612275        NO   \n",
              "852              6  403.073317  15.048875  263.905771  16.826235        NO   \n",
              "1036             6  304.497433  20.017223  397.560712  13.037207        NO   \n",
              "...            ...         ...        ...         ...        ...       ...   \n",
              "835              5  403.270373  15.822927  344.716955  12.415520       YES   \n",
              "3264             5  287.957137  20.592803  398.467229   7.059517        NO   \n",
              "1653            24  666.264380  21.329589  393.644352  11.035631        NO   \n",
              "2607             6  391.262739  19.514332  397.426490  14.277889        NO   \n",
              "2732             6  386.482520  21.366470  393.672270  12.543570        NO   \n",
              "\n",
              "      CATEGORY  \n",
              "3336         2  \n",
              "2540         4  \n",
              "332          5  \n",
              "852          3  \n",
              "1036         3  \n",
              "...        ...  \n",
              "835          2  \n",
              "3264         3  \n",
              "1653         3  \n",
              "2607         3  \n",
              "2732         3  \n",
              "\n",
              "[2800 rows x 14 columns]"
            ],
            "text/html": [
              "\n",
              "  <div id=\"df-d5130a46-9758-47e6-9b04-8fc6404ffd54\" class=\"colab-df-container\">\n",
              "    <div>\n",
              "<style scoped>\n",
              "    .dataframe tbody tr th:only-of-type {\n",
              "        vertical-align: middle;\n",
              "    }\n",
              "\n",
              "    .dataframe tbody tr th {\n",
              "        vertical-align: top;\n",
              "    }\n",
              "\n",
              "    .dataframe thead th {\n",
              "        text-align: right;\n",
              "    }\n",
              "</style>\n",
              "<table border=\"1\" class=\"dataframe\">\n",
              "  <thead>\n",
              "    <tr style=\"text-align: right;\">\n",
              "      <th></th>\n",
              "      <th>CRIM</th>\n",
              "      <th>ZN</th>\n",
              "      <th>INDUS</th>\n",
              "      <th>POLINDEX</th>\n",
              "      <th>RM</th>\n",
              "      <th>AGE</th>\n",
              "      <th>DIS</th>\n",
              "      <th>HIGHWAYCOUNT</th>\n",
              "      <th>TAX</th>\n",
              "      <th>PTRATIO</th>\n",
              "      <th>IMM</th>\n",
              "      <th>BPL</th>\n",
              "      <th>RIVERSIDE</th>\n",
              "      <th>CATEGORY</th>\n",
              "    </tr>\n",
              "  </thead>\n",
              "  <tbody>\n",
              "    <tr>\n",
              "      <th>3336</th>\n",
              "      <td>2.419091</td>\n",
              "      <td>0.463975</td>\n",
              "      <td>9.464205</td>\n",
              "      <td>0.532043</td>\n",
              "      <td>7.0</td>\n",
              "      <td>89.0</td>\n",
              "      <td>2.728780</td>\n",
              "      <td>6</td>\n",
              "      <td>384.198987</td>\n",
              "      <td>21.935086</td>\n",
              "      <td>396.354281</td>\n",
              "      <td>16.238600</td>\n",
              "      <td>NO</td>\n",
              "      <td>2</td>\n",
              "    </tr>\n",
              "    <tr>\n",
              "      <th>2540</th>\n",
              "      <td>0.488829</td>\n",
              "      <td>20.571280</td>\n",
              "      <td>7.478404</td>\n",
              "      <td>1.016154</td>\n",
              "      <td>8.0</td>\n",
              "      <td>NaN</td>\n",
              "      <td>4.586203</td>\n",
              "      <td>4</td>\n",
              "      <td>223.493157</td>\n",
              "      <td>20.379584</td>\n",
              "      <td>391.076562</td>\n",
              "      <td>6.773790</td>\n",
              "      <td>YES</td>\n",
              "      <td>4</td>\n",
              "    </tr>\n",
              "    <tr>\n",
              "      <th>332</th>\n",
              "      <td>6.724792</td>\n",
              "      <td>1.078185</td>\n",
              "      <td>19.284110</td>\n",
              "      <td>2.851655</td>\n",
              "      <td>5.0</td>\n",
              "      <td>100.0</td>\n",
              "      <td>2.233994</td>\n",
              "      <td>24</td>\n",
              "      <td>666.746344</td>\n",
              "      <td>21.520119</td>\n",
              "      <td>375.538011</td>\n",
              "      <td>3.612275</td>\n",
              "      <td>NO</td>\n",
              "      <td>5</td>\n",
              "    </tr>\n",
              "    <tr>\n",
              "      <th>852</th>\n",
              "      <td>4.538359</td>\n",
              "      <td>1.001537</td>\n",
              "      <td>19.932920</td>\n",
              "      <td>1.537855</td>\n",
              "      <td>6.0</td>\n",
              "      <td>99.0</td>\n",
              "      <td>2.007103</td>\n",
              "      <td>6</td>\n",
              "      <td>403.073317</td>\n",
              "      <td>15.048875</td>\n",
              "      <td>263.905771</td>\n",
              "      <td>16.826235</td>\n",
              "      <td>NO</td>\n",
              "      <td>3</td>\n",
              "    </tr>\n",
              "    <tr>\n",
              "      <th>1036</th>\n",
              "      <td>1.417745</td>\n",
              "      <td>1.787572</td>\n",
              "      <td>10.842595</td>\n",
              "      <td>1.000364</td>\n",
              "      <td>9.0</td>\n",
              "      <td>59.0</td>\n",
              "      <td>5.261521</td>\n",
              "      <td>6</td>\n",
              "      <td>304.497433</td>\n",
              "      <td>20.017223</td>\n",
              "      <td>397.560712</td>\n",
              "      <td>13.037207</td>\n",
              "      <td>NO</td>\n",
              "      <td>3</td>\n",
              "    </tr>\n",
              "    <tr>\n",
              "      <th>...</th>\n",
              "      <td>...</td>\n",
              "      <td>...</td>\n",
              "      <td>...</td>\n",
              "      <td>...</td>\n",
              "      <td>...</td>\n",
              "      <td>...</td>\n",
              "      <td>...</td>\n",
              "      <td>...</td>\n",
              "      <td>...</td>\n",
              "      <td>...</td>\n",
              "      <td>...</td>\n",
              "      <td>...</td>\n",
              "      <td>...</td>\n",
              "      <td>...</td>\n",
              "    </tr>\n",
              "    <tr>\n",
              "      <th>835</th>\n",
              "      <td>1.394147</td>\n",
              "      <td>0.627457</td>\n",
              "      <td>20.233859</td>\n",
              "      <td>1.424083</td>\n",
              "      <td>6.0</td>\n",
              "      <td>89.0</td>\n",
              "      <td>2.897095</td>\n",
              "      <td>5</td>\n",
              "      <td>403.270373</td>\n",
              "      <td>15.822927</td>\n",
              "      <td>344.716955</td>\n",
              "      <td>12.415520</td>\n",
              "      <td>YES</td>\n",
              "      <td>2</td>\n",
              "    </tr>\n",
              "    <tr>\n",
              "      <th>3264</th>\n",
              "      <td>0.521555</td>\n",
              "      <td>0.577790</td>\n",
              "      <td>7.854897</td>\n",
              "      <td>1.077468</td>\n",
              "      <td>7.0</td>\n",
              "      <td>41.0</td>\n",
              "      <td>7.337250</td>\n",
              "      <td>5</td>\n",
              "      <td>287.957137</td>\n",
              "      <td>20.592803</td>\n",
              "      <td>398.467229</td>\n",
              "      <td>7.059517</td>\n",
              "      <td>NO</td>\n",
              "      <td>3</td>\n",
              "    </tr>\n",
              "    <tr>\n",
              "      <th>1653</th>\n",
              "      <td>2.947014</td>\n",
              "      <td>0.304167</td>\n",
              "      <td>18.735790</td>\n",
              "      <td>2.185721</td>\n",
              "      <td>6.0</td>\n",
              "      <td>42.0</td>\n",
              "      <td>4.705873</td>\n",
              "      <td>24</td>\n",
              "      <td>666.264380</td>\n",
              "      <td>21.329589</td>\n",
              "      <td>393.644352</td>\n",
              "      <td>11.035631</td>\n",
              "      <td>NO</td>\n",
              "      <td>3</td>\n",
              "    </tr>\n",
              "    <tr>\n",
              "      <th>2607</th>\n",
              "      <td>0.281730</td>\n",
              "      <td>1.062591</td>\n",
              "      <td>10.384701</td>\n",
              "      <td>1.336136</td>\n",
              "      <td>8.0</td>\n",
              "      <td>43.0</td>\n",
              "      <td>2.914896</td>\n",
              "      <td>6</td>\n",
              "      <td>391.262739</td>\n",
              "      <td>19.514332</td>\n",
              "      <td>397.426490</td>\n",
              "      <td>14.277889</td>\n",
              "      <td>NO</td>\n",
              "      <td>3</td>\n",
              "    </tr>\n",
              "    <tr>\n",
              "      <th>2732</th>\n",
              "      <td>0.215863</td>\n",
              "      <td>0.867199</td>\n",
              "      <td>10.136610</td>\n",
              "      <td>0.790720</td>\n",
              "      <td>8.0</td>\n",
              "      <td>91.0</td>\n",
              "      <td>2.902494</td>\n",
              "      <td>6</td>\n",
              "      <td>386.482520</td>\n",
              "      <td>21.366470</td>\n",
              "      <td>393.672270</td>\n",
              "      <td>12.543570</td>\n",
              "      <td>NO</td>\n",
              "      <td>3</td>\n",
              "    </tr>\n",
              "  </tbody>\n",
              "</table>\n",
              "<p>2800 rows × 14 columns</p>\n",
              "</div>\n",
              "    <div class=\"colab-df-buttons\">\n",
              "\n",
              "  <div class=\"colab-df-container\">\n",
              "    <button class=\"colab-df-convert\" onclick=\"convertToInteractive('df-d5130a46-9758-47e6-9b04-8fc6404ffd54')\"\n",
              "            title=\"Convert this dataframe to an interactive table.\"\n",
              "            style=\"display:none;\">\n",
              "\n",
              "  <svg xmlns=\"http://www.w3.org/2000/svg\" height=\"24px\" viewBox=\"0 -960 960 960\">\n",
              "    <path d=\"M120-120v-720h720v720H120Zm60-500h600v-160H180v160Zm220 220h160v-160H400v160Zm0 220h160v-160H400v160ZM180-400h160v-160H180v160Zm440 0h160v-160H620v160ZM180-180h160v-160H180v160Zm440 0h160v-160H620v160Z\"/>\n",
              "  </svg>\n",
              "    </button>\n",
              "\n",
              "  <style>\n",
              "    .colab-df-container {\n",
              "      display:flex;\n",
              "      gap: 12px;\n",
              "    }\n",
              "\n",
              "    .colab-df-convert {\n",
              "      background-color: #E8F0FE;\n",
              "      border: none;\n",
              "      border-radius: 50%;\n",
              "      cursor: pointer;\n",
              "      display: none;\n",
              "      fill: #1967D2;\n",
              "      height: 32px;\n",
              "      padding: 0 0 0 0;\n",
              "      width: 32px;\n",
              "    }\n",
              "\n",
              "    .colab-df-convert:hover {\n",
              "      background-color: #E2EBFA;\n",
              "      box-shadow: 0px 1px 2px rgba(60, 64, 67, 0.3), 0px 1px 3px 1px rgba(60, 64, 67, 0.15);\n",
              "      fill: #174EA6;\n",
              "    }\n",
              "\n",
              "    .colab-df-buttons div {\n",
              "      margin-bottom: 4px;\n",
              "    }\n",
              "\n",
              "    [theme=dark] .colab-df-convert {\n",
              "      background-color: #3B4455;\n",
              "      fill: #D2E3FC;\n",
              "    }\n",
              "\n",
              "    [theme=dark] .colab-df-convert:hover {\n",
              "      background-color: #434B5C;\n",
              "      box-shadow: 0px 1px 3px 1px rgba(0, 0, 0, 0.15);\n",
              "      filter: drop-shadow(0px 1px 2px rgba(0, 0, 0, 0.3));\n",
              "      fill: #FFFFFF;\n",
              "    }\n",
              "  </style>\n",
              "\n",
              "    <script>\n",
              "      const buttonEl =\n",
              "        document.querySelector('#df-d5130a46-9758-47e6-9b04-8fc6404ffd54 button.colab-df-convert');\n",
              "      buttonEl.style.display =\n",
              "        google.colab.kernel.accessAllowed ? 'block' : 'none';\n",
              "\n",
              "      async function convertToInteractive(key) {\n",
              "        const element = document.querySelector('#df-d5130a46-9758-47e6-9b04-8fc6404ffd54');\n",
              "        const dataTable =\n",
              "          await google.colab.kernel.invokeFunction('convertToInteractive',\n",
              "                                                    [key], {});\n",
              "        if (!dataTable) return;\n",
              "\n",
              "        const docLinkHtml = 'Like what you see? Visit the ' +\n",
              "          '<a target=\"_blank\" href=https://colab.research.google.com/notebooks/data_table.ipynb>data table notebook</a>'\n",
              "          + ' to learn more about interactive tables.';\n",
              "        element.innerHTML = '';\n",
              "        dataTable['output_type'] = 'display_data';\n",
              "        await google.colab.output.renderOutput(dataTable, element);\n",
              "        const docLink = document.createElement('div');\n",
              "        docLink.innerHTML = docLinkHtml;\n",
              "        element.appendChild(docLink);\n",
              "      }\n",
              "    </script>\n",
              "  </div>\n",
              "\n",
              "\n",
              "<div id=\"df-3aabacdc-cdd3-4e50-bc0d-47e8f3e1f55b\">\n",
              "  <button class=\"colab-df-quickchart\" onclick=\"quickchart('df-3aabacdc-cdd3-4e50-bc0d-47e8f3e1f55b')\"\n",
              "            title=\"Suggest charts\"\n",
              "            style=\"display:none;\">\n",
              "\n",
              "<svg xmlns=\"http://www.w3.org/2000/svg\" height=\"24px\"viewBox=\"0 0 24 24\"\n",
              "     width=\"24px\">\n",
              "    <g>\n",
              "        <path d=\"M19 3H5c-1.1 0-2 .9-2 2v14c0 1.1.9 2 2 2h14c1.1 0 2-.9 2-2V5c0-1.1-.9-2-2-2zM9 17H7v-7h2v7zm4 0h-2V7h2v10zm4 0h-2v-4h2v4z\"/>\n",
              "    </g>\n",
              "</svg>\n",
              "  </button>\n",
              "\n",
              "<style>\n",
              "  .colab-df-quickchart {\n",
              "      --bg-color: #E8F0FE;\n",
              "      --fill-color: #1967D2;\n",
              "      --hover-bg-color: #E2EBFA;\n",
              "      --hover-fill-color: #174EA6;\n",
              "      --disabled-fill-color: #AAA;\n",
              "      --disabled-bg-color: #DDD;\n",
              "  }\n",
              "\n",
              "  [theme=dark] .colab-df-quickchart {\n",
              "      --bg-color: #3B4455;\n",
              "      --fill-color: #D2E3FC;\n",
              "      --hover-bg-color: #434B5C;\n",
              "      --hover-fill-color: #FFFFFF;\n",
              "      --disabled-bg-color: #3B4455;\n",
              "      --disabled-fill-color: #666;\n",
              "  }\n",
              "\n",
              "  .colab-df-quickchart {\n",
              "    background-color: var(--bg-color);\n",
              "    border: none;\n",
              "    border-radius: 50%;\n",
              "    cursor: pointer;\n",
              "    display: none;\n",
              "    fill: var(--fill-color);\n",
              "    height: 32px;\n",
              "    padding: 0;\n",
              "    width: 32px;\n",
              "  }\n",
              "\n",
              "  .colab-df-quickchart:hover {\n",
              "    background-color: var(--hover-bg-color);\n",
              "    box-shadow: 0 1px 2px rgba(60, 64, 67, 0.3), 0 1px 3px 1px rgba(60, 64, 67, 0.15);\n",
              "    fill: var(--button-hover-fill-color);\n",
              "  }\n",
              "\n",
              "  .colab-df-quickchart-complete:disabled,\n",
              "  .colab-df-quickchart-complete:disabled:hover {\n",
              "    background-color: var(--disabled-bg-color);\n",
              "    fill: var(--disabled-fill-color);\n",
              "    box-shadow: none;\n",
              "  }\n",
              "\n",
              "  .colab-df-spinner {\n",
              "    border: 2px solid var(--fill-color);\n",
              "    border-color: transparent;\n",
              "    border-bottom-color: var(--fill-color);\n",
              "    animation:\n",
              "      spin 1s steps(1) infinite;\n",
              "  }\n",
              "\n",
              "  @keyframes spin {\n",
              "    0% {\n",
              "      border-color: transparent;\n",
              "      border-bottom-color: var(--fill-color);\n",
              "      border-left-color: var(--fill-color);\n",
              "    }\n",
              "    20% {\n",
              "      border-color: transparent;\n",
              "      border-left-color: var(--fill-color);\n",
              "      border-top-color: var(--fill-color);\n",
              "    }\n",
              "    30% {\n",
              "      border-color: transparent;\n",
              "      border-left-color: var(--fill-color);\n",
              "      border-top-color: var(--fill-color);\n",
              "      border-right-color: var(--fill-color);\n",
              "    }\n",
              "    40% {\n",
              "      border-color: transparent;\n",
              "      border-right-color: var(--fill-color);\n",
              "      border-top-color: var(--fill-color);\n",
              "    }\n",
              "    60% {\n",
              "      border-color: transparent;\n",
              "      border-right-color: var(--fill-color);\n",
              "    }\n",
              "    80% {\n",
              "      border-color: transparent;\n",
              "      border-right-color: var(--fill-color);\n",
              "      border-bottom-color: var(--fill-color);\n",
              "    }\n",
              "    90% {\n",
              "      border-color: transparent;\n",
              "      border-bottom-color: var(--fill-color);\n",
              "    }\n",
              "  }\n",
              "</style>\n",
              "\n",
              "  <script>\n",
              "    async function quickchart(key) {\n",
              "      const quickchartButtonEl =\n",
              "        document.querySelector('#' + key + ' button');\n",
              "      quickchartButtonEl.disabled = true;  // To prevent multiple clicks.\n",
              "      quickchartButtonEl.classList.add('colab-df-spinner');\n",
              "      try {\n",
              "        const charts = await google.colab.kernel.invokeFunction(\n",
              "            'suggestCharts', [key], {});\n",
              "      } catch (error) {\n",
              "        console.error('Error during call to suggestCharts:', error);\n",
              "      }\n",
              "      quickchartButtonEl.classList.remove('colab-df-spinner');\n",
              "      quickchartButtonEl.classList.add('colab-df-quickchart-complete');\n",
              "    }\n",
              "    (() => {\n",
              "      let quickchartButtonEl =\n",
              "        document.querySelector('#df-3aabacdc-cdd3-4e50-bc0d-47e8f3e1f55b button');\n",
              "      quickchartButtonEl.style.display =\n",
              "        google.colab.kernel.accessAllowed ? 'block' : 'none';\n",
              "    })();\n",
              "  </script>\n",
              "</div>\n",
              "\n",
              "  <div id=\"id_e86565aa-0f75-40a3-b873-a6fa4718e6ce\">\n",
              "    <style>\n",
              "      .colab-df-generate {\n",
              "        background-color: #E8F0FE;\n",
              "        border: none;\n",
              "        border-radius: 50%;\n",
              "        cursor: pointer;\n",
              "        display: none;\n",
              "        fill: #1967D2;\n",
              "        height: 32px;\n",
              "        padding: 0 0 0 0;\n",
              "        width: 32px;\n",
              "      }\n",
              "\n",
              "      .colab-df-generate:hover {\n",
              "        background-color: #E2EBFA;\n",
              "        box-shadow: 0px 1px 2px rgba(60, 64, 67, 0.3), 0px 1px 3px 1px rgba(60, 64, 67, 0.15);\n",
              "        fill: #174EA6;\n",
              "      }\n",
              "\n",
              "      [theme=dark] .colab-df-generate {\n",
              "        background-color: #3B4455;\n",
              "        fill: #D2E3FC;\n",
              "      }\n",
              "\n",
              "      [theme=dark] .colab-df-generate:hover {\n",
              "        background-color: #434B5C;\n",
              "        box-shadow: 0px 1px 3px 1px rgba(0, 0, 0, 0.15);\n",
              "        filter: drop-shadow(0px 1px 2px rgba(0, 0, 0, 0.3));\n",
              "        fill: #FFFFFF;\n",
              "      }\n",
              "    </style>\n",
              "    <button class=\"colab-df-generate\" onclick=\"generateWithVariable('X_train')\"\n",
              "            title=\"Generate code using this dataframe.\"\n",
              "            style=\"display:none;\">\n",
              "\n",
              "  <svg xmlns=\"http://www.w3.org/2000/svg\" height=\"24px\"viewBox=\"0 0 24 24\"\n",
              "       width=\"24px\">\n",
              "    <path d=\"M7,19H8.4L18.45,9,17,7.55,7,17.6ZM5,21V16.75L18.45,3.32a2,2,0,0,1,2.83,0l1.4,1.43a1.91,1.91,0,0,1,.58,1.4,1.91,1.91,0,0,1-.58,1.4L9.25,21ZM18.45,9,17,7.55Zm-12,3A5.31,5.31,0,0,0,4.9,8.1,5.31,5.31,0,0,0,1,6.5,5.31,5.31,0,0,0,4.9,4.9,5.31,5.31,0,0,0,6.5,1,5.31,5.31,0,0,0,8.1,4.9,5.31,5.31,0,0,0,12,6.5,5.46,5.46,0,0,0,6.5,12Z\"/>\n",
              "  </svg>\n",
              "    </button>\n",
              "    <script>\n",
              "      (() => {\n",
              "      const buttonEl =\n",
              "        document.querySelector('#id_e86565aa-0f75-40a3-b873-a6fa4718e6ce button.colab-df-generate');\n",
              "      buttonEl.style.display =\n",
              "        google.colab.kernel.accessAllowed ? 'block' : 'none';\n",
              "\n",
              "      buttonEl.onclick = () => {\n",
              "        google.colab.notebook.generateWithVariable('X_train');\n",
              "      }\n",
              "      })();\n",
              "    </script>\n",
              "  </div>\n",
              "\n",
              "    </div>\n",
              "  </div>\n"
            ],
            "application/vnd.google.colaboratory.intrinsic+json": {
              "type": "dataframe",
              "variable_name": "X_train",
              "summary": "{\n  \"name\": \"X_train\",\n  \"rows\": 2800,\n  \"fields\": [\n    {\n      \"column\": \"CRIM\",\n      \"properties\": {\n        \"dtype\": \"number\",\n        \"std\": 2.45620657993754,\n        \"min\": 0.0310930438582509,\n        \"max\": 12.619405277902771,\n        \"num_unique_values\": 2800,\n        \"samples\": [\n          0.7138985650914413,\n          3.772272025221955,\n          0.8823506436919981\n        ],\n        \"semantic_type\": \"\",\n        \"description\": \"\"\n      }\n    },\n    {\n      \"column\": \"ZN\",\n      \"properties\": {\n        \"dtype\": \"number\",\n        \"std\": 23.51941758476855,\n        \"min\": 0.0002814402235964,\n        \"max\": 101.67073973465143,\n        \"num_unique_values\": 2800,\n        \"samples\": [\n          1.0679973179683335,\n          0.1493793494836789,\n          20.664328749092697\n        ],\n        \"semantic_type\": \"\",\n        \"description\": \"\"\n      }\n    },\n    {\n      \"column\": \"INDUS\",\n      \"properties\": {\n        \"dtype\": \"number\",\n        \"std\": 6.846293909782759,\n        \"min\": 0.931082408299152,\n        \"max\": 29.344525676354444,\n        \"num_unique_values\": 2800,\n        \"samples\": [\n          12.469035969333104,\n          20.53344338223429,\n          6.511921047885098\n        ],\n        \"semantic_type\": \"\",\n        \"description\": \"\"\n      }\n    },\n    {\n      \"column\": \"POLINDEX\",\n      \"properties\": {\n        \"dtype\": \"number\",\n        \"std\": 0.6070380998724044,\n        \"min\": 0.4050847999570661,\n        \"max\": 4.156570046265983,\n        \"num_unique_values\": 2800,\n        \"samples\": [\n          2.2444423706688084,\n          1.2415373978452462,\n          1.9965985371075587\n        ],\n        \"semantic_type\": \"\",\n        \"description\": \"\"\n      }\n    },\n    {\n      \"column\": \"RM\",\n      \"properties\": {\n        \"dtype\": \"number\",\n        \"std\": 0.9442316534165205,\n        \"min\": 4.0,\n        \"max\": 11.0,\n        \"num_unique_values\": 8,\n        \"samples\": [\n          8.0,\n          10.0,\n          7.0\n        ],\n        \"semantic_type\": \"\",\n        \"description\": \"\"\n      }\n    },\n    {\n      \"column\": \"AGE\",\n      \"properties\": {\n        \"dtype\": \"number\",\n        \"std\": 28.24169590326954,\n        \"min\": 3.0,\n        \"max\": 103.0,\n        \"num_unique_values\": 100,\n        \"samples\": [\n          21.0,\n          41.0,\n          10.0\n        ],\n        \"semantic_type\": \"\",\n        \"description\": \"\"\n      }\n    },\n    {\n      \"column\": \"DIS\",\n      \"properties\": {\n        \"dtype\": \"number\",\n        \"std\": 2.1831033446414057,\n        \"min\": 1.163081974016663,\n        \"max\": 13.754479513004938,\n        \"num_unique_values\": 2800,\n        \"samples\": [\n          5.3768526429552255,\n          2.4788046759969915,\n          2.3154101042339037\n        ],\n        \"semantic_type\": \"\",\n        \"description\": \"\"\n      }\n    },\n    {\n      \"column\": \"HIGHWAYCOUNT\",\n      \"properties\": {\n        \"dtype\": \"number\",\n        \"std\": 7,\n        \"min\": 1,\n        \"max\": 27,\n        \"num_unique_values\": 15,\n        \"samples\": [\n          8,\n          27,\n          6\n        ],\n        \"semantic_type\": \"\",\n        \"description\": \"\"\n      }\n    },\n    {\n      \"column\": \"TAX\",\n      \"properties\": {\n        \"dtype\": \"number\",\n        \"std\": 150.97655771214855,\n        \"min\": 187.0250989029544,\n        \"max\": 713.0281332130706,\n        \"num_unique_values\": 2800,\n        \"samples\": [\n          277.6834117115836,\n          403.1309619112468,\n          264.7904161561951\n        ],\n        \"semantic_type\": \"\",\n        \"description\": \"\"\n      }\n    },\n    {\n      \"column\": \"PTRATIO\",\n      \"properties\": {\n        \"dtype\": \"number\",\n        \"std\": 2.281591063610995,\n        \"min\": 12.641899141366697,\n        \"max\": 23.846909416649677,\n        \"num_unique_values\": 2800,\n        \"samples\": [\n          18.747031142538237,\n          14.809147518406997,\n          13.636799976084998\n        ],\n        \"semantic_type\": \"\",\n        \"description\": \"\"\n      }\n    },\n    {\n      \"column\": \"IMM\",\n      \"properties\": {\n        \"dtype\": \"number\",\n        \"std\": 65.36141859096143,\n        \"min\": 0.5329802728126296,\n        \"max\": 400.4553304228537,\n        \"num_unique_values\": 2800,\n        \"samples\": [\n          394.9064575278335,\n          88.07654696255794,\n          388.59700887019903\n        ],\n        \"semantic_type\": \"\",\n        \"description\": \"\"\n      }\n    },\n    {\n      \"column\": \"BPL\",\n      \"properties\": {\n        \"dtype\": \"number\",\n        \"std\": 6.107132949735403,\n        \"min\": 1.9862953413087248,\n        \"max\": 35.99728129531004,\n        \"num_unique_values\": 2800,\n        \"samples\": [\n          18.601029935576623,\n          16.07992059625114,\n          7.44094207395538\n        ],\n        \"semantic_type\": \"\",\n        \"description\": \"\"\n      }\n    },\n    {\n      \"column\": \"RIVERSIDE\",\n      \"properties\": {\n        \"dtype\": \"category\",\n        \"num_unique_values\": 2,\n        \"samples\": [\n          \"YES\",\n          \"NO\"\n        ],\n        \"semantic_type\": \"\",\n        \"description\": \"\"\n      }\n    },\n    {\n      \"column\": \"CATEGORY\",\n      \"properties\": {\n        \"dtype\": \"number\",\n        \"std\": 0,\n        \"min\": 1,\n        \"max\": 5,\n        \"num_unique_values\": 5,\n        \"samples\": [\n          4,\n          1\n        ],\n        \"semantic_type\": \"\",\n        \"description\": \"\"\n      }\n    }\n  ]\n}"
            }
          },
          "metadata": {},
          "execution_count": 61
        }
      ]
    },
    {
      "cell_type": "markdown",
      "source": [
        "## Q13 (most time consuming - took 10 min to solve)"
      ],
      "metadata": {
        "id": "80y0BNUnT3i4"
      }
    },
    {
      "cell_type": "markdown",
      "source": [
        "Apply following preprocessing steps:\n",
        "\n",
        "1. Drop CATEGORY column\n",
        "2. CRIM: min max scaling\n",
        "3. ZN: min max scaling\n",
        "4. INDUS: standard scaling\n",
        "5. POLINDEX: min max scaling\n",
        "6. DIS: min max scaling\n",
        "7. HIGHWAYCOUNT: min max scaling\n",
        "8. TAX: min max scaling\n",
        "9. PTRATIO: min max scaling\n",
        "10. IMM: min max scaling\n",
        "11. BPL: min max scaling\n",
        "12. RM: impute with median then min max scaling\n",
        "13. AGE: impute with mean then min max scaling\n",
        "14. RIVERSIDE: Impute with most frequent value then one hot encode.\n",
        "\n",
        "NOTE:\n",
        "1. Make sure to preprocess the features in exactly above order. Answer of Q.16 depends upon correct order of featuring processing.\n",
        "2. You may have to use multiple instances of a trasnformer for this question.\n",
        "\n",
        "\n",
        "How many features are there after performing above transformation?"
      ],
      "metadata": {
        "id": "m4ny6I41Tjho"
      }
    },
    {
      "cell_type": "code",
      "source": [
        "# LOAD LIBS INCLUDING PIPELINE AND COLUMN TRANSFORMER\n",
        "from sklearn.pipeline import Pipeline\n",
        "from sklearn.compose import ColumnTransformer\n",
        "from sklearn.preprocessing import MinMaxScaler, StandardScaler, OneHotEncoder\n",
        "from sklearn.impute import SimpleImputer\n"
      ],
      "metadata": {
        "id": "CCqFyhQfRK_8"
      },
      "execution_count": null,
      "outputs": []
    },
    {
      "cell_type": "code",
      "source": [
        "# drop the category column\n",
        "X_train.drop(columns = \"CATEGORY\", inplace = True)"
      ],
      "metadata": {
        "id": "br9LikWwVI4f"
      },
      "execution_count": null,
      "outputs": []
    },
    {
      "cell_type": "code",
      "source": [
        "X_train"
      ],
      "metadata": {
        "colab": {
          "base_uri": "https://localhost:8080/",
          "height": 424
        },
        "id": "UR-KPkaPiSMA",
        "outputId": "5459f7f6-e7d1-4daa-e4c2-eda0048b4c03"
      },
      "execution_count": null,
      "outputs": [
        {
          "output_type": "execute_result",
          "data": {
            "text/plain": [
              "          CRIM         ZN      INDUS  POLINDEX   RM    AGE       DIS  \\\n",
              "3336  2.419091   0.463975   9.464205  0.532043  7.0   89.0  2.728780   \n",
              "2540  0.488829  20.571280   7.478404  1.016154  8.0    NaN  4.586203   \n",
              "332   6.724792   1.078185  19.284110  2.851655  5.0  100.0  2.233994   \n",
              "852   4.538359   1.001537  19.932920  1.537855  6.0   99.0  2.007103   \n",
              "1036  1.417745   1.787572  10.842595  1.000364  9.0   59.0  5.261521   \n",
              "...        ...        ...        ...       ...  ...    ...       ...   \n",
              "835   1.394147   0.627457  20.233859  1.424083  6.0   89.0  2.897095   \n",
              "3264  0.521555   0.577790   7.854897  1.077468  7.0   41.0  7.337250   \n",
              "1653  2.947014   0.304167  18.735790  2.185721  6.0   42.0  4.705873   \n",
              "2607  0.281730   1.062591  10.384701  1.336136  8.0   43.0  2.914896   \n",
              "2732  0.215863   0.867199  10.136610  0.790720  8.0   91.0  2.902494   \n",
              "\n",
              "      HIGHWAYCOUNT         TAX    PTRATIO         IMM        BPL RIVERSIDE  \n",
              "3336             6  384.198987  21.935086  396.354281  16.238600        NO  \n",
              "2540             4  223.493157  20.379584  391.076562   6.773790       YES  \n",
              "332             24  666.746344  21.520119  375.538011   3.612275        NO  \n",
              "852              6  403.073317  15.048875  263.905771  16.826235        NO  \n",
              "1036             6  304.497433  20.017223  397.560712  13.037207        NO  \n",
              "...            ...         ...        ...         ...        ...       ...  \n",
              "835              5  403.270373  15.822927  344.716955  12.415520       YES  \n",
              "3264             5  287.957137  20.592803  398.467229   7.059517        NO  \n",
              "1653            24  666.264380  21.329589  393.644352  11.035631        NO  \n",
              "2607             6  391.262739  19.514332  397.426490  14.277889        NO  \n",
              "2732             6  386.482520  21.366470  393.672270  12.543570        NO  \n",
              "\n",
              "[2800 rows x 13 columns]"
            ],
            "text/html": [
              "\n",
              "  <div id=\"df-36a6c592-0f7a-4c0a-a5ce-391b2529b2b8\" class=\"colab-df-container\">\n",
              "    <div>\n",
              "<style scoped>\n",
              "    .dataframe tbody tr th:only-of-type {\n",
              "        vertical-align: middle;\n",
              "    }\n",
              "\n",
              "    .dataframe tbody tr th {\n",
              "        vertical-align: top;\n",
              "    }\n",
              "\n",
              "    .dataframe thead th {\n",
              "        text-align: right;\n",
              "    }\n",
              "</style>\n",
              "<table border=\"1\" class=\"dataframe\">\n",
              "  <thead>\n",
              "    <tr style=\"text-align: right;\">\n",
              "      <th></th>\n",
              "      <th>CRIM</th>\n",
              "      <th>ZN</th>\n",
              "      <th>INDUS</th>\n",
              "      <th>POLINDEX</th>\n",
              "      <th>RM</th>\n",
              "      <th>AGE</th>\n",
              "      <th>DIS</th>\n",
              "      <th>HIGHWAYCOUNT</th>\n",
              "      <th>TAX</th>\n",
              "      <th>PTRATIO</th>\n",
              "      <th>IMM</th>\n",
              "      <th>BPL</th>\n",
              "      <th>RIVERSIDE</th>\n",
              "    </tr>\n",
              "  </thead>\n",
              "  <tbody>\n",
              "    <tr>\n",
              "      <th>3336</th>\n",
              "      <td>2.419091</td>\n",
              "      <td>0.463975</td>\n",
              "      <td>9.464205</td>\n",
              "      <td>0.532043</td>\n",
              "      <td>7.0</td>\n",
              "      <td>89.0</td>\n",
              "      <td>2.728780</td>\n",
              "      <td>6</td>\n",
              "      <td>384.198987</td>\n",
              "      <td>21.935086</td>\n",
              "      <td>396.354281</td>\n",
              "      <td>16.238600</td>\n",
              "      <td>NO</td>\n",
              "    </tr>\n",
              "    <tr>\n",
              "      <th>2540</th>\n",
              "      <td>0.488829</td>\n",
              "      <td>20.571280</td>\n",
              "      <td>7.478404</td>\n",
              "      <td>1.016154</td>\n",
              "      <td>8.0</td>\n",
              "      <td>NaN</td>\n",
              "      <td>4.586203</td>\n",
              "      <td>4</td>\n",
              "      <td>223.493157</td>\n",
              "      <td>20.379584</td>\n",
              "      <td>391.076562</td>\n",
              "      <td>6.773790</td>\n",
              "      <td>YES</td>\n",
              "    </tr>\n",
              "    <tr>\n",
              "      <th>332</th>\n",
              "      <td>6.724792</td>\n",
              "      <td>1.078185</td>\n",
              "      <td>19.284110</td>\n",
              "      <td>2.851655</td>\n",
              "      <td>5.0</td>\n",
              "      <td>100.0</td>\n",
              "      <td>2.233994</td>\n",
              "      <td>24</td>\n",
              "      <td>666.746344</td>\n",
              "      <td>21.520119</td>\n",
              "      <td>375.538011</td>\n",
              "      <td>3.612275</td>\n",
              "      <td>NO</td>\n",
              "    </tr>\n",
              "    <tr>\n",
              "      <th>852</th>\n",
              "      <td>4.538359</td>\n",
              "      <td>1.001537</td>\n",
              "      <td>19.932920</td>\n",
              "      <td>1.537855</td>\n",
              "      <td>6.0</td>\n",
              "      <td>99.0</td>\n",
              "      <td>2.007103</td>\n",
              "      <td>6</td>\n",
              "      <td>403.073317</td>\n",
              "      <td>15.048875</td>\n",
              "      <td>263.905771</td>\n",
              "      <td>16.826235</td>\n",
              "      <td>NO</td>\n",
              "    </tr>\n",
              "    <tr>\n",
              "      <th>1036</th>\n",
              "      <td>1.417745</td>\n",
              "      <td>1.787572</td>\n",
              "      <td>10.842595</td>\n",
              "      <td>1.000364</td>\n",
              "      <td>9.0</td>\n",
              "      <td>59.0</td>\n",
              "      <td>5.261521</td>\n",
              "      <td>6</td>\n",
              "      <td>304.497433</td>\n",
              "      <td>20.017223</td>\n",
              "      <td>397.560712</td>\n",
              "      <td>13.037207</td>\n",
              "      <td>NO</td>\n",
              "    </tr>\n",
              "    <tr>\n",
              "      <th>...</th>\n",
              "      <td>...</td>\n",
              "      <td>...</td>\n",
              "      <td>...</td>\n",
              "      <td>...</td>\n",
              "      <td>...</td>\n",
              "      <td>...</td>\n",
              "      <td>...</td>\n",
              "      <td>...</td>\n",
              "      <td>...</td>\n",
              "      <td>...</td>\n",
              "      <td>...</td>\n",
              "      <td>...</td>\n",
              "      <td>...</td>\n",
              "    </tr>\n",
              "    <tr>\n",
              "      <th>835</th>\n",
              "      <td>1.394147</td>\n",
              "      <td>0.627457</td>\n",
              "      <td>20.233859</td>\n",
              "      <td>1.424083</td>\n",
              "      <td>6.0</td>\n",
              "      <td>89.0</td>\n",
              "      <td>2.897095</td>\n",
              "      <td>5</td>\n",
              "      <td>403.270373</td>\n",
              "      <td>15.822927</td>\n",
              "      <td>344.716955</td>\n",
              "      <td>12.415520</td>\n",
              "      <td>YES</td>\n",
              "    </tr>\n",
              "    <tr>\n",
              "      <th>3264</th>\n",
              "      <td>0.521555</td>\n",
              "      <td>0.577790</td>\n",
              "      <td>7.854897</td>\n",
              "      <td>1.077468</td>\n",
              "      <td>7.0</td>\n",
              "      <td>41.0</td>\n",
              "      <td>7.337250</td>\n",
              "      <td>5</td>\n",
              "      <td>287.957137</td>\n",
              "      <td>20.592803</td>\n",
              "      <td>398.467229</td>\n",
              "      <td>7.059517</td>\n",
              "      <td>NO</td>\n",
              "    </tr>\n",
              "    <tr>\n",
              "      <th>1653</th>\n",
              "      <td>2.947014</td>\n",
              "      <td>0.304167</td>\n",
              "      <td>18.735790</td>\n",
              "      <td>2.185721</td>\n",
              "      <td>6.0</td>\n",
              "      <td>42.0</td>\n",
              "      <td>4.705873</td>\n",
              "      <td>24</td>\n",
              "      <td>666.264380</td>\n",
              "      <td>21.329589</td>\n",
              "      <td>393.644352</td>\n",
              "      <td>11.035631</td>\n",
              "      <td>NO</td>\n",
              "    </tr>\n",
              "    <tr>\n",
              "      <th>2607</th>\n",
              "      <td>0.281730</td>\n",
              "      <td>1.062591</td>\n",
              "      <td>10.384701</td>\n",
              "      <td>1.336136</td>\n",
              "      <td>8.0</td>\n",
              "      <td>43.0</td>\n",
              "      <td>2.914896</td>\n",
              "      <td>6</td>\n",
              "      <td>391.262739</td>\n",
              "      <td>19.514332</td>\n",
              "      <td>397.426490</td>\n",
              "      <td>14.277889</td>\n",
              "      <td>NO</td>\n",
              "    </tr>\n",
              "    <tr>\n",
              "      <th>2732</th>\n",
              "      <td>0.215863</td>\n",
              "      <td>0.867199</td>\n",
              "      <td>10.136610</td>\n",
              "      <td>0.790720</td>\n",
              "      <td>8.0</td>\n",
              "      <td>91.0</td>\n",
              "      <td>2.902494</td>\n",
              "      <td>6</td>\n",
              "      <td>386.482520</td>\n",
              "      <td>21.366470</td>\n",
              "      <td>393.672270</td>\n",
              "      <td>12.543570</td>\n",
              "      <td>NO</td>\n",
              "    </tr>\n",
              "  </tbody>\n",
              "</table>\n",
              "<p>2800 rows × 13 columns</p>\n",
              "</div>\n",
              "    <div class=\"colab-df-buttons\">\n",
              "\n",
              "  <div class=\"colab-df-container\">\n",
              "    <button class=\"colab-df-convert\" onclick=\"convertToInteractive('df-36a6c592-0f7a-4c0a-a5ce-391b2529b2b8')\"\n",
              "            title=\"Convert this dataframe to an interactive table.\"\n",
              "            style=\"display:none;\">\n",
              "\n",
              "  <svg xmlns=\"http://www.w3.org/2000/svg\" height=\"24px\" viewBox=\"0 -960 960 960\">\n",
              "    <path d=\"M120-120v-720h720v720H120Zm60-500h600v-160H180v160Zm220 220h160v-160H400v160Zm0 220h160v-160H400v160ZM180-400h160v-160H180v160Zm440 0h160v-160H620v160ZM180-180h160v-160H180v160Zm440 0h160v-160H620v160Z\"/>\n",
              "  </svg>\n",
              "    </button>\n",
              "\n",
              "  <style>\n",
              "    .colab-df-container {\n",
              "      display:flex;\n",
              "      gap: 12px;\n",
              "    }\n",
              "\n",
              "    .colab-df-convert {\n",
              "      background-color: #E8F0FE;\n",
              "      border: none;\n",
              "      border-radius: 50%;\n",
              "      cursor: pointer;\n",
              "      display: none;\n",
              "      fill: #1967D2;\n",
              "      height: 32px;\n",
              "      padding: 0 0 0 0;\n",
              "      width: 32px;\n",
              "    }\n",
              "\n",
              "    .colab-df-convert:hover {\n",
              "      background-color: #E2EBFA;\n",
              "      box-shadow: 0px 1px 2px rgba(60, 64, 67, 0.3), 0px 1px 3px 1px rgba(60, 64, 67, 0.15);\n",
              "      fill: #174EA6;\n",
              "    }\n",
              "\n",
              "    .colab-df-buttons div {\n",
              "      margin-bottom: 4px;\n",
              "    }\n",
              "\n",
              "    [theme=dark] .colab-df-convert {\n",
              "      background-color: #3B4455;\n",
              "      fill: #D2E3FC;\n",
              "    }\n",
              "\n",
              "    [theme=dark] .colab-df-convert:hover {\n",
              "      background-color: #434B5C;\n",
              "      box-shadow: 0px 1px 3px 1px rgba(0, 0, 0, 0.15);\n",
              "      filter: drop-shadow(0px 1px 2px rgba(0, 0, 0, 0.3));\n",
              "      fill: #FFFFFF;\n",
              "    }\n",
              "  </style>\n",
              "\n",
              "    <script>\n",
              "      const buttonEl =\n",
              "        document.querySelector('#df-36a6c592-0f7a-4c0a-a5ce-391b2529b2b8 button.colab-df-convert');\n",
              "      buttonEl.style.display =\n",
              "        google.colab.kernel.accessAllowed ? 'block' : 'none';\n",
              "\n",
              "      async function convertToInteractive(key) {\n",
              "        const element = document.querySelector('#df-36a6c592-0f7a-4c0a-a5ce-391b2529b2b8');\n",
              "        const dataTable =\n",
              "          await google.colab.kernel.invokeFunction('convertToInteractive',\n",
              "                                                    [key], {});\n",
              "        if (!dataTable) return;\n",
              "\n",
              "        const docLinkHtml = 'Like what you see? Visit the ' +\n",
              "          '<a target=\"_blank\" href=https://colab.research.google.com/notebooks/data_table.ipynb>data table notebook</a>'\n",
              "          + ' to learn more about interactive tables.';\n",
              "        element.innerHTML = '';\n",
              "        dataTable['output_type'] = 'display_data';\n",
              "        await google.colab.output.renderOutput(dataTable, element);\n",
              "        const docLink = document.createElement('div');\n",
              "        docLink.innerHTML = docLinkHtml;\n",
              "        element.appendChild(docLink);\n",
              "      }\n",
              "    </script>\n",
              "  </div>\n",
              "\n",
              "\n",
              "<div id=\"df-4fc899b0-3643-4509-880a-4d95feacbb97\">\n",
              "  <button class=\"colab-df-quickchart\" onclick=\"quickchart('df-4fc899b0-3643-4509-880a-4d95feacbb97')\"\n",
              "            title=\"Suggest charts\"\n",
              "            style=\"display:none;\">\n",
              "\n",
              "<svg xmlns=\"http://www.w3.org/2000/svg\" height=\"24px\"viewBox=\"0 0 24 24\"\n",
              "     width=\"24px\">\n",
              "    <g>\n",
              "        <path d=\"M19 3H5c-1.1 0-2 .9-2 2v14c0 1.1.9 2 2 2h14c1.1 0 2-.9 2-2V5c0-1.1-.9-2-2-2zM9 17H7v-7h2v7zm4 0h-2V7h2v10zm4 0h-2v-4h2v4z\"/>\n",
              "    </g>\n",
              "</svg>\n",
              "  </button>\n",
              "\n",
              "<style>\n",
              "  .colab-df-quickchart {\n",
              "      --bg-color: #E8F0FE;\n",
              "      --fill-color: #1967D2;\n",
              "      --hover-bg-color: #E2EBFA;\n",
              "      --hover-fill-color: #174EA6;\n",
              "      --disabled-fill-color: #AAA;\n",
              "      --disabled-bg-color: #DDD;\n",
              "  }\n",
              "\n",
              "  [theme=dark] .colab-df-quickchart {\n",
              "      --bg-color: #3B4455;\n",
              "      --fill-color: #D2E3FC;\n",
              "      --hover-bg-color: #434B5C;\n",
              "      --hover-fill-color: #FFFFFF;\n",
              "      --disabled-bg-color: #3B4455;\n",
              "      --disabled-fill-color: #666;\n",
              "  }\n",
              "\n",
              "  .colab-df-quickchart {\n",
              "    background-color: var(--bg-color);\n",
              "    border: none;\n",
              "    border-radius: 50%;\n",
              "    cursor: pointer;\n",
              "    display: none;\n",
              "    fill: var(--fill-color);\n",
              "    height: 32px;\n",
              "    padding: 0;\n",
              "    width: 32px;\n",
              "  }\n",
              "\n",
              "  .colab-df-quickchart:hover {\n",
              "    background-color: var(--hover-bg-color);\n",
              "    box-shadow: 0 1px 2px rgba(60, 64, 67, 0.3), 0 1px 3px 1px rgba(60, 64, 67, 0.15);\n",
              "    fill: var(--button-hover-fill-color);\n",
              "  }\n",
              "\n",
              "  .colab-df-quickchart-complete:disabled,\n",
              "  .colab-df-quickchart-complete:disabled:hover {\n",
              "    background-color: var(--disabled-bg-color);\n",
              "    fill: var(--disabled-fill-color);\n",
              "    box-shadow: none;\n",
              "  }\n",
              "\n",
              "  .colab-df-spinner {\n",
              "    border: 2px solid var(--fill-color);\n",
              "    border-color: transparent;\n",
              "    border-bottom-color: var(--fill-color);\n",
              "    animation:\n",
              "      spin 1s steps(1) infinite;\n",
              "  }\n",
              "\n",
              "  @keyframes spin {\n",
              "    0% {\n",
              "      border-color: transparent;\n",
              "      border-bottom-color: var(--fill-color);\n",
              "      border-left-color: var(--fill-color);\n",
              "    }\n",
              "    20% {\n",
              "      border-color: transparent;\n",
              "      border-left-color: var(--fill-color);\n",
              "      border-top-color: var(--fill-color);\n",
              "    }\n",
              "    30% {\n",
              "      border-color: transparent;\n",
              "      border-left-color: var(--fill-color);\n",
              "      border-top-color: var(--fill-color);\n",
              "      border-right-color: var(--fill-color);\n",
              "    }\n",
              "    40% {\n",
              "      border-color: transparent;\n",
              "      border-right-color: var(--fill-color);\n",
              "      border-top-color: var(--fill-color);\n",
              "    }\n",
              "    60% {\n",
              "      border-color: transparent;\n",
              "      border-right-color: var(--fill-color);\n",
              "    }\n",
              "    80% {\n",
              "      border-color: transparent;\n",
              "      border-right-color: var(--fill-color);\n",
              "      border-bottom-color: var(--fill-color);\n",
              "    }\n",
              "    90% {\n",
              "      border-color: transparent;\n",
              "      border-bottom-color: var(--fill-color);\n",
              "    }\n",
              "  }\n",
              "</style>\n",
              "\n",
              "  <script>\n",
              "    async function quickchart(key) {\n",
              "      const quickchartButtonEl =\n",
              "        document.querySelector('#' + key + ' button');\n",
              "      quickchartButtonEl.disabled = true;  // To prevent multiple clicks.\n",
              "      quickchartButtonEl.classList.add('colab-df-spinner');\n",
              "      try {\n",
              "        const charts = await google.colab.kernel.invokeFunction(\n",
              "            'suggestCharts', [key], {});\n",
              "      } catch (error) {\n",
              "        console.error('Error during call to suggestCharts:', error);\n",
              "      }\n",
              "      quickchartButtonEl.classList.remove('colab-df-spinner');\n",
              "      quickchartButtonEl.classList.add('colab-df-quickchart-complete');\n",
              "    }\n",
              "    (() => {\n",
              "      let quickchartButtonEl =\n",
              "        document.querySelector('#df-4fc899b0-3643-4509-880a-4d95feacbb97 button');\n",
              "      quickchartButtonEl.style.display =\n",
              "        google.colab.kernel.accessAllowed ? 'block' : 'none';\n",
              "    })();\n",
              "  </script>\n",
              "</div>\n",
              "\n",
              "  <div id=\"id_eaefc94f-5cc4-4f6d-a007-4599292ce82b\">\n",
              "    <style>\n",
              "      .colab-df-generate {\n",
              "        background-color: #E8F0FE;\n",
              "        border: none;\n",
              "        border-radius: 50%;\n",
              "        cursor: pointer;\n",
              "        display: none;\n",
              "        fill: #1967D2;\n",
              "        height: 32px;\n",
              "        padding: 0 0 0 0;\n",
              "        width: 32px;\n",
              "      }\n",
              "\n",
              "      .colab-df-generate:hover {\n",
              "        background-color: #E2EBFA;\n",
              "        box-shadow: 0px 1px 2px rgba(60, 64, 67, 0.3), 0px 1px 3px 1px rgba(60, 64, 67, 0.15);\n",
              "        fill: #174EA6;\n",
              "      }\n",
              "\n",
              "      [theme=dark] .colab-df-generate {\n",
              "        background-color: #3B4455;\n",
              "        fill: #D2E3FC;\n",
              "      }\n",
              "\n",
              "      [theme=dark] .colab-df-generate:hover {\n",
              "        background-color: #434B5C;\n",
              "        box-shadow: 0px 1px 3px 1px rgba(0, 0, 0, 0.15);\n",
              "        filter: drop-shadow(0px 1px 2px rgba(0, 0, 0, 0.3));\n",
              "        fill: #FFFFFF;\n",
              "      }\n",
              "    </style>\n",
              "    <button class=\"colab-df-generate\" onclick=\"generateWithVariable('X_train')\"\n",
              "            title=\"Generate code using this dataframe.\"\n",
              "            style=\"display:none;\">\n",
              "\n",
              "  <svg xmlns=\"http://www.w3.org/2000/svg\" height=\"24px\"viewBox=\"0 0 24 24\"\n",
              "       width=\"24px\">\n",
              "    <path d=\"M7,19H8.4L18.45,9,17,7.55,7,17.6ZM5,21V16.75L18.45,3.32a2,2,0,0,1,2.83,0l1.4,1.43a1.91,1.91,0,0,1,.58,1.4,1.91,1.91,0,0,1-.58,1.4L9.25,21ZM18.45,9,17,7.55Zm-12,3A5.31,5.31,0,0,0,4.9,8.1,5.31,5.31,0,0,0,1,6.5,5.31,5.31,0,0,0,4.9,4.9,5.31,5.31,0,0,0,6.5,1,5.31,5.31,0,0,0,8.1,4.9,5.31,5.31,0,0,0,12,6.5,5.46,5.46,0,0,0,6.5,12Z\"/>\n",
              "  </svg>\n",
              "    </button>\n",
              "    <script>\n",
              "      (() => {\n",
              "      const buttonEl =\n",
              "        document.querySelector('#id_eaefc94f-5cc4-4f6d-a007-4599292ce82b button.colab-df-generate');\n",
              "      buttonEl.style.display =\n",
              "        google.colab.kernel.accessAllowed ? 'block' : 'none';\n",
              "\n",
              "      buttonEl.onclick = () => {\n",
              "        google.colab.notebook.generateWithVariable('X_train');\n",
              "      }\n",
              "      })();\n",
              "    </script>\n",
              "  </div>\n",
              "\n",
              "    </div>\n",
              "  </div>\n"
            ],
            "application/vnd.google.colaboratory.intrinsic+json": {
              "type": "dataframe",
              "variable_name": "X_train",
              "summary": "{\n  \"name\": \"X_train\",\n  \"rows\": 2800,\n  \"fields\": [\n    {\n      \"column\": \"CRIM\",\n      \"properties\": {\n        \"dtype\": \"number\",\n        \"std\": 2.45620657993754,\n        \"min\": 0.0310930438582509,\n        \"max\": 12.619405277902771,\n        \"num_unique_values\": 2800,\n        \"samples\": [\n          0.7138985650914413,\n          3.772272025221955,\n          0.8823506436919981\n        ],\n        \"semantic_type\": \"\",\n        \"description\": \"\"\n      }\n    },\n    {\n      \"column\": \"ZN\",\n      \"properties\": {\n        \"dtype\": \"number\",\n        \"std\": 23.51941758476855,\n        \"min\": 0.0002814402235964,\n        \"max\": 101.67073973465143,\n        \"num_unique_values\": 2800,\n        \"samples\": [\n          1.0679973179683335,\n          0.1493793494836789,\n          20.664328749092697\n        ],\n        \"semantic_type\": \"\",\n        \"description\": \"\"\n      }\n    },\n    {\n      \"column\": \"INDUS\",\n      \"properties\": {\n        \"dtype\": \"number\",\n        \"std\": 6.846293909782759,\n        \"min\": 0.931082408299152,\n        \"max\": 29.344525676354444,\n        \"num_unique_values\": 2800,\n        \"samples\": [\n          12.469035969333104,\n          20.53344338223429,\n          6.511921047885098\n        ],\n        \"semantic_type\": \"\",\n        \"description\": \"\"\n      }\n    },\n    {\n      \"column\": \"POLINDEX\",\n      \"properties\": {\n        \"dtype\": \"number\",\n        \"std\": 0.6070380998724044,\n        \"min\": 0.4050847999570661,\n        \"max\": 4.156570046265983,\n        \"num_unique_values\": 2800,\n        \"samples\": [\n          2.2444423706688084,\n          1.2415373978452462,\n          1.9965985371075587\n        ],\n        \"semantic_type\": \"\",\n        \"description\": \"\"\n      }\n    },\n    {\n      \"column\": \"RM\",\n      \"properties\": {\n        \"dtype\": \"number\",\n        \"std\": 0.9442316534165205,\n        \"min\": 4.0,\n        \"max\": 11.0,\n        \"num_unique_values\": 8,\n        \"samples\": [\n          8.0,\n          10.0,\n          7.0\n        ],\n        \"semantic_type\": \"\",\n        \"description\": \"\"\n      }\n    },\n    {\n      \"column\": \"AGE\",\n      \"properties\": {\n        \"dtype\": \"number\",\n        \"std\": 28.24169590326954,\n        \"min\": 3.0,\n        \"max\": 103.0,\n        \"num_unique_values\": 100,\n        \"samples\": [\n          21.0,\n          41.0,\n          10.0\n        ],\n        \"semantic_type\": \"\",\n        \"description\": \"\"\n      }\n    },\n    {\n      \"column\": \"DIS\",\n      \"properties\": {\n        \"dtype\": \"number\",\n        \"std\": 2.1831033446414057,\n        \"min\": 1.163081974016663,\n        \"max\": 13.754479513004938,\n        \"num_unique_values\": 2800,\n        \"samples\": [\n          5.3768526429552255,\n          2.4788046759969915,\n          2.3154101042339037\n        ],\n        \"semantic_type\": \"\",\n        \"description\": \"\"\n      }\n    },\n    {\n      \"column\": \"HIGHWAYCOUNT\",\n      \"properties\": {\n        \"dtype\": \"number\",\n        \"std\": 7,\n        \"min\": 1,\n        \"max\": 27,\n        \"num_unique_values\": 15,\n        \"samples\": [\n          8,\n          27,\n          6\n        ],\n        \"semantic_type\": \"\",\n        \"description\": \"\"\n      }\n    },\n    {\n      \"column\": \"TAX\",\n      \"properties\": {\n        \"dtype\": \"number\",\n        \"std\": 150.97655771214855,\n        \"min\": 187.0250989029544,\n        \"max\": 713.0281332130706,\n        \"num_unique_values\": 2800,\n        \"samples\": [\n          277.6834117115836,\n          403.1309619112468,\n          264.7904161561951\n        ],\n        \"semantic_type\": \"\",\n        \"description\": \"\"\n      }\n    },\n    {\n      \"column\": \"PTRATIO\",\n      \"properties\": {\n        \"dtype\": \"number\",\n        \"std\": 2.281591063610995,\n        \"min\": 12.641899141366697,\n        \"max\": 23.846909416649677,\n        \"num_unique_values\": 2800,\n        \"samples\": [\n          18.747031142538237,\n          14.809147518406997,\n          13.636799976084998\n        ],\n        \"semantic_type\": \"\",\n        \"description\": \"\"\n      }\n    },\n    {\n      \"column\": \"IMM\",\n      \"properties\": {\n        \"dtype\": \"number\",\n        \"std\": 65.36141859096143,\n        \"min\": 0.5329802728126296,\n        \"max\": 400.4553304228537,\n        \"num_unique_values\": 2800,\n        \"samples\": [\n          394.9064575278335,\n          88.07654696255794,\n          388.59700887019903\n        ],\n        \"semantic_type\": \"\",\n        \"description\": \"\"\n      }\n    },\n    {\n      \"column\": \"BPL\",\n      \"properties\": {\n        \"dtype\": \"number\",\n        \"std\": 6.107132949735403,\n        \"min\": 1.9862953413087248,\n        \"max\": 35.99728129531004,\n        \"num_unique_values\": 2800,\n        \"samples\": [\n          18.601029935576623,\n          16.07992059625114,\n          7.44094207395538\n        ],\n        \"semantic_type\": \"\",\n        \"description\": \"\"\n      }\n    },\n    {\n      \"column\": \"RIVERSIDE\",\n      \"properties\": {\n        \"dtype\": \"category\",\n        \"num_unique_values\": 2,\n        \"samples\": [\n          \"YES\",\n          \"NO\"\n        ],\n        \"semantic_type\": \"\",\n        \"description\": \"\"\n      }\n    }\n  ]\n}"
            }
          },
          "metadata": {},
          "execution_count": 75
        }
      ]
    },
    {
      "cell_type": "code",
      "source": [
        "# intatiate min max scaler and and simple imputer and others\n",
        "min_max_scaler = MinMaxScaler()\n",
        "simple_imputer = SimpleImputer()"
      ],
      "metadata": {
        "id": "5VRFFV2RVTA3"
      },
      "execution_count": null,
      "outputs": []
    },
    {
      "cell_type": "code",
      "source": [
        "3 # set up seperate pipeline for combined processing\n",
        "mean_impute_min_max = Pipeline([\n",
        "    (\"mean_imputer\", SimpleImputer(strategy = \"mean\")),\n",
        "    (\"min_max_scaler\", min_max_scaler)\n",
        "])\n",
        "\n",
        "median_impute_min_max = Pipeline([\n",
        "    (\"imputer\", SimpleImputer(strategy = \"median\")),\n",
        "    (\"min_max_scaler\", min_max_scaler)\n",
        "])\n",
        "\n",
        "most_frequent_impute_one_hot = Pipeline([\n",
        "    (\"imputer\", SimpleImputer(strategy = \"most_frequent\")),\n",
        "    (\"one_hot_encoder\", OneHotEncoder())\n",
        "])"
      ],
      "metadata": {
        "id": "RMV7ChxlWU5G"
      },
      "execution_count": null,
      "outputs": []
    },
    {
      "cell_type": "markdown",
      "source": [
        "1. Drop CATEGORY column\n",
        "2. CRIM: min max scaling\n",
        "3. ZN: min max scaling\n",
        "4. INDUS: standard scaling\n",
        "5. POLINDEX: min max scaling\n",
        "6. DIS: min max scaling\n",
        "7. HIGHWAYCOUNT: min max scaling\n",
        "8. TAX: min max scaling\n",
        "9. PTRATIO: min max scaling\n",
        "10. IMM: min max scaling\n",
        "11. BPL: min max scaling\n",
        "12. RM: impute with median then min max scaling\n",
        "13. AGE: impute with mean then min max scaling\n",
        "14. RIVERSIDE: Impute with most frequent value then one hot encode."
      ],
      "metadata": {
        "id": "iae5j5-KY7hX"
      }
    },
    {
      "cell_type": "code",
      "source": [
        "# define column transformer\n",
        "processing_pipeline = ColumnTransformer([\n",
        "    (\"min_max_scaling_1\", min_max_scaler, ['CRIM', 'ZN']),\n",
        "    (\"standard_scaling\", StandardScaler(), ['INDUS']),\n",
        "    (\"min_max_scaling_2\", min_max_scaler, ['POLINDEX', 'DIS', 'HIGHWAYCOUNT', 'TAX', 'PTRATIO', 'IMM', 'BPL']),\n",
        "    (\"median_impute_min_max\", median_impute_min_max, ['RM']),\n",
        "    (\"mean_impute_min_max\", mean_impute_min_max, ['AGE']),\n",
        "    (\"most_frequent_impute_one_hot\", most_frequent_impute_one_hot, ['RIVERSIDE'])\n",
        "], remainder = \"passthrough\")"
      ],
      "metadata": {
        "id": "tZUcZg5pVfZ6"
      },
      "execution_count": null,
      "outputs": []
    },
    {
      "cell_type": "code",
      "source": [
        "# see pipeline\n",
        "processing_pipeline"
      ],
      "metadata": {
        "colab": {
          "base_uri": "https://localhost:8080/",
          "height": 247
        },
        "id": "29WjNbjzZKHt",
        "outputId": "5d469250-84b3-4544-c839-cda92a1da802"
      },
      "execution_count": null,
      "outputs": [
        {
          "output_type": "execute_result",
          "data": {
            "text/plain": [
              "ColumnTransformer(remainder='passthrough',\n",
              "                  transformers=[('min_max_scaling_1', MinMaxScaler(),\n",
              "                                 ['CRIM', 'ZN']),\n",
              "                                ('standard_scaling', StandardScaler(),\n",
              "                                 ['INDUS']),\n",
              "                                ('min_max_scaling_2', MinMaxScaler(),\n",
              "                                 ['POLINDEX', 'DIS', 'HIGHWAYCOUNT', 'TAX',\n",
              "                                  'PTRATIO', 'IMM', 'BPL']),\n",
              "                                ('median_impute_min_max',\n",
              "                                 Pipeline(steps=[('imputer',\n",
              "                                                  SimpleImputer(strategy='median')),\n",
              "                                                 ('min_max_scaler',\n",
              "                                                  MinMaxScaler())]),\n",
              "                                 ['RM']),\n",
              "                                ('mean_impute_min_max',\n",
              "                                 Pipeline(steps=[('mean_imputer',\n",
              "                                                  SimpleImputer()),\n",
              "                                                 ('min_max_scaler',\n",
              "                                                  MinMaxScaler())]),\n",
              "                                 ['AGE']),\n",
              "                                ('most_frequent_impute_one_hot',\n",
              "                                 Pipeline(steps=[('imputer',\n",
              "                                                  SimpleImputer(strategy='most_frequent')),\n",
              "                                                 ('one_hot_encoder',\n",
              "                                                  OneHotEncoder())]),\n",
              "                                 ['RIVERSIDE'])])"
            ],
            "text/html": [
              "<style>#sk-container-id-3 {\n",
              "  /* Definition of color scheme common for light and dark mode */\n",
              "  --sklearn-color-text: black;\n",
              "  --sklearn-color-line: gray;\n",
              "  /* Definition of color scheme for unfitted estimators */\n",
              "  --sklearn-color-unfitted-level-0: #fff5e6;\n",
              "  --sklearn-color-unfitted-level-1: #f6e4d2;\n",
              "  --sklearn-color-unfitted-level-2: #ffe0b3;\n",
              "  --sklearn-color-unfitted-level-3: chocolate;\n",
              "  /* Definition of color scheme for fitted estimators */\n",
              "  --sklearn-color-fitted-level-0: #f0f8ff;\n",
              "  --sklearn-color-fitted-level-1: #d4ebff;\n",
              "  --sklearn-color-fitted-level-2: #b3dbfd;\n",
              "  --sklearn-color-fitted-level-3: cornflowerblue;\n",
              "\n",
              "  /* Specific color for light theme */\n",
              "  --sklearn-color-text-on-default-background: var(--sg-text-color, var(--theme-code-foreground, var(--jp-content-font-color1, black)));\n",
              "  --sklearn-color-background: var(--sg-background-color, var(--theme-background, var(--jp-layout-color0, white)));\n",
              "  --sklearn-color-border-box: var(--sg-text-color, var(--theme-code-foreground, var(--jp-content-font-color1, black)));\n",
              "  --sklearn-color-icon: #696969;\n",
              "\n",
              "  @media (prefers-color-scheme: dark) {\n",
              "    /* Redefinition of color scheme for dark theme */\n",
              "    --sklearn-color-text-on-default-background: var(--sg-text-color, var(--theme-code-foreground, var(--jp-content-font-color1, white)));\n",
              "    --sklearn-color-background: var(--sg-background-color, var(--theme-background, var(--jp-layout-color0, #111)));\n",
              "    --sklearn-color-border-box: var(--sg-text-color, var(--theme-code-foreground, var(--jp-content-font-color1, white)));\n",
              "    --sklearn-color-icon: #878787;\n",
              "  }\n",
              "}\n",
              "\n",
              "#sk-container-id-3 {\n",
              "  color: var(--sklearn-color-text);\n",
              "}\n",
              "\n",
              "#sk-container-id-3 pre {\n",
              "  padding: 0;\n",
              "}\n",
              "\n",
              "#sk-container-id-3 input.sk-hidden--visually {\n",
              "  border: 0;\n",
              "  clip: rect(1px 1px 1px 1px);\n",
              "  clip: rect(1px, 1px, 1px, 1px);\n",
              "  height: 1px;\n",
              "  margin: -1px;\n",
              "  overflow: hidden;\n",
              "  padding: 0;\n",
              "  position: absolute;\n",
              "  width: 1px;\n",
              "}\n",
              "\n",
              "#sk-container-id-3 div.sk-dashed-wrapped {\n",
              "  border: 1px dashed var(--sklearn-color-line);\n",
              "  margin: 0 0.4em 0.5em 0.4em;\n",
              "  box-sizing: border-box;\n",
              "  padding-bottom: 0.4em;\n",
              "  background-color: var(--sklearn-color-background);\n",
              "}\n",
              "\n",
              "#sk-container-id-3 div.sk-container {\n",
              "  /* jupyter's `normalize.less` sets `[hidden] { display: none; }`\n",
              "     but bootstrap.min.css set `[hidden] { display: none !important; }`\n",
              "     so we also need the `!important` here to be able to override the\n",
              "     default hidden behavior on the sphinx rendered scikit-learn.org.\n",
              "     See: https://github.com/scikit-learn/scikit-learn/issues/21755 */\n",
              "  display: inline-block !important;\n",
              "  position: relative;\n",
              "}\n",
              "\n",
              "#sk-container-id-3 div.sk-text-repr-fallback {\n",
              "  display: none;\n",
              "}\n",
              "\n",
              "div.sk-parallel-item,\n",
              "div.sk-serial,\n",
              "div.sk-item {\n",
              "  /* draw centered vertical line to link estimators */\n",
              "  background-image: linear-gradient(var(--sklearn-color-text-on-default-background), var(--sklearn-color-text-on-default-background));\n",
              "  background-size: 2px 100%;\n",
              "  background-repeat: no-repeat;\n",
              "  background-position: center center;\n",
              "}\n",
              "\n",
              "/* Parallel-specific style estimator block */\n",
              "\n",
              "#sk-container-id-3 div.sk-parallel-item::after {\n",
              "  content: \"\";\n",
              "  width: 100%;\n",
              "  border-bottom: 2px solid var(--sklearn-color-text-on-default-background);\n",
              "  flex-grow: 1;\n",
              "}\n",
              "\n",
              "#sk-container-id-3 div.sk-parallel {\n",
              "  display: flex;\n",
              "  align-items: stretch;\n",
              "  justify-content: center;\n",
              "  background-color: var(--sklearn-color-background);\n",
              "  position: relative;\n",
              "}\n",
              "\n",
              "#sk-container-id-3 div.sk-parallel-item {\n",
              "  display: flex;\n",
              "  flex-direction: column;\n",
              "}\n",
              "\n",
              "#sk-container-id-3 div.sk-parallel-item:first-child::after {\n",
              "  align-self: flex-end;\n",
              "  width: 50%;\n",
              "}\n",
              "\n",
              "#sk-container-id-3 div.sk-parallel-item:last-child::after {\n",
              "  align-self: flex-start;\n",
              "  width: 50%;\n",
              "}\n",
              "\n",
              "#sk-container-id-3 div.sk-parallel-item:only-child::after {\n",
              "  width: 0;\n",
              "}\n",
              "\n",
              "/* Serial-specific style estimator block */\n",
              "\n",
              "#sk-container-id-3 div.sk-serial {\n",
              "  display: flex;\n",
              "  flex-direction: column;\n",
              "  align-items: center;\n",
              "  background-color: var(--sklearn-color-background);\n",
              "  padding-right: 1em;\n",
              "  padding-left: 1em;\n",
              "}\n",
              "\n",
              "\n",
              "/* Toggleable style: style used for estimator/Pipeline/ColumnTransformer box that is\n",
              "clickable and can be expanded/collapsed.\n",
              "- Pipeline and ColumnTransformer use this feature and define the default style\n",
              "- Estimators will overwrite some part of the style using the `sk-estimator` class\n",
              "*/\n",
              "\n",
              "/* Pipeline and ColumnTransformer style (default) */\n",
              "\n",
              "#sk-container-id-3 div.sk-toggleable {\n",
              "  /* Default theme specific background. It is overwritten whether we have a\n",
              "  specific estimator or a Pipeline/ColumnTransformer */\n",
              "  background-color: var(--sklearn-color-background);\n",
              "}\n",
              "\n",
              "/* Toggleable label */\n",
              "#sk-container-id-3 label.sk-toggleable__label {\n",
              "  cursor: pointer;\n",
              "  display: block;\n",
              "  width: 100%;\n",
              "  margin-bottom: 0;\n",
              "  padding: 0.5em;\n",
              "  box-sizing: border-box;\n",
              "  text-align: center;\n",
              "}\n",
              "\n",
              "#sk-container-id-3 label.sk-toggleable__label-arrow:before {\n",
              "  /* Arrow on the left of the label */\n",
              "  content: \"▸\";\n",
              "  float: left;\n",
              "  margin-right: 0.25em;\n",
              "  color: var(--sklearn-color-icon);\n",
              "}\n",
              "\n",
              "#sk-container-id-3 label.sk-toggleable__label-arrow:hover:before {\n",
              "  color: var(--sklearn-color-text);\n",
              "}\n",
              "\n",
              "/* Toggleable content - dropdown */\n",
              "\n",
              "#sk-container-id-3 div.sk-toggleable__content {\n",
              "  max-height: 0;\n",
              "  max-width: 0;\n",
              "  overflow: hidden;\n",
              "  text-align: left;\n",
              "  /* unfitted */\n",
              "  background-color: var(--sklearn-color-unfitted-level-0);\n",
              "}\n",
              "\n",
              "#sk-container-id-3 div.sk-toggleable__content.fitted {\n",
              "  /* fitted */\n",
              "  background-color: var(--sklearn-color-fitted-level-0);\n",
              "}\n",
              "\n",
              "#sk-container-id-3 div.sk-toggleable__content pre {\n",
              "  margin: 0.2em;\n",
              "  border-radius: 0.25em;\n",
              "  color: var(--sklearn-color-text);\n",
              "  /* unfitted */\n",
              "  background-color: var(--sklearn-color-unfitted-level-0);\n",
              "}\n",
              "\n",
              "#sk-container-id-3 div.sk-toggleable__content.fitted pre {\n",
              "  /* unfitted */\n",
              "  background-color: var(--sklearn-color-fitted-level-0);\n",
              "}\n",
              "\n",
              "#sk-container-id-3 input.sk-toggleable__control:checked~div.sk-toggleable__content {\n",
              "  /* Expand drop-down */\n",
              "  max-height: 200px;\n",
              "  max-width: 100%;\n",
              "  overflow: auto;\n",
              "}\n",
              "\n",
              "#sk-container-id-3 input.sk-toggleable__control:checked~label.sk-toggleable__label-arrow:before {\n",
              "  content: \"▾\";\n",
              "}\n",
              "\n",
              "/* Pipeline/ColumnTransformer-specific style */\n",
              "\n",
              "#sk-container-id-3 div.sk-label input.sk-toggleable__control:checked~label.sk-toggleable__label {\n",
              "  color: var(--sklearn-color-text);\n",
              "  background-color: var(--sklearn-color-unfitted-level-2);\n",
              "}\n",
              "\n",
              "#sk-container-id-3 div.sk-label.fitted input.sk-toggleable__control:checked~label.sk-toggleable__label {\n",
              "  background-color: var(--sklearn-color-fitted-level-2);\n",
              "}\n",
              "\n",
              "/* Estimator-specific style */\n",
              "\n",
              "/* Colorize estimator box */\n",
              "#sk-container-id-3 div.sk-estimator input.sk-toggleable__control:checked~label.sk-toggleable__label {\n",
              "  /* unfitted */\n",
              "  background-color: var(--sklearn-color-unfitted-level-2);\n",
              "}\n",
              "\n",
              "#sk-container-id-3 div.sk-estimator.fitted input.sk-toggleable__control:checked~label.sk-toggleable__label {\n",
              "  /* fitted */\n",
              "  background-color: var(--sklearn-color-fitted-level-2);\n",
              "}\n",
              "\n",
              "#sk-container-id-3 div.sk-label label.sk-toggleable__label,\n",
              "#sk-container-id-3 div.sk-label label {\n",
              "  /* The background is the default theme color */\n",
              "  color: var(--sklearn-color-text-on-default-background);\n",
              "}\n",
              "\n",
              "/* On hover, darken the color of the background */\n",
              "#sk-container-id-3 div.sk-label:hover label.sk-toggleable__label {\n",
              "  color: var(--sklearn-color-text);\n",
              "  background-color: var(--sklearn-color-unfitted-level-2);\n",
              "}\n",
              "\n",
              "/* Label box, darken color on hover, fitted */\n",
              "#sk-container-id-3 div.sk-label.fitted:hover label.sk-toggleable__label.fitted {\n",
              "  color: var(--sklearn-color-text);\n",
              "  background-color: var(--sklearn-color-fitted-level-2);\n",
              "}\n",
              "\n",
              "/* Estimator label */\n",
              "\n",
              "#sk-container-id-3 div.sk-label label {\n",
              "  font-family: monospace;\n",
              "  font-weight: bold;\n",
              "  display: inline-block;\n",
              "  line-height: 1.2em;\n",
              "}\n",
              "\n",
              "#sk-container-id-3 div.sk-label-container {\n",
              "  text-align: center;\n",
              "}\n",
              "\n",
              "/* Estimator-specific */\n",
              "#sk-container-id-3 div.sk-estimator {\n",
              "  font-family: monospace;\n",
              "  border: 1px dotted var(--sklearn-color-border-box);\n",
              "  border-radius: 0.25em;\n",
              "  box-sizing: border-box;\n",
              "  margin-bottom: 0.5em;\n",
              "  /* unfitted */\n",
              "  background-color: var(--sklearn-color-unfitted-level-0);\n",
              "}\n",
              "\n",
              "#sk-container-id-3 div.sk-estimator.fitted {\n",
              "  /* fitted */\n",
              "  background-color: var(--sklearn-color-fitted-level-0);\n",
              "}\n",
              "\n",
              "/* on hover */\n",
              "#sk-container-id-3 div.sk-estimator:hover {\n",
              "  /* unfitted */\n",
              "  background-color: var(--sklearn-color-unfitted-level-2);\n",
              "}\n",
              "\n",
              "#sk-container-id-3 div.sk-estimator.fitted:hover {\n",
              "  /* fitted */\n",
              "  background-color: var(--sklearn-color-fitted-level-2);\n",
              "}\n",
              "\n",
              "/* Specification for estimator info (e.g. \"i\" and \"?\") */\n",
              "\n",
              "/* Common style for \"i\" and \"?\" */\n",
              "\n",
              ".sk-estimator-doc-link,\n",
              "a:link.sk-estimator-doc-link,\n",
              "a:visited.sk-estimator-doc-link {\n",
              "  float: right;\n",
              "  font-size: smaller;\n",
              "  line-height: 1em;\n",
              "  font-family: monospace;\n",
              "  background-color: var(--sklearn-color-background);\n",
              "  border-radius: 1em;\n",
              "  height: 1em;\n",
              "  width: 1em;\n",
              "  text-decoration: none !important;\n",
              "  margin-left: 1ex;\n",
              "  /* unfitted */\n",
              "  border: var(--sklearn-color-unfitted-level-1) 1pt solid;\n",
              "  color: var(--sklearn-color-unfitted-level-1);\n",
              "}\n",
              "\n",
              ".sk-estimator-doc-link.fitted,\n",
              "a:link.sk-estimator-doc-link.fitted,\n",
              "a:visited.sk-estimator-doc-link.fitted {\n",
              "  /* fitted */\n",
              "  border: var(--sklearn-color-fitted-level-1) 1pt solid;\n",
              "  color: var(--sklearn-color-fitted-level-1);\n",
              "}\n",
              "\n",
              "/* On hover */\n",
              "div.sk-estimator:hover .sk-estimator-doc-link:hover,\n",
              ".sk-estimator-doc-link:hover,\n",
              "div.sk-label-container:hover .sk-estimator-doc-link:hover,\n",
              ".sk-estimator-doc-link:hover {\n",
              "  /* unfitted */\n",
              "  background-color: var(--sklearn-color-unfitted-level-3);\n",
              "  color: var(--sklearn-color-background);\n",
              "  text-decoration: none;\n",
              "}\n",
              "\n",
              "div.sk-estimator.fitted:hover .sk-estimator-doc-link.fitted:hover,\n",
              ".sk-estimator-doc-link.fitted:hover,\n",
              "div.sk-label-container:hover .sk-estimator-doc-link.fitted:hover,\n",
              ".sk-estimator-doc-link.fitted:hover {\n",
              "  /* fitted */\n",
              "  background-color: var(--sklearn-color-fitted-level-3);\n",
              "  color: var(--sklearn-color-background);\n",
              "  text-decoration: none;\n",
              "}\n",
              "\n",
              "/* Span, style for the box shown on hovering the info icon */\n",
              ".sk-estimator-doc-link span {\n",
              "  display: none;\n",
              "  z-index: 9999;\n",
              "  position: relative;\n",
              "  font-weight: normal;\n",
              "  right: .2ex;\n",
              "  padding: .5ex;\n",
              "  margin: .5ex;\n",
              "  width: min-content;\n",
              "  min-width: 20ex;\n",
              "  max-width: 50ex;\n",
              "  color: var(--sklearn-color-text);\n",
              "  box-shadow: 2pt 2pt 4pt #999;\n",
              "  /* unfitted */\n",
              "  background: var(--sklearn-color-unfitted-level-0);\n",
              "  border: .5pt solid var(--sklearn-color-unfitted-level-3);\n",
              "}\n",
              "\n",
              ".sk-estimator-doc-link.fitted span {\n",
              "  /* fitted */\n",
              "  background: var(--sklearn-color-fitted-level-0);\n",
              "  border: var(--sklearn-color-fitted-level-3);\n",
              "}\n",
              "\n",
              ".sk-estimator-doc-link:hover span {\n",
              "  display: block;\n",
              "}\n",
              "\n",
              "/* \"?\"-specific style due to the `<a>` HTML tag */\n",
              "\n",
              "#sk-container-id-3 a.estimator_doc_link {\n",
              "  float: right;\n",
              "  font-size: 1rem;\n",
              "  line-height: 1em;\n",
              "  font-family: monospace;\n",
              "  background-color: var(--sklearn-color-background);\n",
              "  border-radius: 1rem;\n",
              "  height: 1rem;\n",
              "  width: 1rem;\n",
              "  text-decoration: none;\n",
              "  /* unfitted */\n",
              "  color: var(--sklearn-color-unfitted-level-1);\n",
              "  border: var(--sklearn-color-unfitted-level-1) 1pt solid;\n",
              "}\n",
              "\n",
              "#sk-container-id-3 a.estimator_doc_link.fitted {\n",
              "  /* fitted */\n",
              "  border: var(--sklearn-color-fitted-level-1) 1pt solid;\n",
              "  color: var(--sklearn-color-fitted-level-1);\n",
              "}\n",
              "\n",
              "/* On hover */\n",
              "#sk-container-id-3 a.estimator_doc_link:hover {\n",
              "  /* unfitted */\n",
              "  background-color: var(--sklearn-color-unfitted-level-3);\n",
              "  color: var(--sklearn-color-background);\n",
              "  text-decoration: none;\n",
              "}\n",
              "\n",
              "#sk-container-id-3 a.estimator_doc_link.fitted:hover {\n",
              "  /* fitted */\n",
              "  background-color: var(--sklearn-color-fitted-level-3);\n",
              "}\n",
              "</style><div id=\"sk-container-id-3\" class=\"sk-top-container\"><div class=\"sk-text-repr-fallback\"><pre>ColumnTransformer(remainder=&#x27;passthrough&#x27;,\n",
              "                  transformers=[(&#x27;min_max_scaling_1&#x27;, MinMaxScaler(),\n",
              "                                 [&#x27;CRIM&#x27;, &#x27;ZN&#x27;]),\n",
              "                                (&#x27;standard_scaling&#x27;, StandardScaler(),\n",
              "                                 [&#x27;INDUS&#x27;]),\n",
              "                                (&#x27;min_max_scaling_2&#x27;, MinMaxScaler(),\n",
              "                                 [&#x27;POLINDEX&#x27;, &#x27;DIS&#x27;, &#x27;HIGHWAYCOUNT&#x27;, &#x27;TAX&#x27;,\n",
              "                                  &#x27;PTRATIO&#x27;, &#x27;IMM&#x27;, &#x27;BPL&#x27;]),\n",
              "                                (&#x27;median_impute_min_max&#x27;,\n",
              "                                 Pipeline(steps=[(&#x27;imputer&#x27;,\n",
              "                                                  SimpleImputer(strategy=&#x27;median&#x27;)),\n",
              "                                                 (&#x27;min_max_scaler&#x27;,\n",
              "                                                  MinMaxScaler())]),\n",
              "                                 [&#x27;RM&#x27;]),\n",
              "                                (&#x27;mean_impute_min_max&#x27;,\n",
              "                                 Pipeline(steps=[(&#x27;mean_imputer&#x27;,\n",
              "                                                  SimpleImputer()),\n",
              "                                                 (&#x27;min_max_scaler&#x27;,\n",
              "                                                  MinMaxScaler())]),\n",
              "                                 [&#x27;AGE&#x27;]),\n",
              "                                (&#x27;most_frequent_impute_one_hot&#x27;,\n",
              "                                 Pipeline(steps=[(&#x27;imputer&#x27;,\n",
              "                                                  SimpleImputer(strategy=&#x27;most_frequent&#x27;)),\n",
              "                                                 (&#x27;one_hot_encoder&#x27;,\n",
              "                                                  OneHotEncoder())]),\n",
              "                                 [&#x27;RIVERSIDE&#x27;])])</pre><b>In a Jupyter environment, please rerun this cell to show the HTML representation or trust the notebook. <br />On GitHub, the HTML representation is unable to render, please try loading this page with nbviewer.org.</b></div><div class=\"sk-container\" hidden><div class=\"sk-item sk-dashed-wrapped\"><div class=\"sk-label-container\"><div class=\"sk-label  sk-toggleable\"><input class=\"sk-toggleable__control sk-hidden--visually\" id=\"sk-estimator-id-37\" type=\"checkbox\" ><label for=\"sk-estimator-id-37\" class=\"sk-toggleable__label  sk-toggleable__label-arrow \">&nbsp;&nbsp;ColumnTransformer<a class=\"sk-estimator-doc-link \" rel=\"noreferrer\" target=\"_blank\" href=\"https://scikit-learn.org/1.5/modules/generated/sklearn.compose.ColumnTransformer.html\">?<span>Documentation for ColumnTransformer</span></a><span class=\"sk-estimator-doc-link \">i<span>Not fitted</span></span></label><div class=\"sk-toggleable__content \"><pre>ColumnTransformer(remainder=&#x27;passthrough&#x27;,\n",
              "                  transformers=[(&#x27;min_max_scaling_1&#x27;, MinMaxScaler(),\n",
              "                                 [&#x27;CRIM&#x27;, &#x27;ZN&#x27;]),\n",
              "                                (&#x27;standard_scaling&#x27;, StandardScaler(),\n",
              "                                 [&#x27;INDUS&#x27;]),\n",
              "                                (&#x27;min_max_scaling_2&#x27;, MinMaxScaler(),\n",
              "                                 [&#x27;POLINDEX&#x27;, &#x27;DIS&#x27;, &#x27;HIGHWAYCOUNT&#x27;, &#x27;TAX&#x27;,\n",
              "                                  &#x27;PTRATIO&#x27;, &#x27;IMM&#x27;, &#x27;BPL&#x27;]),\n",
              "                                (&#x27;median_impute_min_max&#x27;,\n",
              "                                 Pipeline(steps=[(&#x27;imputer&#x27;,\n",
              "                                                  SimpleImputer(strategy=&#x27;median&#x27;)),\n",
              "                                                 (&#x27;min_max_scaler&#x27;,\n",
              "                                                  MinMaxScaler())]),\n",
              "                                 [&#x27;RM&#x27;]),\n",
              "                                (&#x27;mean_impute_min_max&#x27;,\n",
              "                                 Pipeline(steps=[(&#x27;mean_imputer&#x27;,\n",
              "                                                  SimpleImputer()),\n",
              "                                                 (&#x27;min_max_scaler&#x27;,\n",
              "                                                  MinMaxScaler())]),\n",
              "                                 [&#x27;AGE&#x27;]),\n",
              "                                (&#x27;most_frequent_impute_one_hot&#x27;,\n",
              "                                 Pipeline(steps=[(&#x27;imputer&#x27;,\n",
              "                                                  SimpleImputer(strategy=&#x27;most_frequent&#x27;)),\n",
              "                                                 (&#x27;one_hot_encoder&#x27;,\n",
              "                                                  OneHotEncoder())]),\n",
              "                                 [&#x27;RIVERSIDE&#x27;])])</pre></div> </div></div><div class=\"sk-parallel\"><div class=\"sk-parallel-item\"><div class=\"sk-item\"><div class=\"sk-label-container\"><div class=\"sk-label  sk-toggleable\"><input class=\"sk-toggleable__control sk-hidden--visually\" id=\"sk-estimator-id-38\" type=\"checkbox\" ><label for=\"sk-estimator-id-38\" class=\"sk-toggleable__label  sk-toggleable__label-arrow \">min_max_scaling_1</label><div class=\"sk-toggleable__content \"><pre>[&#x27;CRIM&#x27;, &#x27;ZN&#x27;]</pre></div> </div></div><div class=\"sk-serial\"><div class=\"sk-item\"><div class=\"sk-estimator  sk-toggleable\"><input class=\"sk-toggleable__control sk-hidden--visually\" id=\"sk-estimator-id-39\" type=\"checkbox\" ><label for=\"sk-estimator-id-39\" class=\"sk-toggleable__label  sk-toggleable__label-arrow \">&nbsp;MinMaxScaler<a class=\"sk-estimator-doc-link \" rel=\"noreferrer\" target=\"_blank\" href=\"https://scikit-learn.org/1.5/modules/generated/sklearn.preprocessing.MinMaxScaler.html\">?<span>Documentation for MinMaxScaler</span></a></label><div class=\"sk-toggleable__content \"><pre>MinMaxScaler()</pre></div> </div></div></div></div></div><div class=\"sk-parallel-item\"><div class=\"sk-item\"><div class=\"sk-label-container\"><div class=\"sk-label  sk-toggleable\"><input class=\"sk-toggleable__control sk-hidden--visually\" id=\"sk-estimator-id-40\" type=\"checkbox\" ><label for=\"sk-estimator-id-40\" class=\"sk-toggleable__label  sk-toggleable__label-arrow \">standard_scaling</label><div class=\"sk-toggleable__content \"><pre>[&#x27;INDUS&#x27;]</pre></div> </div></div><div class=\"sk-serial\"><div class=\"sk-item\"><div class=\"sk-estimator  sk-toggleable\"><input class=\"sk-toggleable__control sk-hidden--visually\" id=\"sk-estimator-id-41\" type=\"checkbox\" ><label for=\"sk-estimator-id-41\" class=\"sk-toggleable__label  sk-toggleable__label-arrow \">&nbsp;StandardScaler<a class=\"sk-estimator-doc-link \" rel=\"noreferrer\" target=\"_blank\" href=\"https://scikit-learn.org/1.5/modules/generated/sklearn.preprocessing.StandardScaler.html\">?<span>Documentation for StandardScaler</span></a></label><div class=\"sk-toggleable__content \"><pre>StandardScaler()</pre></div> </div></div></div></div></div><div class=\"sk-parallel-item\"><div class=\"sk-item\"><div class=\"sk-label-container\"><div class=\"sk-label  sk-toggleable\"><input class=\"sk-toggleable__control sk-hidden--visually\" id=\"sk-estimator-id-42\" type=\"checkbox\" ><label for=\"sk-estimator-id-42\" class=\"sk-toggleable__label  sk-toggleable__label-arrow \">min_max_scaling_2</label><div class=\"sk-toggleable__content \"><pre>[&#x27;POLINDEX&#x27;, &#x27;DIS&#x27;, &#x27;HIGHWAYCOUNT&#x27;, &#x27;TAX&#x27;, &#x27;PTRATIO&#x27;, &#x27;IMM&#x27;, &#x27;BPL&#x27;]</pre></div> </div></div><div class=\"sk-serial\"><div class=\"sk-item\"><div class=\"sk-estimator  sk-toggleable\"><input class=\"sk-toggleable__control sk-hidden--visually\" id=\"sk-estimator-id-43\" type=\"checkbox\" ><label for=\"sk-estimator-id-43\" class=\"sk-toggleable__label  sk-toggleable__label-arrow \">&nbsp;MinMaxScaler<a class=\"sk-estimator-doc-link \" rel=\"noreferrer\" target=\"_blank\" href=\"https://scikit-learn.org/1.5/modules/generated/sklearn.preprocessing.MinMaxScaler.html\">?<span>Documentation for MinMaxScaler</span></a></label><div class=\"sk-toggleable__content \"><pre>MinMaxScaler()</pre></div> </div></div></div></div></div><div class=\"sk-parallel-item\"><div class=\"sk-item\"><div class=\"sk-label-container\"><div class=\"sk-label  sk-toggleable\"><input class=\"sk-toggleable__control sk-hidden--visually\" id=\"sk-estimator-id-44\" type=\"checkbox\" ><label for=\"sk-estimator-id-44\" class=\"sk-toggleable__label  sk-toggleable__label-arrow \">median_impute_min_max</label><div class=\"sk-toggleable__content \"><pre>[&#x27;RM&#x27;]</pre></div> </div></div><div class=\"sk-serial\"><div class=\"sk-item\"><div class=\"sk-serial\"><div class=\"sk-item\"><div class=\"sk-estimator  sk-toggleable\"><input class=\"sk-toggleable__control sk-hidden--visually\" id=\"sk-estimator-id-45\" type=\"checkbox\" ><label for=\"sk-estimator-id-45\" class=\"sk-toggleable__label  sk-toggleable__label-arrow \">&nbsp;SimpleImputer<a class=\"sk-estimator-doc-link \" rel=\"noreferrer\" target=\"_blank\" href=\"https://scikit-learn.org/1.5/modules/generated/sklearn.impute.SimpleImputer.html\">?<span>Documentation for SimpleImputer</span></a></label><div class=\"sk-toggleable__content \"><pre>SimpleImputer(strategy=&#x27;median&#x27;)</pre></div> </div></div><div class=\"sk-item\"><div class=\"sk-estimator  sk-toggleable\"><input class=\"sk-toggleable__control sk-hidden--visually\" id=\"sk-estimator-id-46\" type=\"checkbox\" ><label for=\"sk-estimator-id-46\" class=\"sk-toggleable__label  sk-toggleable__label-arrow \">&nbsp;MinMaxScaler<a class=\"sk-estimator-doc-link \" rel=\"noreferrer\" target=\"_blank\" href=\"https://scikit-learn.org/1.5/modules/generated/sklearn.preprocessing.MinMaxScaler.html\">?<span>Documentation for MinMaxScaler</span></a></label><div class=\"sk-toggleable__content \"><pre>MinMaxScaler()</pre></div> </div></div></div></div></div></div></div><div class=\"sk-parallel-item\"><div class=\"sk-item\"><div class=\"sk-label-container\"><div class=\"sk-label  sk-toggleable\"><input class=\"sk-toggleable__control sk-hidden--visually\" id=\"sk-estimator-id-47\" type=\"checkbox\" ><label for=\"sk-estimator-id-47\" class=\"sk-toggleable__label  sk-toggleable__label-arrow \">mean_impute_min_max</label><div class=\"sk-toggleable__content \"><pre>[&#x27;AGE&#x27;]</pre></div> </div></div><div class=\"sk-serial\"><div class=\"sk-item\"><div class=\"sk-serial\"><div class=\"sk-item\"><div class=\"sk-estimator  sk-toggleable\"><input class=\"sk-toggleable__control sk-hidden--visually\" id=\"sk-estimator-id-48\" type=\"checkbox\" ><label for=\"sk-estimator-id-48\" class=\"sk-toggleable__label  sk-toggleable__label-arrow \">&nbsp;SimpleImputer<a class=\"sk-estimator-doc-link \" rel=\"noreferrer\" target=\"_blank\" href=\"https://scikit-learn.org/1.5/modules/generated/sklearn.impute.SimpleImputer.html\">?<span>Documentation for SimpleImputer</span></a></label><div class=\"sk-toggleable__content \"><pre>SimpleImputer()</pre></div> </div></div><div class=\"sk-item\"><div class=\"sk-estimator  sk-toggleable\"><input class=\"sk-toggleable__control sk-hidden--visually\" id=\"sk-estimator-id-49\" type=\"checkbox\" ><label for=\"sk-estimator-id-49\" class=\"sk-toggleable__label  sk-toggleable__label-arrow \">&nbsp;MinMaxScaler<a class=\"sk-estimator-doc-link \" rel=\"noreferrer\" target=\"_blank\" href=\"https://scikit-learn.org/1.5/modules/generated/sklearn.preprocessing.MinMaxScaler.html\">?<span>Documentation for MinMaxScaler</span></a></label><div class=\"sk-toggleable__content \"><pre>MinMaxScaler()</pre></div> </div></div></div></div></div></div></div><div class=\"sk-parallel-item\"><div class=\"sk-item\"><div class=\"sk-label-container\"><div class=\"sk-label  sk-toggleable\"><input class=\"sk-toggleable__control sk-hidden--visually\" id=\"sk-estimator-id-50\" type=\"checkbox\" ><label for=\"sk-estimator-id-50\" class=\"sk-toggleable__label  sk-toggleable__label-arrow \">most_frequent_impute_one_hot</label><div class=\"sk-toggleable__content \"><pre>[&#x27;RIVERSIDE&#x27;]</pre></div> </div></div><div class=\"sk-serial\"><div class=\"sk-item\"><div class=\"sk-serial\"><div class=\"sk-item\"><div class=\"sk-estimator  sk-toggleable\"><input class=\"sk-toggleable__control sk-hidden--visually\" id=\"sk-estimator-id-51\" type=\"checkbox\" ><label for=\"sk-estimator-id-51\" class=\"sk-toggleable__label  sk-toggleable__label-arrow \">&nbsp;SimpleImputer<a class=\"sk-estimator-doc-link \" rel=\"noreferrer\" target=\"_blank\" href=\"https://scikit-learn.org/1.5/modules/generated/sklearn.impute.SimpleImputer.html\">?<span>Documentation for SimpleImputer</span></a></label><div class=\"sk-toggleable__content \"><pre>SimpleImputer(strategy=&#x27;most_frequent&#x27;)</pre></div> </div></div><div class=\"sk-item\"><div class=\"sk-estimator  sk-toggleable\"><input class=\"sk-toggleable__control sk-hidden--visually\" id=\"sk-estimator-id-52\" type=\"checkbox\" ><label for=\"sk-estimator-id-52\" class=\"sk-toggleable__label  sk-toggleable__label-arrow \">&nbsp;OneHotEncoder<a class=\"sk-estimator-doc-link \" rel=\"noreferrer\" target=\"_blank\" href=\"https://scikit-learn.org/1.5/modules/generated/sklearn.preprocessing.OneHotEncoder.html\">?<span>Documentation for OneHotEncoder</span></a></label><div class=\"sk-toggleable__content \"><pre>OneHotEncoder()</pre></div> </div></div></div></div></div></div></div><div class=\"sk-parallel-item\"><div class=\"sk-item\"><div class=\"sk-label-container\"><div class=\"sk-label  sk-toggleable\"><input class=\"sk-toggleable__control sk-hidden--visually\" id=\"sk-estimator-id-53\" type=\"checkbox\" ><label for=\"sk-estimator-id-53\" class=\"sk-toggleable__label  sk-toggleable__label-arrow \">remainder</label><div class=\"sk-toggleable__content \"><pre></pre></div> </div></div><div class=\"sk-serial\"><div class=\"sk-item\"><div class=\"sk-estimator  sk-toggleable\"><input class=\"sk-toggleable__control sk-hidden--visually\" id=\"sk-estimator-id-54\" type=\"checkbox\" ><label for=\"sk-estimator-id-54\" class=\"sk-toggleable__label  sk-toggleable__label-arrow \">passthrough</label><div class=\"sk-toggleable__content \"><pre>passthrough</pre></div> </div></div></div></div></div></div></div></div></div>"
            ]
          },
          "metadata": {},
          "execution_count": 79
        }
      ]
    },
    {
      "cell_type": "code",
      "source": [
        "# fit the transformer\n",
        "df_processed = processing_pipeline.fit_transform(X_train)"
      ],
      "metadata": {
        "id": "eNbsfuvKZVI5"
      },
      "execution_count": null,
      "outputs": []
    },
    {
      "cell_type": "code",
      "source": [
        "# get no of features\n",
        "df_processed.shape"
      ],
      "metadata": {
        "colab": {
          "base_uri": "https://localhost:8080/"
        },
        "id": "bs2QNQZwZlCP",
        "outputId": "be8e3e75-81a6-4047-fb0d-f1f996ce8b8b"
      },
      "execution_count": null,
      "outputs": [
        {
          "output_type": "execute_result",
          "data": {
            "text/plain": [
              "(2800, 14)"
            ]
          },
          "metadata": {},
          "execution_count": 81
        }
      ]
    },
    {
      "cell_type": "markdown",
      "source": [
        "## Q14"
      ],
      "metadata": {
        "id": "WTvBHULPZ6-5"
      }
    },
    {
      "cell_type": "markdown",
      "source": [
        "What is the mean of the transformed test data (features only)?\n",
        "Note : Compute the mean of the whole feature matrix i.e. mean of all values in the transformed test feature matrix\n"
      ],
      "metadata": {
        "id": "iGPqp7nkZ-JD"
      }
    },
    {
      "cell_type": "code",
      "source": [
        "# apply the pipeline to test data\n",
        "X_test_processed = processing_pipeline.transform(X_test)"
      ],
      "metadata": {
        "id": "1Y9gfgbPZmXg"
      },
      "execution_count": null,
      "outputs": []
    },
    {
      "cell_type": "code",
      "source": [
        "X_test_processed.mean()"
      ],
      "metadata": {
        "colab": {
          "base_uri": "https://localhost:8080/"
        },
        "id": "EDmrCygMaLpZ",
        "outputId": "be9d5602-4230-424e-d590-d6cad2d46a5f"
      },
      "execution_count": null,
      "outputs": [
        {
          "output_type": "execute_result",
          "data": {
            "text/plain": [
              "0.3861745655097562"
            ]
          },
          "metadata": {},
          "execution_count": 83
        }
      ]
    }
  ]
}